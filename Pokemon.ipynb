{
 "cells": [
  {
   "cell_type": "code",
   "execution_count": 1,
   "metadata": {},
   "outputs": [],
   "source": [
    "import numpy as np \n",
    "import pandas as pd\n",
    "\n",
    "import matplotlib.pyplot as plt\n",
    "import seaborn as sns\n",
    "import plotly.graph_objs as go\n",
    "\n",
    "%matplotlib inline\n",
    "import warnings\n",
    "warnings.filterwarnings('ignore')"
   ]
  },
  {
   "cell_type": "code",
   "execution_count": 2,
   "metadata": {},
   "outputs": [],
   "source": [
    "df = pd.read_csv(r\"E:\\FILES\\New folder\\Excel Tutioral\\New Datasets\\The Complete Pokemon Dataset\\Pokemon.csv\", index_col=0)"
   ]
  },
  {
   "cell_type": "code",
   "execution_count": 3,
   "metadata": {},
   "outputs": [
    {
     "data": {
      "text/html": [
       "<div>\n",
       "<style scoped>\n",
       "    .dataframe tbody tr th:only-of-type {\n",
       "        vertical-align: middle;\n",
       "    }\n",
       "\n",
       "    .dataframe tbody tr th {\n",
       "        vertical-align: top;\n",
       "    }\n",
       "\n",
       "    .dataframe thead th {\n",
       "        text-align: right;\n",
       "    }\n",
       "</style>\n",
       "<table border=\"1\" class=\"dataframe\">\n",
       "  <thead>\n",
       "    <tr style=\"text-align: right;\">\n",
       "      <th></th>\n",
       "      <th>name</th>\n",
       "      <th>type1</th>\n",
       "      <th>type2</th>\n",
       "      <th>total</th>\n",
       "      <th>hp</th>\n",
       "      <th>attack</th>\n",
       "      <th>defense</th>\n",
       "      <th>sp_attack</th>\n",
       "      <th>sp_defense</th>\n",
       "      <th>speed</th>\n",
       "      <th>generation</th>\n",
       "      <th>legendary</th>\n",
       "    </tr>\n",
       "    <tr>\n",
       "      <th>number</th>\n",
       "      <th></th>\n",
       "      <th></th>\n",
       "      <th></th>\n",
       "      <th></th>\n",
       "      <th></th>\n",
       "      <th></th>\n",
       "      <th></th>\n",
       "      <th></th>\n",
       "      <th></th>\n",
       "      <th></th>\n",
       "      <th></th>\n",
       "      <th></th>\n",
       "    </tr>\n",
       "  </thead>\n",
       "  <tbody>\n",
       "    <tr>\n",
       "      <th>1</th>\n",
       "      <td>Bulbasaur</td>\n",
       "      <td>Grass</td>\n",
       "      <td>Poison</td>\n",
       "      <td>318</td>\n",
       "      <td>45</td>\n",
       "      <td>49</td>\n",
       "      <td>49</td>\n",
       "      <td>65</td>\n",
       "      <td>65</td>\n",
       "      <td>45</td>\n",
       "      <td>1</td>\n",
       "      <td>False</td>\n",
       "    </tr>\n",
       "    <tr>\n",
       "      <th>2</th>\n",
       "      <td>Ivysaur</td>\n",
       "      <td>Grass</td>\n",
       "      <td>Poison</td>\n",
       "      <td>405</td>\n",
       "      <td>60</td>\n",
       "      <td>62</td>\n",
       "      <td>63</td>\n",
       "      <td>80</td>\n",
       "      <td>80</td>\n",
       "      <td>60</td>\n",
       "      <td>1</td>\n",
       "      <td>False</td>\n",
       "    </tr>\n",
       "    <tr>\n",
       "      <th>3</th>\n",
       "      <td>Venusaur</td>\n",
       "      <td>Grass</td>\n",
       "      <td>Poison</td>\n",
       "      <td>525</td>\n",
       "      <td>80</td>\n",
       "      <td>82</td>\n",
       "      <td>83</td>\n",
       "      <td>100</td>\n",
       "      <td>100</td>\n",
       "      <td>80</td>\n",
       "      <td>1</td>\n",
       "      <td>False</td>\n",
       "    </tr>\n",
       "    <tr>\n",
       "      <th>3</th>\n",
       "      <td>Mega Venusaur</td>\n",
       "      <td>Grass</td>\n",
       "      <td>Poison</td>\n",
       "      <td>625</td>\n",
       "      <td>80</td>\n",
       "      <td>100</td>\n",
       "      <td>123</td>\n",
       "      <td>122</td>\n",
       "      <td>120</td>\n",
       "      <td>80</td>\n",
       "      <td>1</td>\n",
       "      <td>False</td>\n",
       "    </tr>\n",
       "    <tr>\n",
       "      <th>3</th>\n",
       "      <td>Gigantamax Venusaur</td>\n",
       "      <td>Grass</td>\n",
       "      <td>Poison</td>\n",
       "      <td>525</td>\n",
       "      <td>80</td>\n",
       "      <td>82</td>\n",
       "      <td>83</td>\n",
       "      <td>100</td>\n",
       "      <td>100</td>\n",
       "      <td>80</td>\n",
       "      <td>1</td>\n",
       "      <td>False</td>\n",
       "    </tr>\n",
       "  </tbody>\n",
       "</table>\n",
       "</div>"
      ],
      "text/plain": [
       "                       name  type1   type2  total  hp  attack  defense  \\\n",
       "number                                                                   \n",
       "1                 Bulbasaur  Grass  Poison    318  45      49       49   \n",
       "2                   Ivysaur  Grass  Poison    405  60      62       63   \n",
       "3                  Venusaur  Grass  Poison    525  80      82       83   \n",
       "3             Mega Venusaur  Grass  Poison    625  80     100      123   \n",
       "3       Gigantamax Venusaur  Grass  Poison    525  80      82       83   \n",
       "\n",
       "        sp_attack  sp_defense  speed  generation  legendary  \n",
       "number                                                       \n",
       "1              65          65     45           1      False  \n",
       "2              80          80     60           1      False  \n",
       "3             100         100     80           1      False  \n",
       "3             122         120     80           1      False  \n",
       "3             100         100     80           1      False  "
      ]
     },
     "execution_count": 3,
     "metadata": {},
     "output_type": "execute_result"
    }
   ],
   "source": [
    "df.head()"
   ]
  },
  {
   "cell_type": "code",
   "execution_count": 4,
   "metadata": {},
   "outputs": [
    {
     "name": "stdout",
     "output_type": "stream",
     "text": [
      "<class 'pandas.core.frame.DataFrame'>\n",
      "Int64Index: 1072 entries, 1 to 898\n",
      "Data columns (total 12 columns):\n",
      " #   Column      Non-Null Count  Dtype \n",
      "---  ------      --------------  ----- \n",
      " 0   name        1072 non-null   object\n",
      " 1   type1       1072 non-null   object\n",
      " 2   type2       574 non-null    object\n",
      " 3   total       1072 non-null   int64 \n",
      " 4   hp          1072 non-null   int64 \n",
      " 5   attack      1072 non-null   int64 \n",
      " 6   defense     1072 non-null   int64 \n",
      " 7   sp_attack   1072 non-null   int64 \n",
      " 8   sp_defense  1072 non-null   int64 \n",
      " 9   speed       1072 non-null   int64 \n",
      " 10  generation  1072 non-null   int64 \n",
      " 11  legendary   1072 non-null   bool  \n",
      "dtypes: bool(1), int64(8), object(3)\n",
      "memory usage: 101.5+ KB\n"
     ]
    }
   ],
   "source": [
    "df.info()"
   ]
  },
  {
   "cell_type": "code",
   "execution_count": 5,
   "metadata": {},
   "outputs": [
    {
     "data": {
      "text/plain": [
       "name            0\n",
       "type1           0\n",
       "type2         498\n",
       "total           0\n",
       "hp              0\n",
       "attack          0\n",
       "defense         0\n",
       "sp_attack       0\n",
       "sp_defense      0\n",
       "speed           0\n",
       "generation      0\n",
       "legendary       0\n",
       "dtype: int64"
      ]
     },
     "execution_count": 5,
     "metadata": {},
     "output_type": "execute_result"
    }
   ],
   "source": [
    "df.isnull().sum()"
   ]
  },
  {
   "cell_type": "code",
   "execution_count": 6,
   "metadata": {},
   "outputs": [
    {
     "data": {
      "text/plain": [
       "name          object\n",
       "type1         object\n",
       "type2         object\n",
       "total          int64\n",
       "hp             int64\n",
       "attack         int64\n",
       "defense        int64\n",
       "sp_attack      int64\n",
       "sp_defense     int64\n",
       "speed          int64\n",
       "generation     int64\n",
       "legendary       bool\n",
       "dtype: object"
      ]
     },
     "execution_count": 6,
     "metadata": {},
     "output_type": "execute_result"
    }
   ],
   "source": [
    "df.apply(lambda x: x.dtype)"
   ]
  },
  {
   "cell_type": "code",
   "execution_count": 7,
   "metadata": {},
   "outputs": [
    {
     "data": {
      "text/plain": [
       "Index(['name', 'type1', 'type2', 'total', 'hp', 'attack', 'defense',\n",
       "       'sp_attack', 'sp_defense', 'speed', 'generation', 'legendary'],\n",
       "      dtype='object')"
      ]
     },
     "execution_count": 7,
     "metadata": {},
     "output_type": "execute_result"
    }
   ],
   "source": [
    "df.columns"
   ]
  },
  {
   "cell_type": "code",
   "execution_count": 8,
   "metadata": {},
   "outputs": [
    {
     "data": {
      "text/plain": [
       "{bool: ['legendary'], int64: ['total', 'hp', 'attack', 'defense', 'sp_attack', 'sp_defense', 'speed', 'generation'], object: ['name', 'type1', 'type2']}"
      ]
     },
     "execution_count": 8,
     "metadata": {},
     "output_type": "execute_result"
    }
   ],
   "source": [
    "df.columns.to_series().groupby(df.dtypes).groups"
   ]
  },
  {
   "cell_type": "code",
   "execution_count": 9,
   "metadata": {},
   "outputs": [
    {
     "data": {
      "text/plain": [
       "name           0.00\n",
       "type1          0.00\n",
       "type2         46.46\n",
       "total          0.00\n",
       "hp             0.00\n",
       "attack         0.00\n",
       "defense        0.00\n",
       "sp_attack      0.00\n",
       "sp_defense     0.00\n",
       "speed          0.00\n",
       "generation     0.00\n",
       "legendary      0.00\n",
       "dtype: float64"
      ]
     },
     "execution_count": 9,
     "metadata": {},
     "output_type": "execute_result"
    }
   ],
   "source": [
    "round((df.apply(lambda x:x.isnull().sum())/len(df))*100,2)"
   ]
  },
  {
   "cell_type": "code",
   "execution_count": 10,
   "metadata": {},
   "outputs": [
    {
     "data": {
      "text/plain": [
       "name           0.000000\n",
       "type1          0.000000\n",
       "type2         46.455224\n",
       "total          0.000000\n",
       "hp             0.000000\n",
       "attack         0.000000\n",
       "defense        0.000000\n",
       "sp_attack      0.000000\n",
       "sp_defense     0.000000\n",
       "speed          0.000000\n",
       "generation     0.000000\n",
       "legendary      0.000000\n",
       "dtype: float64"
      ]
     },
     "execution_count": 10,
     "metadata": {},
     "output_type": "execute_result"
    }
   ],
   "source": [
    "#Checking for percentage of missing values in each columns\n",
    "(df.isnull().sum()/len(df))*100"
   ]
  },
  {
   "cell_type": "code",
   "execution_count": 11,
   "metadata": {},
   "outputs": [
    {
     "data": {
      "text/html": [
       "<div>\n",
       "<style scoped>\n",
       "    .dataframe tbody tr th:only-of-type {\n",
       "        vertical-align: middle;\n",
       "    }\n",
       "\n",
       "    .dataframe tbody tr th {\n",
       "        vertical-align: top;\n",
       "    }\n",
       "\n",
       "    .dataframe thead th {\n",
       "        text-align: right;\n",
       "    }\n",
       "</style>\n",
       "<table border=\"1\" class=\"dataframe\">\n",
       "  <thead>\n",
       "    <tr style=\"text-align: right;\">\n",
       "      <th></th>\n",
       "      <th>Total missing</th>\n",
       "      <th>% missing</th>\n",
       "    </tr>\n",
       "  </thead>\n",
       "  <tbody>\n",
       "    <tr>\n",
       "      <th>type2</th>\n",
       "      <td>498</td>\n",
       "      <td>46.455224</td>\n",
       "    </tr>\n",
       "    <tr>\n",
       "      <th>name</th>\n",
       "      <td>0</td>\n",
       "      <td>0.000000</td>\n",
       "    </tr>\n",
       "    <tr>\n",
       "      <th>type1</th>\n",
       "      <td>0</td>\n",
       "      <td>0.000000</td>\n",
       "    </tr>\n",
       "  </tbody>\n",
       "</table>\n",
       "</div>"
      ],
      "text/plain": [
       "       Total missing  % missing\n",
       "type2            498  46.455224\n",
       "name               0   0.000000\n",
       "type1              0   0.000000"
      ]
     },
     "execution_count": 11,
     "metadata": {},
     "output_type": "execute_result"
    }
   ],
   "source": [
    "total_miss = df.isnull().sum()\n",
    "perc_miss = total_miss/df.isnull().count()*100\n",
    "\n",
    "missing_data = pd.DataFrame({'Total missing':total_miss,'% missing':perc_miss})\n",
    "\n",
    "missing_data.sort_values(by='Total missing',ascending=False).head(3)"
   ]
  },
  {
   "cell_type": "code",
   "execution_count": 12,
   "metadata": {},
   "outputs": [
    {
     "name": "stdout",
     "output_type": "stream",
     "text": [
      "Unique Values for Each Feature: \n",
      "\n",
      "name : 1072\n",
      "type1 : 20\n",
      "type2 : 18\n",
      "total : 219\n",
      "hp : 103\n",
      "attack : 123\n",
      "defense : 114\n",
      "sp_attack : 119\n",
      "sp_defense : 107\n",
      "speed : 127\n",
      "generation : 9\n",
      "legendary : 2\n"
     ]
    }
   ],
   "source": [
    "print('Unique Values for Each Feature: \\n')\n",
    "for i in df.columns:\n",
    "    print(i, ':',df[i].nunique())"
   ]
  },
  {
   "cell_type": "code",
   "execution_count": 13,
   "metadata": {
    "scrolled": false
   },
   "outputs": [
    {
     "name": "stdout",
     "output_type": "stream",
     "text": [
      "name\n",
      "['Bulbasaur' 'Ivysaur' 'Venusaur' ... 'Calyrex' 'Ice Rider Calyrex'\n",
      " 'Shadow Rider Calyrex']\n",
      "type1\n",
      "['Grass' 'Fire' 'Water' 'Blastoise' 'Bug' 'Normal' 'Dark' 'Poison'\n",
      " 'Electric' 'Ground' 'Ice' 'Fairy' 'Steel' 'Fighting' 'Psychic' 'Rock'\n",
      " 'Ghost' 'Dragon' 'Flying' 'Graass']\n",
      "type2\n",
      "['Poison' nan 'Flying' 'Dragon' 'Water' 'Normal' 'Psychic' 'Steel'\n",
      " 'Ground' 'Fairy' 'Grass' 'Fighting' 'Electric' 'Ice' 'Dark' 'Ghost'\n",
      " 'Rock' 'Fire' 'Bug']\n"
     ]
    }
   ],
   "source": [
    "# find the unique values from categorical features\n",
    "for col in df.select_dtypes(include='object').columns:\n",
    "    print(col)\n",
    "    print(df[col].unique())"
   ]
  },
  {
   "cell_type": "code",
   "execution_count": 14,
   "metadata": {},
   "outputs": [
    {
     "name": "stdout",
     "output_type": "stream",
     "text": [
      "Numeric Features:\n",
      "        total  hp  attack  defense  sp_attack  sp_defense  speed  generation\n",
      "number                                                                      \n",
      "1         318  45      49       49         65          65     45           1\n",
      "2         405  60      62       63         80          80     60           1\n",
      "3         525  80      82       83        100         100     80           1\n",
      "3         625  80     100      123        122         120     80           1\n",
      "3         525  80      82       83        100         100     80           1\n",
      "================================================================================\n"
     ]
    }
   ],
   "source": [
    "numerical_data = df.select_dtypes(include=np.number) # select_dtypes selects data with numeric features\n",
    "numerical_col = numerical_data.columns \n",
    "\n",
    "print(\"Numeric Features:\")\n",
    "print(numerical_data.head())\n",
    "print(\"====\"*20)"
   ]
  },
  {
   "cell_type": "code",
   "execution_count": 15,
   "metadata": {},
   "outputs": [
    {
     "name": "stdout",
     "output_type": "stream",
     "text": [
      "Categorical Features:\n",
      "                       name  type1   type2  legendary\n",
      "number                                               \n",
      "1                 Bulbasaur  Grass  Poison      False\n",
      "2                   Ivysaur  Grass  Poison      False\n",
      "3                  Venusaur  Grass  Poison      False\n",
      "3             Mega Venusaur  Grass  Poison      False\n",
      "3       Gigantamax Venusaur  Grass  Poison      False\n",
      "================================================================================\n"
     ]
    }
   ],
   "source": [
    "categorical_data = df.select_dtypes(exclude=np.number) # we will exclude data with numeric features\n",
    "categorical_col = categorical_data.columns                          # we will store the categorical features in a variable\n",
    "\n",
    "print(\"Categorical Features:\")\n",
    "print(categorical_data.head())\n",
    "print(\"====\"*20)"
   ]
  },
  {
   "cell_type": "code",
   "execution_count": 16,
   "metadata": {},
   "outputs": [
    {
     "data": {
      "text/plain": [
       "['name', 'type1', 'type2']"
      ]
     },
     "execution_count": 16,
     "metadata": {},
     "output_type": "execute_result"
    }
   ],
   "source": [
    "categorical_features = [feature for feature in df.columns if ((df[feature].dtypes=='O') & (feature not in ['Speed']))]\n",
    "categorical_features"
   ]
  },
  {
   "cell_type": "code",
   "execution_count": 17,
   "metadata": {},
   "outputs": [
    {
     "data": {
      "text/plain": [
       "['total',\n",
       " 'hp',\n",
       " 'attack',\n",
       " 'defense',\n",
       " 'sp_attack',\n",
       " 'sp_defense',\n",
       " 'speed',\n",
       " 'generation',\n",
       " 'legendary']"
      ]
     },
     "execution_count": 17,
     "metadata": {},
     "output_type": "execute_result"
    }
   ],
   "source": [
    "### numerical \n",
    "numerical_cols = list(df.select_dtypes(exclude=['object']))\n",
    "numerical_cols"
   ]
  },
  {
   "cell_type": "code",
   "execution_count": 18,
   "metadata": {},
   "outputs": [
    {
     "data": {
      "text/plain": [
       "['name', 'type1', 'type2']"
      ]
     },
     "execution_count": 18,
     "metadata": {},
     "output_type": "execute_result"
    }
   ],
   "source": [
    "### categorical\n",
    "categorical_cols = list(df.select_dtypes(include=['object']))\n",
    "categorical_cols"
   ]
  },
  {
   "cell_type": "code",
   "execution_count": 19,
   "metadata": {},
   "outputs": [
    {
     "data": {
      "text/html": [
       "<div>\n",
       "<style scoped>\n",
       "    .dataframe tbody tr th:only-of-type {\n",
       "        vertical-align: middle;\n",
       "    }\n",
       "\n",
       "    .dataframe tbody tr th {\n",
       "        vertical-align: top;\n",
       "    }\n",
       "\n",
       "    .dataframe thead th {\n",
       "        text-align: right;\n",
       "    }\n",
       "</style>\n",
       "<table border=\"1\" class=\"dataframe\">\n",
       "  <thead>\n",
       "    <tr style=\"text-align: right;\">\n",
       "      <th></th>\n",
       "      <th>total</th>\n",
       "      <th>hp</th>\n",
       "      <th>attack</th>\n",
       "      <th>defense</th>\n",
       "      <th>sp_attack</th>\n",
       "      <th>sp_defense</th>\n",
       "      <th>speed</th>\n",
       "      <th>generation</th>\n",
       "    </tr>\n",
       "  </thead>\n",
       "  <tbody>\n",
       "    <tr>\n",
       "      <th>count</th>\n",
       "      <td>1072.000000</td>\n",
       "      <td>1072.000000</td>\n",
       "      <td>1072.000000</td>\n",
       "      <td>1072.000000</td>\n",
       "      <td>1072.000000</td>\n",
       "      <td>1072.000000</td>\n",
       "      <td>1072.000000</td>\n",
       "      <td>1072.000000</td>\n",
       "    </tr>\n",
       "    <tr>\n",
       "      <th>mean</th>\n",
       "      <td>440.885261</td>\n",
       "      <td>70.486940</td>\n",
       "      <td>80.938433</td>\n",
       "      <td>74.968284</td>\n",
       "      <td>73.273321</td>\n",
       "      <td>72.476679</td>\n",
       "      <td>68.792910</td>\n",
       "      <td>4.294776</td>\n",
       "    </tr>\n",
       "    <tr>\n",
       "      <th>std</th>\n",
       "      <td>121.379077</td>\n",
       "      <td>26.868039</td>\n",
       "      <td>32.463582</td>\n",
       "      <td>31.208059</td>\n",
       "      <td>32.643119</td>\n",
       "      <td>27.934253</td>\n",
       "      <td>30.076281</td>\n",
       "      <td>2.346472</td>\n",
       "    </tr>\n",
       "    <tr>\n",
       "      <th>min</th>\n",
       "      <td>175.000000</td>\n",
       "      <td>1.000000</td>\n",
       "      <td>5.000000</td>\n",
       "      <td>5.000000</td>\n",
       "      <td>10.000000</td>\n",
       "      <td>20.000000</td>\n",
       "      <td>5.000000</td>\n",
       "      <td>0.000000</td>\n",
       "    </tr>\n",
       "    <tr>\n",
       "      <th>25%</th>\n",
       "      <td>330.000000</td>\n",
       "      <td>50.000000</td>\n",
       "      <td>56.000000</td>\n",
       "      <td>52.000000</td>\n",
       "      <td>50.000000</td>\n",
       "      <td>50.000000</td>\n",
       "      <td>45.000000</td>\n",
       "      <td>2.000000</td>\n",
       "    </tr>\n",
       "    <tr>\n",
       "      <th>50%</th>\n",
       "      <td>460.500000</td>\n",
       "      <td>68.000000</td>\n",
       "      <td>80.000000</td>\n",
       "      <td>70.000000</td>\n",
       "      <td>65.000000</td>\n",
       "      <td>70.000000</td>\n",
       "      <td>65.000000</td>\n",
       "      <td>4.000000</td>\n",
       "    </tr>\n",
       "    <tr>\n",
       "      <th>75%</th>\n",
       "      <td>519.250000</td>\n",
       "      <td>84.000000</td>\n",
       "      <td>100.000000</td>\n",
       "      <td>90.000000</td>\n",
       "      <td>95.000000</td>\n",
       "      <td>90.000000</td>\n",
       "      <td>90.000000</td>\n",
       "      <td>6.000000</td>\n",
       "    </tr>\n",
       "    <tr>\n",
       "      <th>max</th>\n",
       "      <td>1125.000000</td>\n",
       "      <td>255.000000</td>\n",
       "      <td>190.000000</td>\n",
       "      <td>250.000000</td>\n",
       "      <td>194.000000</td>\n",
       "      <td>250.000000</td>\n",
       "      <td>200.000000</td>\n",
       "      <td>8.000000</td>\n",
       "    </tr>\n",
       "  </tbody>\n",
       "</table>\n",
       "</div>"
      ],
      "text/plain": [
       "             total           hp       attack      defense    sp_attack  \\\n",
       "count  1072.000000  1072.000000  1072.000000  1072.000000  1072.000000   \n",
       "mean    440.885261    70.486940    80.938433    74.968284    73.273321   \n",
       "std     121.379077    26.868039    32.463582    31.208059    32.643119   \n",
       "min     175.000000     1.000000     5.000000     5.000000    10.000000   \n",
       "25%     330.000000    50.000000    56.000000    52.000000    50.000000   \n",
       "50%     460.500000    68.000000    80.000000    70.000000    65.000000   \n",
       "75%     519.250000    84.000000   100.000000    90.000000    95.000000   \n",
       "max    1125.000000   255.000000   190.000000   250.000000   194.000000   \n",
       "\n",
       "        sp_defense        speed   generation  \n",
       "count  1072.000000  1072.000000  1072.000000  \n",
       "mean     72.476679    68.792910     4.294776  \n",
       "std      27.934253    30.076281     2.346472  \n",
       "min      20.000000     5.000000     0.000000  \n",
       "25%      50.000000    45.000000     2.000000  \n",
       "50%      70.000000    65.000000     4.000000  \n",
       "75%      90.000000    90.000000     6.000000  \n",
       "max     250.000000   200.000000     8.000000  "
      ]
     },
     "execution_count": 19,
     "metadata": {},
     "output_type": "execute_result"
    }
   ],
   "source": [
    "df.describe()"
   ]
  },
  {
   "cell_type": "code",
   "execution_count": 20,
   "metadata": {},
   "outputs": [
    {
     "data": {
      "text/html": [
       "<div>\n",
       "<style scoped>\n",
       "    .dataframe tbody tr th:only-of-type {\n",
       "        vertical-align: middle;\n",
       "    }\n",
       "\n",
       "    .dataframe tbody tr th {\n",
       "        vertical-align: top;\n",
       "    }\n",
       "\n",
       "    .dataframe thead th {\n",
       "        text-align: right;\n",
       "    }\n",
       "</style>\n",
       "<table border=\"1\" class=\"dataframe\">\n",
       "  <thead>\n",
       "    <tr style=\"text-align: right;\">\n",
       "      <th></th>\n",
       "      <th>total</th>\n",
       "      <th>hp</th>\n",
       "      <th>attack</th>\n",
       "      <th>defense</th>\n",
       "      <th>sp_attack</th>\n",
       "      <th>sp_defense</th>\n",
       "      <th>speed</th>\n",
       "      <th>generation</th>\n",
       "      <th>legendary</th>\n",
       "    </tr>\n",
       "  </thead>\n",
       "  <tbody>\n",
       "    <tr>\n",
       "      <th>total</th>\n",
       "      <td>1.000000</td>\n",
       "      <td>0.651252</td>\n",
       "      <td>0.734482</td>\n",
       "      <td>0.630341</td>\n",
       "      <td>0.727108</td>\n",
       "      <td>0.714301</td>\n",
       "      <td>0.553456</td>\n",
       "      <td>0.079992</td>\n",
       "      <td>0.515738</td>\n",
       "    </tr>\n",
       "    <tr>\n",
       "      <th>hp</th>\n",
       "      <td>0.651252</td>\n",
       "      <td>1.000000</td>\n",
       "      <td>0.455366</td>\n",
       "      <td>0.302501</td>\n",
       "      <td>0.361150</td>\n",
       "      <td>0.388298</td>\n",
       "      <td>0.176025</td>\n",
       "      <td>0.074719</td>\n",
       "      <td>0.335003</td>\n",
       "    </tr>\n",
       "    <tr>\n",
       "      <th>attack</th>\n",
       "      <td>0.734482</td>\n",
       "      <td>0.455366</td>\n",
       "      <td>1.000000</td>\n",
       "      <td>0.460603</td>\n",
       "      <td>0.362070</td>\n",
       "      <td>0.260817</td>\n",
       "      <td>0.364312</td>\n",
       "      <td>0.093628</td>\n",
       "      <td>0.343277</td>\n",
       "    </tr>\n",
       "    <tr>\n",
       "      <th>defense</th>\n",
       "      <td>0.630341</td>\n",
       "      <td>0.302501</td>\n",
       "      <td>0.460603</td>\n",
       "      <td>1.000000</td>\n",
       "      <td>0.219260</td>\n",
       "      <td>0.535930</td>\n",
       "      <td>0.003361</td>\n",
       "      <td>0.062962</td>\n",
       "      <td>0.280790</td>\n",
       "    </tr>\n",
       "    <tr>\n",
       "      <th>sp_attack</th>\n",
       "      <td>0.727108</td>\n",
       "      <td>0.361150</td>\n",
       "      <td>0.362070</td>\n",
       "      <td>0.219260</td>\n",
       "      <td>1.000000</td>\n",
       "      <td>0.506912</td>\n",
       "      <td>0.436697</td>\n",
       "      <td>0.034237</td>\n",
       "      <td>0.400535</td>\n",
       "    </tr>\n",
       "    <tr>\n",
       "      <th>sp_defense</th>\n",
       "      <td>0.714301</td>\n",
       "      <td>0.388298</td>\n",
       "      <td>0.260817</td>\n",
       "      <td>0.535930</td>\n",
       "      <td>0.506912</td>\n",
       "      <td>1.000000</td>\n",
       "      <td>0.219889</td>\n",
       "      <td>0.040233</td>\n",
       "      <td>0.360667</td>\n",
       "    </tr>\n",
       "    <tr>\n",
       "      <th>speed</th>\n",
       "      <td>0.553456</td>\n",
       "      <td>0.176025</td>\n",
       "      <td>0.364312</td>\n",
       "      <td>0.003361</td>\n",
       "      <td>0.436697</td>\n",
       "      <td>0.219889</td>\n",
       "      <td>1.000000</td>\n",
       "      <td>0.015538</td>\n",
       "      <td>0.349920</td>\n",
       "    </tr>\n",
       "    <tr>\n",
       "      <th>generation</th>\n",
       "      <td>0.079992</td>\n",
       "      <td>0.074719</td>\n",
       "      <td>0.093628</td>\n",
       "      <td>0.062962</td>\n",
       "      <td>0.034237</td>\n",
       "      <td>0.040233</td>\n",
       "      <td>0.015538</td>\n",
       "      <td>1.000000</td>\n",
       "      <td>0.100667</td>\n",
       "    </tr>\n",
       "    <tr>\n",
       "      <th>legendary</th>\n",
       "      <td>0.515738</td>\n",
       "      <td>0.335003</td>\n",
       "      <td>0.343277</td>\n",
       "      <td>0.280790</td>\n",
       "      <td>0.400535</td>\n",
       "      <td>0.360667</td>\n",
       "      <td>0.349920</td>\n",
       "      <td>0.100667</td>\n",
       "      <td>1.000000</td>\n",
       "    </tr>\n",
       "  </tbody>\n",
       "</table>\n",
       "</div>"
      ],
      "text/plain": [
       "               total        hp    attack   defense  sp_attack  sp_defense  \\\n",
       "total       1.000000  0.651252  0.734482  0.630341   0.727108    0.714301   \n",
       "hp          0.651252  1.000000  0.455366  0.302501   0.361150    0.388298   \n",
       "attack      0.734482  0.455366  1.000000  0.460603   0.362070    0.260817   \n",
       "defense     0.630341  0.302501  0.460603  1.000000   0.219260    0.535930   \n",
       "sp_attack   0.727108  0.361150  0.362070  0.219260   1.000000    0.506912   \n",
       "sp_defense  0.714301  0.388298  0.260817  0.535930   0.506912    1.000000   \n",
       "speed       0.553456  0.176025  0.364312  0.003361   0.436697    0.219889   \n",
       "generation  0.079992  0.074719  0.093628  0.062962   0.034237    0.040233   \n",
       "legendary   0.515738  0.335003  0.343277  0.280790   0.400535    0.360667   \n",
       "\n",
       "               speed  generation  legendary  \n",
       "total       0.553456    0.079992   0.515738  \n",
       "hp          0.176025    0.074719   0.335003  \n",
       "attack      0.364312    0.093628   0.343277  \n",
       "defense     0.003361    0.062962   0.280790  \n",
       "sp_attack   0.436697    0.034237   0.400535  \n",
       "sp_defense  0.219889    0.040233   0.360667  \n",
       "speed       1.000000    0.015538   0.349920  \n",
       "generation  0.015538    1.000000   0.100667  \n",
       "legendary   0.349920    0.100667   1.000000  "
      ]
     },
     "execution_count": 20,
     "metadata": {},
     "output_type": "execute_result"
    }
   ],
   "source": [
    "df.corr()"
   ]
  },
  {
   "cell_type": "code",
   "execution_count": 21,
   "metadata": {
    "scrolled": false
   },
   "outputs": [
    {
     "data": {
      "text/plain": [
       "<AxesSubplot:>"
      ]
     },
     "execution_count": 21,
     "metadata": {},
     "output_type": "execute_result"
    },
    {
     "data": {
      "image/png": "[encoded data removed]",
      "text/plain": [
       "<Figure size 1080x720 with 2 Axes>"
      ]
     },
     "metadata": {
      "needs_background": "light"
     },
     "output_type": "display_data"
    }
   ],
   "source": [
    "plt.figure(figsize=(15,10))\n",
    "sns.heatmap(df.corr(),annot=True)"
   ]
  },
  {
   "cell_type": "code",
   "execution_count": 22,
   "metadata": {},
   "outputs": [
    {
     "data": {
      "image/png": "[encoded data removed]",
      "text/plain": [
       "<Figure size 1800x864 with 2 Axes>"
      ]
     },
     "metadata": {
      "needs_background": "light"
     },
     "output_type": "display_data"
    }
   ],
   "source": [
    "matrix = df.corr() \n",
    "f, ax = plt.subplots(figsize=(25, 12)) \n",
    "sns.heatmap(matrix, vmax=.8, square=True, cmap=\"RdYlGn\",annot = True);"
   ]
  },
  {
   "cell_type": "code",
   "execution_count": null,
   "metadata": {},
   "outputs": [],
   "source": [
    "sns.pairplot(df)"
   ]
  },
  {
   "cell_type": "code",
   "execution_count": null,
   "metadata": {},
   "outputs": [],
   "source": [
    "def bar_plot(variable):\n",
    "    var = df[variable]\n",
    "    varValue = var.value_counts()\n",
    "    plt.figure(figsize=(15,3))\n",
    "    plt.bar(varValue.index, varValue,color=['#00008b','#00e5ee','#cd1076', '#008080','#cd5555','red','blue'])\n",
    "    plt.xticks(varValue.index, varValue.index.values)\n",
    "    plt.ylabel(\"Frequency\")\n",
    "    plt.title(variable)\n",
    "    \n",
    "    plt.show()\n",
    "    print(\"{}: \\n {}\".format(variable,varValue))"
   ]
  },
  {
   "cell_type": "code",
   "execution_count": null,
   "metadata": {
    "scrolled": false
   },
   "outputs": [],
   "source": [
    "categorical_cols = ['type1', 'type2']\n",
    "for c in categorical_cols:\n",
    "    bar_plot(c)"
   ]
  },
  {
   "cell_type": "code",
   "execution_count": null,
   "metadata": {},
   "outputs": [],
   "source": [
    "sns.lmplot(x = 'attack', y = 'defense', data = df)"
   ]
  },
  {
   "cell_type": "code",
   "execution_count": null,
   "metadata": {
    "scrolled": true
   },
   "outputs": [],
   "source": [
    "sns.lmplot(x = 'attack', y = 'defense', data = df,\n",
    "           fit_reg = False, # No regression line\n",
    "           hue = 'speed') # Color by evolution stage\n",
    "plt.ylim(0, None)\n",
    "plt.xlim(0, None)"
   ]
  },
  {
   "cell_type": "code",
   "execution_count": null,
   "metadata": {},
   "outputs": [],
   "source": [
    "plt.figure(figsize = (15,10))\n",
    "sns.boxplot(data = df)"
   ]
  },
  {
   "cell_type": "code",
   "execution_count": null,
   "metadata": {},
   "outputs": [],
   "source": [
    "plt.figure(figsize = (10,10))\n",
    "# Pre-format DataFrame\n",
    "stats_df = df.drop(['total', 'speed', 'legendary'], axis = 1)\n",
    " \n",
    "# New boxplot using stats_df\n",
    "sns.boxplot(data = stats_df)"
   ]
  },
  {
   "cell_type": "code",
   "execution_count": null,
   "metadata": {},
   "outputs": [],
   "source": [
    "pkmn_type_colors = ['#78C850',  # Grass\n",
    "                    '#F08030',  # Fire\n",
    "                    '#6890F0',  # Water\n",
    "                    '#A8B820',  # Bug\n",
    "                    '#A8A878',  # Normal\n",
    "                    '#A040A0',  # Poison\n",
    "                    '#F8D030',  # Electric\n",
    "                    '#E0C068',  # Ground\n",
    "                    '#EE99AC',  # Fairy\n",
    "                    '#C03028',  # Fighting\n",
    "                    '#F85888',  # Psychic\n",
    "                    '#B8A038',  # Rock\n",
    "                    '#705898',  # Ghost\n",
    "                    '#98D8D8',  # Ice\n",
    "                    '#7038F8',  # Dragon\n",
    "                   ]"
   ]
  },
  {
   "cell_type": "code",
   "execution_count": null,
   "metadata": {},
   "outputs": [],
   "source": [
    "plt.figure(figsize = (15,10))\n",
    "\n",
    "# Violin plot with Pokemon color palette\n",
    "sns.violinplot(x = 'type1', y = 'attack', data = df, palette = pkmn_type_colors) # Set color palette"
   ]
  },
  {
   "cell_type": "code",
   "execution_count": null,
   "metadata": {},
   "outputs": [],
   "source": [
    "plt.figure(figsize = (15,10))\n",
    "\n",
    "# Set theme\n",
    "sns.set_style('whitegrid')\n",
    " \n",
    "# Violin plot\n",
    "sns.violinplot(x = 'type1', y = 'attack', data = df)"
   ]
  },
  {
   "cell_type": "code",
   "execution_count": null,
   "metadata": {},
   "outputs": [],
   "source": [
    "plt.figure(figsize = (15,10))\n",
    "\n",
    "# Swarm plot with Pokemon color palette\n",
    "sns.swarmplot(x = 'type1', y = 'attack', data = df, palette = pkmn_type_colors)"
   ]
  },
  {
   "cell_type": "code",
   "execution_count": null,
   "metadata": {},
   "outputs": [],
   "source": [
    "plt.figure(figsize = (15,10))\n",
    "\n",
    "# Create plot\n",
    "sns.violinplot(x = 'type1', y = 'attack', data = df, inner = None, # Remove the bars inside the violins\n",
    "               palette = pkmn_type_colors)\n",
    " \n",
    "sns.swarmplot(x = 'type1', y = 'attack', data = df, color = 'k', # Make points black\n",
    "              alpha=0.7) # and slightly transparent\n",
    " \n",
    "# Set title with matplotlib\n",
    "plt.title('Attack by Type')"
   ]
  },
  {
   "cell_type": "code",
   "execution_count": null,
   "metadata": {},
   "outputs": [],
   "source": [
    "plt.figure(figsize = (15,10))\n",
    "\n",
    "# Violin plot with Pokemon color palette\n",
    "sns.violinplot(x = 'type2', y = 'attack', data = df, palette = pkmn_type_colors) # Set color palette"
   ]
  },
  {
   "cell_type": "code",
   "execution_count": null,
   "metadata": {},
   "outputs": [],
   "source": [
    "plt.figure(figsize = (15,10))\n",
    "\n",
    "# Set theme\n",
    "sns.set_style('whitegrid')\n",
    " \n",
    "# Violin plot\n",
    "sns.violinplot(x = 'type2', y = 'attack', data = df)"
   ]
  },
  {
   "cell_type": "code",
   "execution_count": null,
   "metadata": {},
   "outputs": [],
   "source": [
    "plt.figure(figsize = (15,10))\n",
    "\n",
    "# Swarm plot with Pokemon color palette\n",
    "sns.swarmplot(x = 'type2', y = 'attack', data = df, palette = pkmn_type_colors)"
   ]
  },
  {
   "cell_type": "code",
   "execution_count": null,
   "metadata": {},
   "outputs": [],
   "source": [
    "plt.figure(figsize = (15,10))\n",
    "\n",
    "# Create plot\n",
    "sns.violinplot(x = 'type2', y = 'attack', data = df, inner = None, # Remove the bars inside the violins\n",
    "               palette = pkmn_type_colors)\n",
    " \n",
    "sns.swarmplot(x = 'type2', y = 'attack', data = df, color = 'k', # Make points black\n",
    "              alpha=0.7) # and slightly transparent\n",
    " \n",
    "# Set title with matplotlib\n",
    "plt.title('Attack by Type')"
   ]
  },
  {
   "cell_type": "code",
   "execution_count": null,
   "metadata": {},
   "outputs": [],
   "source": [
    "stats_df.head()"
   ]
  },
  {
   "cell_type": "code",
   "execution_count": null,
   "metadata": {},
   "outputs": [],
   "source": [
    "# Melt DataFrame\n",
    "melted_df = pd.melt(stats_df, \n",
    "                    id_vars = [\"name\", \"type1\", \"type2\"], # Variables to keep\n",
    "                    var_name = \"speed\") # Name of melted variable\n",
    "melted_df.head()"
   ]
  },
  {
   "cell_type": "code",
   "execution_count": null,
   "metadata": {},
   "outputs": [],
   "source": [
    "print( stats_df.shape )\n",
    "print( melted_df.shape )"
   ]
  },
  {
   "cell_type": "code",
   "execution_count": null,
   "metadata": {},
   "outputs": [],
   "source": [
    "plt.figure(figsize = (15,10))\n",
    "\n",
    "# Swarmplot with melted_df\n",
    "sns.swarmplot(x = 'speed', y = 'value', data = melted_df, hue = 'type1')"
   ]
  },
  {
   "cell_type": "code",
   "execution_count": null,
   "metadata": {},
   "outputs": [],
   "source": [
    "plt.figure(figsize = (15,10))\n",
    "\n",
    "# Calculate correlations\n",
    "corr = stats_df.corr()\n",
    " \n",
    "# Heatmap\n",
    "sns.heatmap(corr)"
   ]
  },
  {
   "cell_type": "code",
   "execution_count": null,
   "metadata": {},
   "outputs": [],
   "source": [
    "plt.figure(figsize = (15,10))\n",
    "\n",
    "# Distribution Plot (a.k.a. Histogram)\n",
    "sns.distplot(df.attack)"
   ]
  },
  {
   "cell_type": "code",
   "execution_count": null,
   "metadata": {},
   "outputs": [],
   "source": [
    "plt.figure(figsize = (15,10))\n",
    "\n",
    "# Count Plot (a.k.a. Bar Plot)\n",
    "sns.countplot(x = 'type1', data = df, palette = pkmn_type_colors)\n",
    " \n",
    "# Rotate x-labels\n",
    "plt.xticks(rotation = -45)"
   ]
  },
  {
   "cell_type": "code",
   "execution_count": null,
   "metadata": {},
   "outputs": [],
   "source": [
    "plt.figure(figsize = (15,10))\n",
    "\n",
    "# Count Plot (a.k.a. Bar Plot)\n",
    "sns.countplot(x = 'type2', data = df, palette = pkmn_type_colors)\n",
    " \n",
    "# Rotate x-labels\n",
    "plt.xticks(rotation = -45)"
   ]
  },
  {
   "cell_type": "code",
   "execution_count": null,
   "metadata": {},
   "outputs": [],
   "source": [
    "# Density Plot\n",
    "sns.kdeplot(df.attack, df.defense)"
   ]
  },
  {
   "cell_type": "code",
   "execution_count": null,
   "metadata": {},
   "outputs": [],
   "source": [
    "# Joint Distribution Plot\n",
    "sns.jointplot(x = 'attack', y = 'defense', data = df)"
   ]
  },
  {
   "cell_type": "code",
   "execution_count": null,
   "metadata": {},
   "outputs": [],
   "source": []
  }
 ],
 "metadata": {
  "kernelspec": {
   "display_name": "Python 3",
   "language": "python",
   "name": "python3"
  },
  "language_info": {
   "codemirror_mode": {
    "name": "ipython",
    "version": 3
   },
   "file_extension": ".py",
   "mimetype": "text/x-python",
   "name": "python",
   "nbconvert_exporter": "python",
   "pygments_lexer": "ipython3",
   "version": "3.8.5"
  }
 },
 "nbformat": 4,
 "nbformat_minor": 4
}
