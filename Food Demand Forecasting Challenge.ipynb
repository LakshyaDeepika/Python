{
 "cells": [
  {
   "cell_type": "code",
   "execution_count": 1,
   "metadata": {},
   "outputs": [],
   "source": [
    "import pandas as pd\n",
    "import numpy as np\n",
    "import matplotlib.pyplot as plt\n",
    "import seaborn as sns\n",
    "from sklearn.model_selection import train_test_split \n",
    "from sklearn.metrics import mean_absolute_error\n",
    "%matplotlib inline\n",
    "import warnings\n",
    "warnings.filterwarnings('ignore')"
   ]
  },
  {
   "cell_type": "code",
   "execution_count": 2,
   "metadata": {},
   "outputs": [],
   "source": [
    "train = pd.read_csv(r\"C:\\Users\\Lakshmi Devi\\Desktop\\Excel Tutioral\\New Datasets\\Food Demand Forecasting Challenge\\Train.csv\")\n",
    "test = pd.read_csv(r\"C:\\Users\\Lakshmi Devi\\Desktop\\Excel Tutioral\\New Datasets\\Food Demand Forecasting Challenge\\Test.csv\")\n",
    "meal = pd.read_csv(r\"C:\\Users\\Lakshmi Devi\\Desktop\\Excel Tutioral\\New Datasets\\Food Demand Forecasting Challenge\\meal_info.csv\")\n",
    "center = pd.read_csv(r\"C:\\Users\\Lakshmi Devi\\Desktop\\Excel Tutioral\\New Datasets\\Food Demand Forecasting Challenge\\fulfilment_center_info.csv\")"
   ]
  },
  {
   "cell_type": "code",
   "execution_count": 3,
   "metadata": {},
   "outputs": [
    {
     "name": "stdout",
     "output_type": "stream",
     "text": [
      "(456548, 9)\n"
     ]
    },
    {
     "data": {
      "text/html": [
       "<div>\n",
       "<style scoped>\n",
       "    .dataframe tbody tr th:only-of-type {\n",
       "        vertical-align: middle;\n",
       "    }\n",
       "\n",
       "    .dataframe tbody tr th {\n",
       "        vertical-align: top;\n",
       "    }\n",
       "\n",
       "    .dataframe thead th {\n",
       "        text-align: right;\n",
       "    }\n",
       "</style>\n",
       "<table border=\"1\" class=\"dataframe\">\n",
       "  <thead>\n",
       "    <tr style=\"text-align: right;\">\n",
       "      <th></th>\n",
       "      <th>id</th>\n",
       "      <th>week</th>\n",
       "      <th>center_id</th>\n",
       "      <th>meal_id</th>\n",
       "      <th>checkout_price</th>\n",
       "      <th>base_price</th>\n",
       "      <th>emailer_for_promotion</th>\n",
       "      <th>homepage_featured</th>\n",
       "      <th>num_orders</th>\n",
       "    </tr>\n",
       "  </thead>\n",
       "  <tbody>\n",
       "    <tr>\n",
       "      <th>0</th>\n",
       "      <td>1379560</td>\n",
       "      <td>1</td>\n",
       "      <td>55</td>\n",
       "      <td>1885</td>\n",
       "      <td>136.83</td>\n",
       "      <td>152.29</td>\n",
       "      <td>0</td>\n",
       "      <td>0</td>\n",
       "      <td>177</td>\n",
       "    </tr>\n",
       "    <tr>\n",
       "      <th>1</th>\n",
       "      <td>1466964</td>\n",
       "      <td>1</td>\n",
       "      <td>55</td>\n",
       "      <td>1993</td>\n",
       "      <td>136.83</td>\n",
       "      <td>135.83</td>\n",
       "      <td>0</td>\n",
       "      <td>0</td>\n",
       "      <td>270</td>\n",
       "    </tr>\n",
       "    <tr>\n",
       "      <th>2</th>\n",
       "      <td>1346989</td>\n",
       "      <td>1</td>\n",
       "      <td>55</td>\n",
       "      <td>2539</td>\n",
       "      <td>134.86</td>\n",
       "      <td>135.86</td>\n",
       "      <td>0</td>\n",
       "      <td>0</td>\n",
       "      <td>189</td>\n",
       "    </tr>\n",
       "    <tr>\n",
       "      <th>3</th>\n",
       "      <td>1338232</td>\n",
       "      <td>1</td>\n",
       "      <td>55</td>\n",
       "      <td>2139</td>\n",
       "      <td>339.50</td>\n",
       "      <td>437.53</td>\n",
       "      <td>0</td>\n",
       "      <td>0</td>\n",
       "      <td>54</td>\n",
       "    </tr>\n",
       "    <tr>\n",
       "      <th>4</th>\n",
       "      <td>1448490</td>\n",
       "      <td>1</td>\n",
       "      <td>55</td>\n",
       "      <td>2631</td>\n",
       "      <td>243.50</td>\n",
       "      <td>242.50</td>\n",
       "      <td>0</td>\n",
       "      <td>0</td>\n",
       "      <td>40</td>\n",
       "    </tr>\n",
       "  </tbody>\n",
       "</table>\n",
       "</div>"
      ],
      "text/plain": [
       "        id  week  center_id  meal_id  checkout_price  base_price  \\\n",
       "0  1379560     1         55     1885          136.83      152.29   \n",
       "1  1466964     1         55     1993          136.83      135.83   \n",
       "2  1346989     1         55     2539          134.86      135.86   \n",
       "3  1338232     1         55     2139          339.50      437.53   \n",
       "4  1448490     1         55     2631          243.50      242.50   \n",
       "\n",
       "   emailer_for_promotion  homepage_featured  num_orders  \n",
       "0                      0                  0         177  \n",
       "1                      0                  0         270  \n",
       "2                      0                  0         189  \n",
       "3                      0                  0          54  \n",
       "4                      0                  0          40  "
      ]
     },
     "execution_count": 3,
     "metadata": {},
     "output_type": "execute_result"
    }
   ],
   "source": [
    "print(train.shape)\n",
    "train.head()"
   ]
  },
  {
   "cell_type": "code",
   "execution_count": 4,
   "metadata": {},
   "outputs": [
    {
     "name": "stdout",
     "output_type": "stream",
     "text": [
      "<class 'pandas.core.frame.DataFrame'>\n",
      "RangeIndex: 456548 entries, 0 to 456547\n",
      "Data columns (total 9 columns):\n",
      "id                       456548 non-null int64\n",
      "week                     456548 non-null int64\n",
      "center_id                456548 non-null int64\n",
      "meal_id                  456548 non-null int64\n",
      "checkout_price           456548 non-null float64\n",
      "base_price               456548 non-null float64\n",
      "emailer_for_promotion    456548 non-null int64\n",
      "homepage_featured        456548 non-null int64\n",
      "num_orders               456548 non-null int64\n",
      "dtypes: float64(2), int64(7)\n",
      "memory usage: 31.3 MB\n"
     ]
    }
   ],
   "source": [
    "train.info()"
   ]
  },
  {
   "cell_type": "code",
   "execution_count": 5,
   "metadata": {},
   "outputs": [
    {
     "name": "stdout",
     "output_type": "stream",
     "text": [
      "(32573, 8)\n"
     ]
    },
    {
     "data": {
      "text/html": [
       "<div>\n",
       "<style scoped>\n",
       "    .dataframe tbody tr th:only-of-type {\n",
       "        vertical-align: middle;\n",
       "    }\n",
       "\n",
       "    .dataframe tbody tr th {\n",
       "        vertical-align: top;\n",
       "    }\n",
       "\n",
       "    .dataframe thead th {\n",
       "        text-align: right;\n",
       "    }\n",
       "</style>\n",
       "<table border=\"1\" class=\"dataframe\">\n",
       "  <thead>\n",
       "    <tr style=\"text-align: right;\">\n",
       "      <th></th>\n",
       "      <th>id</th>\n",
       "      <th>week</th>\n",
       "      <th>center_id</th>\n",
       "      <th>meal_id</th>\n",
       "      <th>checkout_price</th>\n",
       "      <th>base_price</th>\n",
       "      <th>emailer_for_promotion</th>\n",
       "      <th>homepage_featured</th>\n",
       "    </tr>\n",
       "  </thead>\n",
       "  <tbody>\n",
       "    <tr>\n",
       "      <th>0</th>\n",
       "      <td>1028232</td>\n",
       "      <td>146</td>\n",
       "      <td>55</td>\n",
       "      <td>1885</td>\n",
       "      <td>158.11</td>\n",
       "      <td>159.11</td>\n",
       "      <td>0</td>\n",
       "      <td>0</td>\n",
       "    </tr>\n",
       "    <tr>\n",
       "      <th>1</th>\n",
       "      <td>1127204</td>\n",
       "      <td>146</td>\n",
       "      <td>55</td>\n",
       "      <td>1993</td>\n",
       "      <td>160.11</td>\n",
       "      <td>159.11</td>\n",
       "      <td>0</td>\n",
       "      <td>0</td>\n",
       "    </tr>\n",
       "    <tr>\n",
       "      <th>2</th>\n",
       "      <td>1212707</td>\n",
       "      <td>146</td>\n",
       "      <td>55</td>\n",
       "      <td>2539</td>\n",
       "      <td>157.14</td>\n",
       "      <td>159.14</td>\n",
       "      <td>0</td>\n",
       "      <td>0</td>\n",
       "    </tr>\n",
       "    <tr>\n",
       "      <th>3</th>\n",
       "      <td>1082698</td>\n",
       "      <td>146</td>\n",
       "      <td>55</td>\n",
       "      <td>2631</td>\n",
       "      <td>162.02</td>\n",
       "      <td>162.02</td>\n",
       "      <td>0</td>\n",
       "      <td>0</td>\n",
       "    </tr>\n",
       "    <tr>\n",
       "      <th>4</th>\n",
       "      <td>1400926</td>\n",
       "      <td>146</td>\n",
       "      <td>55</td>\n",
       "      <td>1248</td>\n",
       "      <td>163.93</td>\n",
       "      <td>163.93</td>\n",
       "      <td>0</td>\n",
       "      <td>0</td>\n",
       "    </tr>\n",
       "  </tbody>\n",
       "</table>\n",
       "</div>"
      ],
      "text/plain": [
       "        id  week  center_id  meal_id  checkout_price  base_price  \\\n",
       "0  1028232   146         55     1885          158.11      159.11   \n",
       "1  1127204   146         55     1993          160.11      159.11   \n",
       "2  1212707   146         55     2539          157.14      159.14   \n",
       "3  1082698   146         55     2631          162.02      162.02   \n",
       "4  1400926   146         55     1248          163.93      163.93   \n",
       "\n",
       "   emailer_for_promotion  homepage_featured  \n",
       "0                      0                  0  \n",
       "1                      0                  0  \n",
       "2                      0                  0  \n",
       "3                      0                  0  \n",
       "4                      0                  0  "
      ]
     },
     "execution_count": 5,
     "metadata": {},
     "output_type": "execute_result"
    }
   ],
   "source": [
    "print(test.shape)\n",
    "test.head()"
   ]
  },
  {
   "cell_type": "code",
   "execution_count": 6,
   "metadata": {},
   "outputs": [
    {
     "name": "stdout",
     "output_type": "stream",
     "text": [
      "<class 'pandas.core.frame.DataFrame'>\n",
      "RangeIndex: 32573 entries, 0 to 32572\n",
      "Data columns (total 8 columns):\n",
      "id                       32573 non-null int64\n",
      "week                     32573 non-null int64\n",
      "center_id                32573 non-null int64\n",
      "meal_id                  32573 non-null int64\n",
      "checkout_price           32573 non-null float64\n",
      "base_price               32573 non-null float64\n",
      "emailer_for_promotion    32573 non-null int64\n",
      "homepage_featured        32573 non-null int64\n",
      "dtypes: float64(2), int64(6)\n",
      "memory usage: 2.0 MB\n"
     ]
    }
   ],
   "source": [
    "test.info()"
   ]
  },
  {
   "cell_type": "code",
   "execution_count": 7,
   "metadata": {},
   "outputs": [
    {
     "name": "stdout",
     "output_type": "stream",
     "text": [
      "(51, 3)\n"
     ]
    },
    {
     "data": {
      "text/html": [
       "<div>\n",
       "<style scoped>\n",
       "    .dataframe tbody tr th:only-of-type {\n",
       "        vertical-align: middle;\n",
       "    }\n",
       "\n",
       "    .dataframe tbody tr th {\n",
       "        vertical-align: top;\n",
       "    }\n",
       "\n",
       "    .dataframe thead th {\n",
       "        text-align: right;\n",
       "    }\n",
       "</style>\n",
       "<table border=\"1\" class=\"dataframe\">\n",
       "  <thead>\n",
       "    <tr style=\"text-align: right;\">\n",
       "      <th></th>\n",
       "      <th>meal_id</th>\n",
       "      <th>category</th>\n",
       "      <th>cuisine</th>\n",
       "    </tr>\n",
       "  </thead>\n",
       "  <tbody>\n",
       "    <tr>\n",
       "      <th>0</th>\n",
       "      <td>1885</td>\n",
       "      <td>Beverages</td>\n",
       "      <td>Thai</td>\n",
       "    </tr>\n",
       "    <tr>\n",
       "      <th>1</th>\n",
       "      <td>1993</td>\n",
       "      <td>Beverages</td>\n",
       "      <td>Thai</td>\n",
       "    </tr>\n",
       "    <tr>\n",
       "      <th>2</th>\n",
       "      <td>2539</td>\n",
       "      <td>Beverages</td>\n",
       "      <td>Thai</td>\n",
       "    </tr>\n",
       "    <tr>\n",
       "      <th>3</th>\n",
       "      <td>1248</td>\n",
       "      <td>Beverages</td>\n",
       "      <td>Indian</td>\n",
       "    </tr>\n",
       "    <tr>\n",
       "      <th>4</th>\n",
       "      <td>2631</td>\n",
       "      <td>Beverages</td>\n",
       "      <td>Indian</td>\n",
       "    </tr>\n",
       "  </tbody>\n",
       "</table>\n",
       "</div>"
      ],
      "text/plain": [
       "   meal_id   category cuisine\n",
       "0     1885  Beverages    Thai\n",
       "1     1993  Beverages    Thai\n",
       "2     2539  Beverages    Thai\n",
       "3     1248  Beverages  Indian\n",
       "4     2631  Beverages  Indian"
      ]
     },
     "execution_count": 7,
     "metadata": {},
     "output_type": "execute_result"
    }
   ],
   "source": [
    "print(meal.shape)\n",
    "meal.head()"
   ]
  },
  {
   "cell_type": "code",
   "execution_count": 8,
   "metadata": {},
   "outputs": [
    {
     "name": "stdout",
     "output_type": "stream",
     "text": [
      "<class 'pandas.core.frame.DataFrame'>\n",
      "RangeIndex: 51 entries, 0 to 50\n",
      "Data columns (total 3 columns):\n",
      "meal_id     51 non-null int64\n",
      "category    51 non-null object\n",
      "cuisine     51 non-null object\n",
      "dtypes: int64(1), object(2)\n",
      "memory usage: 1.3+ KB\n"
     ]
    }
   ],
   "source": [
    "meal.info()"
   ]
  },
  {
   "cell_type": "code",
   "execution_count": 9,
   "metadata": {},
   "outputs": [
    {
     "name": "stdout",
     "output_type": "stream",
     "text": [
      "(77, 5)\n"
     ]
    },
    {
     "data": {
      "text/html": [
       "<div>\n",
       "<style scoped>\n",
       "    .dataframe tbody tr th:only-of-type {\n",
       "        vertical-align: middle;\n",
       "    }\n",
       "\n",
       "    .dataframe tbody tr th {\n",
       "        vertical-align: top;\n",
       "    }\n",
       "\n",
       "    .dataframe thead th {\n",
       "        text-align: right;\n",
       "    }\n",
       "</style>\n",
       "<table border=\"1\" class=\"dataframe\">\n",
       "  <thead>\n",
       "    <tr style=\"text-align: right;\">\n",
       "      <th></th>\n",
       "      <th>center_id</th>\n",
       "      <th>city_code</th>\n",
       "      <th>region_code</th>\n",
       "      <th>center_type</th>\n",
       "      <th>op_area</th>\n",
       "    </tr>\n",
       "  </thead>\n",
       "  <tbody>\n",
       "    <tr>\n",
       "      <th>0</th>\n",
       "      <td>11</td>\n",
       "      <td>679</td>\n",
       "      <td>56</td>\n",
       "      <td>TYPE_A</td>\n",
       "      <td>3.7</td>\n",
       "    </tr>\n",
       "    <tr>\n",
       "      <th>1</th>\n",
       "      <td>13</td>\n",
       "      <td>590</td>\n",
       "      <td>56</td>\n",
       "      <td>TYPE_B</td>\n",
       "      <td>6.7</td>\n",
       "    </tr>\n",
       "    <tr>\n",
       "      <th>2</th>\n",
       "      <td>124</td>\n",
       "      <td>590</td>\n",
       "      <td>56</td>\n",
       "      <td>TYPE_C</td>\n",
       "      <td>4.0</td>\n",
       "    </tr>\n",
       "    <tr>\n",
       "      <th>3</th>\n",
       "      <td>66</td>\n",
       "      <td>648</td>\n",
       "      <td>34</td>\n",
       "      <td>TYPE_A</td>\n",
       "      <td>4.1</td>\n",
       "    </tr>\n",
       "    <tr>\n",
       "      <th>4</th>\n",
       "      <td>94</td>\n",
       "      <td>632</td>\n",
       "      <td>34</td>\n",
       "      <td>TYPE_C</td>\n",
       "      <td>3.6</td>\n",
       "    </tr>\n",
       "  </tbody>\n",
       "</table>\n",
       "</div>"
      ],
      "text/plain": [
       "   center_id  city_code  region_code center_type  op_area\n",
       "0         11        679           56      TYPE_A      3.7\n",
       "1         13        590           56      TYPE_B      6.7\n",
       "2        124        590           56      TYPE_C      4.0\n",
       "3         66        648           34      TYPE_A      4.1\n",
       "4         94        632           34      TYPE_C      3.6"
      ]
     },
     "execution_count": 9,
     "metadata": {},
     "output_type": "execute_result"
    }
   ],
   "source": [
    "print(center.shape)\n",
    "center.head()"
   ]
  },
  {
   "cell_type": "code",
   "execution_count": 10,
   "metadata": {},
   "outputs": [
    {
     "name": "stdout",
     "output_type": "stream",
     "text": [
      "<class 'pandas.core.frame.DataFrame'>\n",
      "RangeIndex: 77 entries, 0 to 76\n",
      "Data columns (total 5 columns):\n",
      "center_id      77 non-null int64\n",
      "city_code      77 non-null int64\n",
      "region_code    77 non-null int64\n",
      "center_type    77 non-null object\n",
      "op_area        77 non-null float64\n",
      "dtypes: float64(1), int64(3), object(1)\n",
      "memory usage: 3.1+ KB\n"
     ]
    }
   ],
   "source": [
    "center.info()"
   ]
  },
  {
   "cell_type": "code",
   "execution_count": 11,
   "metadata": {},
   "outputs": [],
   "source": [
    "train = pd.merge(train,center, on='center_id')\n",
    "test = pd.merge(test,center, on='center_id')\n",
    "\n",
    "train = pd.merge(train,meal, on='meal_id')\n",
    "test = pd.merge(test,meal, on='meal_id')"
   ]
  },
  {
   "cell_type": "code",
   "execution_count": 12,
   "metadata": {},
   "outputs": [
    {
     "name": "stdout",
     "output_type": "stream",
     "text": [
      "(456548, 15) (32573, 14) (489121, 15)\n"
     ]
    }
   ],
   "source": [
    "df = pd.concat([train, test],ignore_index=True)\n",
    "print(train.shape, test.shape, df.shape)"
   ]
  },
  {
   "cell_type": "code",
   "execution_count": 13,
   "metadata": {},
   "outputs": [
    {
     "name": "stdout",
     "output_type": "stream",
     "text": [
      "<class 'pandas.core.frame.DataFrame'>\n",
      "RangeIndex: 489121 entries, 0 to 489120\n",
      "Data columns (total 15 columns):\n",
      "base_price               489121 non-null float64\n",
      "category                 489121 non-null object\n",
      "center_id                489121 non-null int64\n",
      "center_type              489121 non-null object\n",
      "checkout_price           489121 non-null float64\n",
      "city_code                489121 non-null int64\n",
      "cuisine                  489121 non-null object\n",
      "emailer_for_promotion    489121 non-null int64\n",
      "homepage_featured        489121 non-null int64\n",
      "id                       489121 non-null int64\n",
      "meal_id                  489121 non-null int64\n",
      "num_orders               456548 non-null float64\n",
      "op_area                  489121 non-null float64\n",
      "region_code              489121 non-null int64\n",
      "week                     489121 non-null int64\n",
      "dtypes: float64(4), int64(8), object(3)\n",
      "memory usage: 56.0+ MB\n"
     ]
    }
   ],
   "source": [
    "df.info()"
   ]
  },
  {
   "cell_type": "code",
   "execution_count": 14,
   "metadata": {},
   "outputs": [
    {
     "data": {
      "text/html": [
       "<div>\n",
       "<style scoped>\n",
       "    .dataframe tbody tr th:only-of-type {\n",
       "        vertical-align: middle;\n",
       "    }\n",
       "\n",
       "    .dataframe tbody tr th {\n",
       "        vertical-align: top;\n",
       "    }\n",
       "\n",
       "    .dataframe thead th {\n",
       "        text-align: right;\n",
       "    }\n",
       "</style>\n",
       "<table border=\"1\" class=\"dataframe\">\n",
       "  <thead>\n",
       "    <tr style=\"text-align: right;\">\n",
       "      <th></th>\n",
       "      <th>base_price</th>\n",
       "      <th>category</th>\n",
       "      <th>center_id</th>\n",
       "      <th>center_type</th>\n",
       "      <th>checkout_price</th>\n",
       "      <th>city_code</th>\n",
       "      <th>cuisine</th>\n",
       "      <th>emailer_for_promotion</th>\n",
       "      <th>homepage_featured</th>\n",
       "      <th>id</th>\n",
       "      <th>meal_id</th>\n",
       "      <th>num_orders</th>\n",
       "      <th>op_area</th>\n",
       "      <th>region_code</th>\n",
       "      <th>week</th>\n",
       "    </tr>\n",
       "  </thead>\n",
       "  <tbody>\n",
       "    <tr>\n",
       "      <th>0</th>\n",
       "      <td>152.29</td>\n",
       "      <td>Beverages</td>\n",
       "      <td>55</td>\n",
       "      <td>TYPE_C</td>\n",
       "      <td>136.83</td>\n",
       "      <td>647</td>\n",
       "      <td>Thai</td>\n",
       "      <td>0</td>\n",
       "      <td>0</td>\n",
       "      <td>1379560</td>\n",
       "      <td>1885</td>\n",
       "      <td>177.0</td>\n",
       "      <td>2.0</td>\n",
       "      <td>56</td>\n",
       "      <td>1</td>\n",
       "    </tr>\n",
       "    <tr>\n",
       "      <th>1</th>\n",
       "      <td>152.29</td>\n",
       "      <td>Beverages</td>\n",
       "      <td>55</td>\n",
       "      <td>TYPE_C</td>\n",
       "      <td>135.83</td>\n",
       "      <td>647</td>\n",
       "      <td>Thai</td>\n",
       "      <td>0</td>\n",
       "      <td>0</td>\n",
       "      <td>1018704</td>\n",
       "      <td>1885</td>\n",
       "      <td>323.0</td>\n",
       "      <td>2.0</td>\n",
       "      <td>56</td>\n",
       "      <td>2</td>\n",
       "    </tr>\n",
       "    <tr>\n",
       "      <th>2</th>\n",
       "      <td>133.92</td>\n",
       "      <td>Beverages</td>\n",
       "      <td>55</td>\n",
       "      <td>TYPE_C</td>\n",
       "      <td>132.92</td>\n",
       "      <td>647</td>\n",
       "      <td>Thai</td>\n",
       "      <td>0</td>\n",
       "      <td>0</td>\n",
       "      <td>1196273</td>\n",
       "      <td>1885</td>\n",
       "      <td>96.0</td>\n",
       "      <td>2.0</td>\n",
       "      <td>56</td>\n",
       "      <td>3</td>\n",
       "    </tr>\n",
       "    <tr>\n",
       "      <th>3</th>\n",
       "      <td>134.86</td>\n",
       "      <td>Beverages</td>\n",
       "      <td>55</td>\n",
       "      <td>TYPE_C</td>\n",
       "      <td>135.86</td>\n",
       "      <td>647</td>\n",
       "      <td>Thai</td>\n",
       "      <td>0</td>\n",
       "      <td>0</td>\n",
       "      <td>1116527</td>\n",
       "      <td>1885</td>\n",
       "      <td>163.0</td>\n",
       "      <td>2.0</td>\n",
       "      <td>56</td>\n",
       "      <td>4</td>\n",
       "    </tr>\n",
       "    <tr>\n",
       "      <th>4</th>\n",
       "      <td>147.50</td>\n",
       "      <td>Beverages</td>\n",
       "      <td>55</td>\n",
       "      <td>TYPE_C</td>\n",
       "      <td>146.50</td>\n",
       "      <td>647</td>\n",
       "      <td>Thai</td>\n",
       "      <td>0</td>\n",
       "      <td>0</td>\n",
       "      <td>1343872</td>\n",
       "      <td>1885</td>\n",
       "      <td>215.0</td>\n",
       "      <td>2.0</td>\n",
       "      <td>56</td>\n",
       "      <td>5</td>\n",
       "    </tr>\n",
       "  </tbody>\n",
       "</table>\n",
       "</div>"
      ],
      "text/plain": [
       "   base_price   category  center_id center_type  checkout_price  city_code  \\\n",
       "0      152.29  Beverages         55      TYPE_C          136.83        647   \n",
       "1      152.29  Beverages         55      TYPE_C          135.83        647   \n",
       "2      133.92  Beverages         55      TYPE_C          132.92        647   \n",
       "3      134.86  Beverages         55      TYPE_C          135.86        647   \n",
       "4      147.50  Beverages         55      TYPE_C          146.50        647   \n",
       "\n",
       "  cuisine  emailer_for_promotion  homepage_featured       id  meal_id  \\\n",
       "0    Thai                      0                  0  1379560     1885   \n",
       "1    Thai                      0                  0  1018704     1885   \n",
       "2    Thai                      0                  0  1196273     1885   \n",
       "3    Thai                      0                  0  1116527     1885   \n",
       "4    Thai                      0                  0  1343872     1885   \n",
       "\n",
       "   num_orders  op_area  region_code  week  \n",
       "0       177.0      2.0           56     1  \n",
       "1       323.0      2.0           56     2  \n",
       "2        96.0      2.0           56     3  \n",
       "3       163.0      2.0           56     4  \n",
       "4       215.0      2.0           56     5  "
      ]
     },
     "execution_count": 14,
     "metadata": {},
     "output_type": "execute_result"
    }
   ],
   "source": [
    "df.head()"
   ]
  },
  {
   "cell_type": "code",
   "execution_count": 15,
   "metadata": {},
   "outputs": [
    {
     "data": {
      "text/html": [
       "<div>\n",
       "<style scoped>\n",
       "    .dataframe tbody tr th:only-of-type {\n",
       "        vertical-align: middle;\n",
       "    }\n",
       "\n",
       "    .dataframe tbody tr th {\n",
       "        vertical-align: top;\n",
       "    }\n",
       "\n",
       "    .dataframe thead th {\n",
       "        text-align: right;\n",
       "    }\n",
       "</style>\n",
       "<table border=\"1\" class=\"dataframe\">\n",
       "  <thead>\n",
       "    <tr style=\"text-align: right;\">\n",
       "      <th></th>\n",
       "      <th>base_price</th>\n",
       "      <th>center_id</th>\n",
       "      <th>checkout_price</th>\n",
       "      <th>city_code</th>\n",
       "      <th>emailer_for_promotion</th>\n",
       "      <th>homepage_featured</th>\n",
       "      <th>id</th>\n",
       "      <th>meal_id</th>\n",
       "      <th>num_orders</th>\n",
       "      <th>op_area</th>\n",
       "      <th>region_code</th>\n",
       "      <th>week</th>\n",
       "    </tr>\n",
       "  </thead>\n",
       "  <tbody>\n",
       "    <tr>\n",
       "      <th>count</th>\n",
       "      <td>489121.000000</td>\n",
       "      <td>489121.000000</td>\n",
       "      <td>489121.000000</td>\n",
       "      <td>489121.000000</td>\n",
       "      <td>489121.000000</td>\n",
       "      <td>489121.000000</td>\n",
       "      <td>4.891210e+05</td>\n",
       "      <td>489121.000000</td>\n",
       "      <td>456548.000000</td>\n",
       "      <td>489121.000000</td>\n",
       "      <td>489121.000000</td>\n",
       "      <td>489121.000000</td>\n",
       "    </tr>\n",
       "    <tr>\n",
       "      <th>mean</th>\n",
       "      <td>354.312259</td>\n",
       "      <td>82.092206</td>\n",
       "      <td>332.879277</td>\n",
       "      <td>601.551172</td>\n",
       "      <td>0.080172</td>\n",
       "      <td>0.107346</td>\n",
       "      <td>1.249988e+06</td>\n",
       "      <td>2024.852268</td>\n",
       "      <td>261.872760</td>\n",
       "      <td>4.083865</td>\n",
       "      <td>56.621065</td>\n",
       "      <td>79.810613</td>\n",
       "    </tr>\n",
       "    <tr>\n",
       "      <th>std</th>\n",
       "      <td>160.352168</td>\n",
       "      <td>45.973390</td>\n",
       "      <td>153.022073</td>\n",
       "      <td>66.182598</td>\n",
       "      <td>0.271560</td>\n",
       "      <td>0.309552</td>\n",
       "      <td>1.443421e+05</td>\n",
       "      <td>547.408978</td>\n",
       "      <td>395.922798</td>\n",
       "      <td>1.092163</td>\n",
       "      <td>17.641296</td>\n",
       "      <td>44.343325</td>\n",
       "    </tr>\n",
       "    <tr>\n",
       "      <th>min</th>\n",
       "      <td>55.350000</td>\n",
       "      <td>10.000000</td>\n",
       "      <td>2.970000</td>\n",
       "      <td>456.000000</td>\n",
       "      <td>0.000000</td>\n",
       "      <td>0.000000</td>\n",
       "      <td>1.000000e+06</td>\n",
       "      <td>1062.000000</td>\n",
       "      <td>13.000000</td>\n",
       "      <td>0.900000</td>\n",
       "      <td>23.000000</td>\n",
       "      <td>1.000000</td>\n",
       "    </tr>\n",
       "    <tr>\n",
       "      <th>25%</th>\n",
       "      <td>243.500000</td>\n",
       "      <td>43.000000</td>\n",
       "      <td>228.010000</td>\n",
       "      <td>553.000000</td>\n",
       "      <td>0.000000</td>\n",
       "      <td>0.000000</td>\n",
       "      <td>1.124937e+06</td>\n",
       "      <td>1558.000000</td>\n",
       "      <td>54.000000</td>\n",
       "      <td>3.600000</td>\n",
       "      <td>34.000000</td>\n",
       "      <td>42.000000</td>\n",
       "    </tr>\n",
       "    <tr>\n",
       "      <th>50%</th>\n",
       "      <td>311.430000</td>\n",
       "      <td>76.000000</td>\n",
       "      <td>299.760000</td>\n",
       "      <td>596.000000</td>\n",
       "      <td>0.000000</td>\n",
       "      <td>0.000000</td>\n",
       "      <td>1.249977e+06</td>\n",
       "      <td>1993.000000</td>\n",
       "      <td>136.000000</td>\n",
       "      <td>4.000000</td>\n",
       "      <td>56.000000</td>\n",
       "      <td>81.000000</td>\n",
       "    </tr>\n",
       "    <tr>\n",
       "      <th>75%</th>\n",
       "      <td>458.810000</td>\n",
       "      <td>110.000000</td>\n",
       "      <td>445.230000</td>\n",
       "      <td>651.000000</td>\n",
       "      <td>0.000000</td>\n",
       "      <td>0.000000</td>\n",
       "      <td>1.374988e+06</td>\n",
       "      <td>2539.000000</td>\n",
       "      <td>324.000000</td>\n",
       "      <td>4.500000</td>\n",
       "      <td>77.000000</td>\n",
       "      <td>118.000000</td>\n",
       "    </tr>\n",
       "    <tr>\n",
       "      <th>max</th>\n",
       "      <td>1112.620000</td>\n",
       "      <td>186.000000</td>\n",
       "      <td>1113.620000</td>\n",
       "      <td>713.000000</td>\n",
       "      <td>1.000000</td>\n",
       "      <td>1.000000</td>\n",
       "      <td>1.499999e+06</td>\n",
       "      <td>2956.000000</td>\n",
       "      <td>24299.000000</td>\n",
       "      <td>7.000000</td>\n",
       "      <td>93.000000</td>\n",
       "      <td>155.000000</td>\n",
       "    </tr>\n",
       "  </tbody>\n",
       "</table>\n",
       "</div>"
      ],
      "text/plain": [
       "          base_price      center_id  checkout_price      city_code  \\\n",
       "count  489121.000000  489121.000000   489121.000000  489121.000000   \n",
       "mean      354.312259      82.092206      332.879277     601.551172   \n",
       "std       160.352168      45.973390      153.022073      66.182598   \n",
       "min        55.350000      10.000000        2.970000     456.000000   \n",
       "25%       243.500000      43.000000      228.010000     553.000000   \n",
       "50%       311.430000      76.000000      299.760000     596.000000   \n",
       "75%       458.810000     110.000000      445.230000     651.000000   \n",
       "max      1112.620000     186.000000     1113.620000     713.000000   \n",
       "\n",
       "       emailer_for_promotion  homepage_featured            id        meal_id  \\\n",
       "count          489121.000000      489121.000000  4.891210e+05  489121.000000   \n",
       "mean                0.080172           0.107346  1.249988e+06    2024.852268   \n",
       "std                 0.271560           0.309552  1.443421e+05     547.408978   \n",
       "min                 0.000000           0.000000  1.000000e+06    1062.000000   \n",
       "25%                 0.000000           0.000000  1.124937e+06    1558.000000   \n",
       "50%                 0.000000           0.000000  1.249977e+06    1993.000000   \n",
       "75%                 0.000000           0.000000  1.374988e+06    2539.000000   \n",
       "max                 1.000000           1.000000  1.499999e+06    2956.000000   \n",
       "\n",
       "          num_orders        op_area    region_code           week  \n",
       "count  456548.000000  489121.000000  489121.000000  489121.000000  \n",
       "mean      261.872760       4.083865      56.621065      79.810613  \n",
       "std       395.922798       1.092163      17.641296      44.343325  \n",
       "min        13.000000       0.900000      23.000000       1.000000  \n",
       "25%        54.000000       3.600000      34.000000      42.000000  \n",
       "50%       136.000000       4.000000      56.000000      81.000000  \n",
       "75%       324.000000       4.500000      77.000000     118.000000  \n",
       "max     24299.000000       7.000000      93.000000     155.000000  "
      ]
     },
     "execution_count": 15,
     "metadata": {},
     "output_type": "execute_result"
    }
   ],
   "source": [
    "df.describe()"
   ]
  },
  {
   "cell_type": "code",
   "execution_count": 16,
   "metadata": {},
   "outputs": [
    {
     "data": {
      "text/plain": [
       "Index(['base_price', 'category', 'center_id', 'center_type', 'checkout_price',\n",
       "       'city_code', 'cuisine', 'emailer_for_promotion', 'homepage_featured',\n",
       "       'id', 'meal_id', 'num_orders', 'op_area', 'region_code', 'week'],\n",
       "      dtype='object')"
      ]
     },
     "execution_count": 16,
     "metadata": {},
     "output_type": "execute_result"
    }
   ],
   "source": [
    "df.columns"
   ]
  },
  {
   "cell_type": "code",
   "execution_count": 17,
   "metadata": {},
   "outputs": [
    {
     "data": {
      "text/plain": [
       "{dtype('int64'): Index(['center_id', 'city_code', 'emailer_for_promotion', 'homepage_featured',\n",
       "        'id', 'meal_id', 'region_code', 'week'],\n",
       "       dtype='object'),\n",
       " dtype('float64'): Index(['base_price', 'checkout_price', 'num_orders', 'op_area'], dtype='object'),\n",
       " dtype('O'): Index(['category', 'center_type', 'cuisine'], dtype='object')}"
      ]
     },
     "execution_count": 17,
     "metadata": {},
     "output_type": "execute_result"
    }
   ],
   "source": [
    "df.columns.to_series().groupby(df.dtypes).groups"
   ]
  },
  {
   "cell_type": "code",
   "execution_count": 18,
   "metadata": {},
   "outputs": [
    {
     "data": {
      "text/plain": [
       "base_price                   0\n",
       "category                     0\n",
       "center_id                    0\n",
       "center_type                  0\n",
       "checkout_price               0\n",
       "city_code                    0\n",
       "cuisine                      0\n",
       "emailer_for_promotion        0\n",
       "homepage_featured            0\n",
       "id                           0\n",
       "meal_id                      0\n",
       "num_orders               32573\n",
       "op_area                      0\n",
       "region_code                  0\n",
       "week                         0\n",
       "dtype: int64"
      ]
     },
     "execution_count": 18,
     "metadata": {},
     "output_type": "execute_result"
    }
   ],
   "source": [
    "df.isnull().sum()"
   ]
  },
  {
   "cell_type": "code",
   "execution_count": 19,
   "metadata": {},
   "outputs": [
    {
     "data": {
      "text/plain": [
       "base_price               object\n",
       "category                 object\n",
       "center_id                object\n",
       "center_type              object\n",
       "checkout_price           object\n",
       "city_code                object\n",
       "cuisine                  object\n",
       "emailer_for_promotion    object\n",
       "homepage_featured        object\n",
       "id                       object\n",
       "meal_id                  object\n",
       "num_orders               object\n",
       "op_area                  object\n",
       "region_code              object\n",
       "week                     object\n",
       "dtype: object"
      ]
     },
     "execution_count": 19,
     "metadata": {},
     "output_type": "execute_result"
    }
   ],
   "source": [
    "df.apply(lambda x: x.dtype)"
   ]
  },
  {
   "cell_type": "code",
   "execution_count": 20,
   "metadata": {},
   "outputs": [
    {
     "data": {
      "text/html": [
       "<div>\n",
       "<style scoped>\n",
       "    .dataframe tbody tr th:only-of-type {\n",
       "        vertical-align: middle;\n",
       "    }\n",
       "\n",
       "    .dataframe tbody tr th {\n",
       "        vertical-align: top;\n",
       "    }\n",
       "\n",
       "    .dataframe thead th {\n",
       "        text-align: right;\n",
       "    }\n",
       "</style>\n",
       "<table border=\"1\" class=\"dataframe\">\n",
       "  <thead>\n",
       "    <tr style=\"text-align: right;\">\n",
       "      <th></th>\n",
       "      <th>base_price</th>\n",
       "      <th>category</th>\n",
       "      <th>center_id</th>\n",
       "      <th>center_type</th>\n",
       "      <th>checkout_price</th>\n",
       "      <th>city_code</th>\n",
       "      <th>cuisine</th>\n",
       "      <th>emailer_for_promotion</th>\n",
       "      <th>homepage_featured</th>\n",
       "      <th>id</th>\n",
       "      <th>meal_id</th>\n",
       "      <th>num_orders</th>\n",
       "      <th>op_area</th>\n",
       "      <th>region_code</th>\n",
       "      <th>week</th>\n",
       "    </tr>\n",
       "  </thead>\n",
       "  <tbody>\n",
       "    <tr>\n",
       "      <th>0</th>\n",
       "      <td>152.29</td>\n",
       "      <td>Beverages</td>\n",
       "      <td>55</td>\n",
       "      <td>TYPE_C</td>\n",
       "      <td>136.83</td>\n",
       "      <td>647</td>\n",
       "      <td>Thai</td>\n",
       "      <td>0</td>\n",
       "      <td>0</td>\n",
       "      <td>1379560</td>\n",
       "      <td>1885</td>\n",
       "      <td>177.0</td>\n",
       "      <td>2.0</td>\n",
       "      <td>56</td>\n",
       "      <td>1</td>\n",
       "    </tr>\n",
       "    <tr>\n",
       "      <th>1</th>\n",
       "      <td>152.29</td>\n",
       "      <td>Beverages</td>\n",
       "      <td>55</td>\n",
       "      <td>TYPE_C</td>\n",
       "      <td>135.83</td>\n",
       "      <td>647</td>\n",
       "      <td>Thai</td>\n",
       "      <td>0</td>\n",
       "      <td>0</td>\n",
       "      <td>1018704</td>\n",
       "      <td>1885</td>\n",
       "      <td>323.0</td>\n",
       "      <td>2.0</td>\n",
       "      <td>56</td>\n",
       "      <td>2</td>\n",
       "    </tr>\n",
       "    <tr>\n",
       "      <th>2</th>\n",
       "      <td>133.92</td>\n",
       "      <td>Beverages</td>\n",
       "      <td>55</td>\n",
       "      <td>TYPE_C</td>\n",
       "      <td>132.92</td>\n",
       "      <td>647</td>\n",
       "      <td>Thai</td>\n",
       "      <td>0</td>\n",
       "      <td>0</td>\n",
       "      <td>1196273</td>\n",
       "      <td>1885</td>\n",
       "      <td>96.0</td>\n",
       "      <td>2.0</td>\n",
       "      <td>56</td>\n",
       "      <td>3</td>\n",
       "    </tr>\n",
       "    <tr>\n",
       "      <th>3</th>\n",
       "      <td>134.86</td>\n",
       "      <td>Beverages</td>\n",
       "      <td>55</td>\n",
       "      <td>TYPE_C</td>\n",
       "      <td>135.86</td>\n",
       "      <td>647</td>\n",
       "      <td>Thai</td>\n",
       "      <td>0</td>\n",
       "      <td>0</td>\n",
       "      <td>1116527</td>\n",
       "      <td>1885</td>\n",
       "      <td>163.0</td>\n",
       "      <td>2.0</td>\n",
       "      <td>56</td>\n",
       "      <td>4</td>\n",
       "    </tr>\n",
       "    <tr>\n",
       "      <th>4</th>\n",
       "      <td>147.50</td>\n",
       "      <td>Beverages</td>\n",
       "      <td>55</td>\n",
       "      <td>TYPE_C</td>\n",
       "      <td>146.50</td>\n",
       "      <td>647</td>\n",
       "      <td>Thai</td>\n",
       "      <td>0</td>\n",
       "      <td>0</td>\n",
       "      <td>1343872</td>\n",
       "      <td>1885</td>\n",
       "      <td>215.0</td>\n",
       "      <td>2.0</td>\n",
       "      <td>56</td>\n",
       "      <td>5</td>\n",
       "    </tr>\n",
       "  </tbody>\n",
       "</table>\n",
       "</div>"
      ],
      "text/plain": [
       "   base_price   category  center_id center_type  checkout_price  city_code  \\\n",
       "0      152.29  Beverages         55      TYPE_C          136.83        647   \n",
       "1      152.29  Beverages         55      TYPE_C          135.83        647   \n",
       "2      133.92  Beverages         55      TYPE_C          132.92        647   \n",
       "3      134.86  Beverages         55      TYPE_C          135.86        647   \n",
       "4      147.50  Beverages         55      TYPE_C          146.50        647   \n",
       "\n",
       "  cuisine  emailer_for_promotion  homepage_featured       id  meal_id  \\\n",
       "0    Thai                      0                  0  1379560     1885   \n",
       "1    Thai                      0                  0  1018704     1885   \n",
       "2    Thai                      0                  0  1196273     1885   \n",
       "3    Thai                      0                  0  1116527     1885   \n",
       "4    Thai                      0                  0  1343872     1885   \n",
       "\n",
       "   num_orders  op_area  region_code  week  \n",
       "0       177.0      2.0           56     1  \n",
       "1       323.0      2.0           56     2  \n",
       "2        96.0      2.0           56     3  \n",
       "3       163.0      2.0           56     4  \n",
       "4       215.0      2.0           56     5  "
      ]
     },
     "execution_count": 20,
     "metadata": {},
     "output_type": "execute_result"
    }
   ],
   "source": [
    "df.head()"
   ]
  },
  {
   "cell_type": "code",
   "execution_count": 21,
   "metadata": {},
   "outputs": [
    {
     "data": {
      "text/plain": [
       "array([0, 1], dtype=int64)"
      ]
     },
     "execution_count": 21,
     "metadata": {},
     "output_type": "execute_result"
    }
   ],
   "source": [
    "df.homepage_featured.unique()"
   ]
  },
  {
   "cell_type": "code",
   "execution_count": 22,
   "metadata": {},
   "outputs": [
    {
     "name": "stdout",
     "output_type": "stream",
     "text": [
      "homepage_featured\n",
      "0    436616\n",
      "1     52505\n",
      "dtype: int64\n"
     ]
    }
   ],
   "source": [
    "print(df.groupby('homepage_featured').size())"
   ]
  },
  {
   "cell_type": "code",
   "execution_count": 23,
   "metadata": {},
   "outputs": [
    {
     "data": {
      "image/png": "[encoded data removed]",
      "text/plain": [
       "<Figure size 432x288 with 1 Axes>"
      ]
     },
     "metadata": {
      "needs_background": "light"
     },
     "output_type": "display_data"
    }
   ],
   "source": [
    "import seaborn as sns\n",
    "import matplotlib.pyplot as plt\n",
    "sns.countplot(df['homepage_featured'],label=\"Count\")\n",
    "plt.show()"
   ]
  },
  {
   "cell_type": "code",
   "execution_count": 24,
   "metadata": {},
   "outputs": [
    {
     "data": {
      "text/plain": [
       "array([0, 1], dtype=int64)"
      ]
     },
     "execution_count": 24,
     "metadata": {},
     "output_type": "execute_result"
    }
   ],
   "source": [
    "df.emailer_for_promotion.unique()"
   ]
  },
  {
   "cell_type": "code",
   "execution_count": 25,
   "metadata": {},
   "outputs": [
    {
     "name": "stdout",
     "output_type": "stream",
     "text": [
      "emailer_for_promotion\n",
      "0    449907\n",
      "1     39214\n",
      "dtype: int64\n"
     ]
    }
   ],
   "source": [
    "print(df.groupby('emailer_for_promotion').size())"
   ]
  },
  {
   "cell_type": "code",
   "execution_count": 26,
   "metadata": {},
   "outputs": [
    {
     "data": {
      "image/png": "[encoded data removed]",
      "text/plain": [
       "<Figure size 432x288 with 1 Axes>"
      ]
     },
     "metadata": {
      "needs_background": "light"
     },
     "output_type": "display_data"
    }
   ],
   "source": [
    "import seaborn as sns\n",
    "import matplotlib.pyplot as plt\n",
    "sns.countplot(df['emailer_for_promotion'],label=\"Count\")\n",
    "plt.show()"
   ]
  },
  {
   "cell_type": "code",
   "execution_count": 27,
   "metadata": {},
   "outputs": [
    {
     "data": {
      "text/plain": [
       "array(['Beverages', 'Rice Bowl', 'Starters', 'Pasta', 'Sandwich',\n",
       "       'Biryani', 'Extras', 'Pizza', 'Seafood', 'Other Snacks', 'Desert',\n",
       "       'Salad', 'Fish', 'Soup'], dtype=object)"
      ]
     },
     "execution_count": 27,
     "metadata": {},
     "output_type": "execute_result"
    }
   ],
   "source": [
    "df.category.unique()"
   ]
  },
  {
   "cell_type": "code",
   "execution_count": 28,
   "metadata": {},
   "outputs": [
    {
     "name": "stdout",
     "output_type": "stream",
     "text": [
      "category\n",
      "Beverages       136781\n",
      "Biryani          21951\n",
      "Desert           31407\n",
      "Extras           14554\n",
      "Fish             11518\n",
      "Other Snacks     31483\n",
      "Pasta            29621\n",
      "Pizza            35444\n",
      "Rice Bowl        35717\n",
      "Salad            30868\n",
      "Sandwich         35599\n",
      "Seafood          28613\n",
      "Soup             13640\n",
      "Starters         31925\n",
      "dtype: int64\n"
     ]
    }
   ],
   "source": [
    "print(df.groupby('category').size())"
   ]
  },
  {
   "cell_type": "code",
   "execution_count": 29,
   "metadata": {},
   "outputs": [
    {
     "data": {
      "image/png": "[encoded data removed]",
      "text/plain": [
       "<Figure size 1080x720 with 1 Axes>"
      ]
     },
     "metadata": {
      "needs_background": "light"
     },
     "output_type": "display_data"
    }
   ],
   "source": [
    "import seaborn as sns\n",
    "import matplotlib.pyplot as plt\n",
    "plt.figure(figsize = (15,10))\n",
    "sns.countplot(df['category'],label=\"Count\")\n",
    "plt.show()"
   ]
  },
  {
   "cell_type": "code",
   "execution_count": 30,
   "metadata": {},
   "outputs": [
    {
     "data": {
      "text/html": [
       "<div>\n",
       "<style scoped>\n",
       "    .dataframe tbody tr th:only-of-type {\n",
       "        vertical-align: middle;\n",
       "    }\n",
       "\n",
       "    .dataframe tbody tr th {\n",
       "        vertical-align: top;\n",
       "    }\n",
       "\n",
       "    .dataframe thead th {\n",
       "        text-align: right;\n",
       "    }\n",
       "</style>\n",
       "<table border=\"1\" class=\"dataframe\">\n",
       "  <thead>\n",
       "    <tr style=\"text-align: right;\">\n",
       "      <th></th>\n",
       "      <th>base_price</th>\n",
       "      <th>category</th>\n",
       "      <th>center_id</th>\n",
       "      <th>center_type</th>\n",
       "      <th>checkout_price</th>\n",
       "      <th>city_code</th>\n",
       "      <th>cuisine</th>\n",
       "      <th>emailer_for_promotion</th>\n",
       "      <th>homepage_featured</th>\n",
       "      <th>id</th>\n",
       "      <th>meal_id</th>\n",
       "      <th>num_orders</th>\n",
       "      <th>op_area</th>\n",
       "      <th>region_code</th>\n",
       "      <th>week</th>\n",
       "    </tr>\n",
       "  </thead>\n",
       "  <tbody>\n",
       "    <tr>\n",
       "      <th>0</th>\n",
       "      <td>152.29</td>\n",
       "      <td>0</td>\n",
       "      <td>55</td>\n",
       "      <td>TYPE_C</td>\n",
       "      <td>136.83</td>\n",
       "      <td>647</td>\n",
       "      <td>Thai</td>\n",
       "      <td>0</td>\n",
       "      <td>0</td>\n",
       "      <td>1379560</td>\n",
       "      <td>1885</td>\n",
       "      <td>177.0</td>\n",
       "      <td>2.0</td>\n",
       "      <td>56</td>\n",
       "      <td>1</td>\n",
       "    </tr>\n",
       "    <tr>\n",
       "      <th>1</th>\n",
       "      <td>152.29</td>\n",
       "      <td>0</td>\n",
       "      <td>55</td>\n",
       "      <td>TYPE_C</td>\n",
       "      <td>135.83</td>\n",
       "      <td>647</td>\n",
       "      <td>Thai</td>\n",
       "      <td>0</td>\n",
       "      <td>0</td>\n",
       "      <td>1018704</td>\n",
       "      <td>1885</td>\n",
       "      <td>323.0</td>\n",
       "      <td>2.0</td>\n",
       "      <td>56</td>\n",
       "      <td>2</td>\n",
       "    </tr>\n",
       "    <tr>\n",
       "      <th>2</th>\n",
       "      <td>133.92</td>\n",
       "      <td>0</td>\n",
       "      <td>55</td>\n",
       "      <td>TYPE_C</td>\n",
       "      <td>132.92</td>\n",
       "      <td>647</td>\n",
       "      <td>Thai</td>\n",
       "      <td>0</td>\n",
       "      <td>0</td>\n",
       "      <td>1196273</td>\n",
       "      <td>1885</td>\n",
       "      <td>96.0</td>\n",
       "      <td>2.0</td>\n",
       "      <td>56</td>\n",
       "      <td>3</td>\n",
       "    </tr>\n",
       "    <tr>\n",
       "      <th>3</th>\n",
       "      <td>134.86</td>\n",
       "      <td>0</td>\n",
       "      <td>55</td>\n",
       "      <td>TYPE_C</td>\n",
       "      <td>135.86</td>\n",
       "      <td>647</td>\n",
       "      <td>Thai</td>\n",
       "      <td>0</td>\n",
       "      <td>0</td>\n",
       "      <td>1116527</td>\n",
       "      <td>1885</td>\n",
       "      <td>163.0</td>\n",
       "      <td>2.0</td>\n",
       "      <td>56</td>\n",
       "      <td>4</td>\n",
       "    </tr>\n",
       "    <tr>\n",
       "      <th>4</th>\n",
       "      <td>147.50</td>\n",
       "      <td>0</td>\n",
       "      <td>55</td>\n",
       "      <td>TYPE_C</td>\n",
       "      <td>146.50</td>\n",
       "      <td>647</td>\n",
       "      <td>Thai</td>\n",
       "      <td>0</td>\n",
       "      <td>0</td>\n",
       "      <td>1343872</td>\n",
       "      <td>1885</td>\n",
       "      <td>215.0</td>\n",
       "      <td>2.0</td>\n",
       "      <td>56</td>\n",
       "      <td>5</td>\n",
       "    </tr>\n",
       "  </tbody>\n",
       "</table>\n",
       "</div>"
      ],
      "text/plain": [
       "   base_price  category  center_id center_type  checkout_price  city_code  \\\n",
       "0      152.29         0         55      TYPE_C          136.83        647   \n",
       "1      152.29         0         55      TYPE_C          135.83        647   \n",
       "2      133.92         0         55      TYPE_C          132.92        647   \n",
       "3      134.86         0         55      TYPE_C          135.86        647   \n",
       "4      147.50         0         55      TYPE_C          146.50        647   \n",
       "\n",
       "  cuisine  emailer_for_promotion  homepage_featured       id  meal_id  \\\n",
       "0    Thai                      0                  0  1379560     1885   \n",
       "1    Thai                      0                  0  1018704     1885   \n",
       "2    Thai                      0                  0  1196273     1885   \n",
       "3    Thai                      0                  0  1116527     1885   \n",
       "4    Thai                      0                  0  1343872     1885   \n",
       "\n",
       "   num_orders  op_area  region_code  week  \n",
       "0       177.0      2.0           56     1  \n",
       "1       323.0      2.0           56     2  \n",
       "2        96.0      2.0           56     3  \n",
       "3       163.0      2.0           56     4  \n",
       "4       215.0      2.0           56     5  "
      ]
     },
     "execution_count": 30,
     "metadata": {},
     "output_type": "execute_result"
    }
   ],
   "source": [
    "df['category'] = df['category'].map({'Beverages':0, 'Rice Bowl':1, 'Starters':2, 'Pasta':3, 'Sandwich':4,\n",
    "       'Biryani':5, 'Extras':6, 'Pizza':7, 'Seafood':8, 'Other Snacks':9, 'Desert':10,\n",
    "       'Salad':11, 'Fish':12, 'Soup':13})\n",
    "df.head()"
   ]
  },
  {
   "cell_type": "code",
   "execution_count": 31,
   "metadata": {},
   "outputs": [
    {
     "data": {
      "text/plain": [
       "array(['TYPE_C', 'TYPE_B', 'TYPE_A'], dtype=object)"
      ]
     },
     "execution_count": 31,
     "metadata": {},
     "output_type": "execute_result"
    }
   ],
   "source": [
    "df.center_type.unique()"
   ]
  },
  {
   "cell_type": "code",
   "execution_count": 32,
   "metadata": {},
   "outputs": [
    {
     "name": "stdout",
     "output_type": "stream",
     "text": [
      "center_type\n",
      "TYPE_A    281597\n",
      "TYPE_B    100922\n",
      "TYPE_C    106602\n",
      "dtype: int64\n"
     ]
    }
   ],
   "source": [
    "print(df.groupby('center_type').size())"
   ]
  },
  {
   "cell_type": "code",
   "execution_count": 33,
   "metadata": {},
   "outputs": [
    {
     "data": {
      "image/png": "[encoded data removed]",
      "text/plain": [
       "<Figure size 432x288 with 1 Axes>"
      ]
     },
     "metadata": {
      "needs_background": "light"
     },
     "output_type": "display_data"
    }
   ],
   "source": [
    "import seaborn as sns\n",
    "import matplotlib.pyplot as plt\n",
    "sns.countplot(df['center_type'],label=\"Count\")\n",
    "plt.show()"
   ]
  },
  {
   "cell_type": "code",
   "execution_count": 34,
   "metadata": {},
   "outputs": [
    {
     "data": {
      "text/html": [
       "<div>\n",
       "<style scoped>\n",
       "    .dataframe tbody tr th:only-of-type {\n",
       "        vertical-align: middle;\n",
       "    }\n",
       "\n",
       "    .dataframe tbody tr th {\n",
       "        vertical-align: top;\n",
       "    }\n",
       "\n",
       "    .dataframe thead th {\n",
       "        text-align: right;\n",
       "    }\n",
       "</style>\n",
       "<table border=\"1\" class=\"dataframe\">\n",
       "  <thead>\n",
       "    <tr style=\"text-align: right;\">\n",
       "      <th></th>\n",
       "      <th>base_price</th>\n",
       "      <th>category</th>\n",
       "      <th>center_id</th>\n",
       "      <th>center_type</th>\n",
       "      <th>checkout_price</th>\n",
       "      <th>city_code</th>\n",
       "      <th>cuisine</th>\n",
       "      <th>emailer_for_promotion</th>\n",
       "      <th>homepage_featured</th>\n",
       "      <th>id</th>\n",
       "      <th>meal_id</th>\n",
       "      <th>num_orders</th>\n",
       "      <th>op_area</th>\n",
       "      <th>region_code</th>\n",
       "      <th>week</th>\n",
       "    </tr>\n",
       "  </thead>\n",
       "  <tbody>\n",
       "    <tr>\n",
       "      <th>0</th>\n",
       "      <td>152.29</td>\n",
       "      <td>0</td>\n",
       "      <td>55</td>\n",
       "      <td>2</td>\n",
       "      <td>136.83</td>\n",
       "      <td>647</td>\n",
       "      <td>Thai</td>\n",
       "      <td>0</td>\n",
       "      <td>0</td>\n",
       "      <td>1379560</td>\n",
       "      <td>1885</td>\n",
       "      <td>177.0</td>\n",
       "      <td>2.0</td>\n",
       "      <td>56</td>\n",
       "      <td>1</td>\n",
       "    </tr>\n",
       "    <tr>\n",
       "      <th>1</th>\n",
       "      <td>152.29</td>\n",
       "      <td>0</td>\n",
       "      <td>55</td>\n",
       "      <td>2</td>\n",
       "      <td>135.83</td>\n",
       "      <td>647</td>\n",
       "      <td>Thai</td>\n",
       "      <td>0</td>\n",
       "      <td>0</td>\n",
       "      <td>1018704</td>\n",
       "      <td>1885</td>\n",
       "      <td>323.0</td>\n",
       "      <td>2.0</td>\n",
       "      <td>56</td>\n",
       "      <td>2</td>\n",
       "    </tr>\n",
       "    <tr>\n",
       "      <th>2</th>\n",
       "      <td>133.92</td>\n",
       "      <td>0</td>\n",
       "      <td>55</td>\n",
       "      <td>2</td>\n",
       "      <td>132.92</td>\n",
       "      <td>647</td>\n",
       "      <td>Thai</td>\n",
       "      <td>0</td>\n",
       "      <td>0</td>\n",
       "      <td>1196273</td>\n",
       "      <td>1885</td>\n",
       "      <td>96.0</td>\n",
       "      <td>2.0</td>\n",
       "      <td>56</td>\n",
       "      <td>3</td>\n",
       "    </tr>\n",
       "    <tr>\n",
       "      <th>3</th>\n",
       "      <td>134.86</td>\n",
       "      <td>0</td>\n",
       "      <td>55</td>\n",
       "      <td>2</td>\n",
       "      <td>135.86</td>\n",
       "      <td>647</td>\n",
       "      <td>Thai</td>\n",
       "      <td>0</td>\n",
       "      <td>0</td>\n",
       "      <td>1116527</td>\n",
       "      <td>1885</td>\n",
       "      <td>163.0</td>\n",
       "      <td>2.0</td>\n",
       "      <td>56</td>\n",
       "      <td>4</td>\n",
       "    </tr>\n",
       "    <tr>\n",
       "      <th>4</th>\n",
       "      <td>147.50</td>\n",
       "      <td>0</td>\n",
       "      <td>55</td>\n",
       "      <td>2</td>\n",
       "      <td>146.50</td>\n",
       "      <td>647</td>\n",
       "      <td>Thai</td>\n",
       "      <td>0</td>\n",
       "      <td>0</td>\n",
       "      <td>1343872</td>\n",
       "      <td>1885</td>\n",
       "      <td>215.0</td>\n",
       "      <td>2.0</td>\n",
       "      <td>56</td>\n",
       "      <td>5</td>\n",
       "    </tr>\n",
       "  </tbody>\n",
       "</table>\n",
       "</div>"
      ],
      "text/plain": [
       "   base_price  category  center_id  center_type  checkout_price  city_code  \\\n",
       "0      152.29         0         55            2          136.83        647   \n",
       "1      152.29         0         55            2          135.83        647   \n",
       "2      133.92         0         55            2          132.92        647   \n",
       "3      134.86         0         55            2          135.86        647   \n",
       "4      147.50         0         55            2          146.50        647   \n",
       "\n",
       "  cuisine  emailer_for_promotion  homepage_featured       id  meal_id  \\\n",
       "0    Thai                      0                  0  1379560     1885   \n",
       "1    Thai                      0                  0  1018704     1885   \n",
       "2    Thai                      0                  0  1196273     1885   \n",
       "3    Thai                      0                  0  1116527     1885   \n",
       "4    Thai                      0                  0  1343872     1885   \n",
       "\n",
       "   num_orders  op_area  region_code  week  \n",
       "0       177.0      2.0           56     1  \n",
       "1       323.0      2.0           56     2  \n",
       "2        96.0      2.0           56     3  \n",
       "3       163.0      2.0           56     4  \n",
       "4       215.0      2.0           56     5  "
      ]
     },
     "execution_count": 34,
     "metadata": {},
     "output_type": "execute_result"
    }
   ],
   "source": [
    "df['center_type'] = df['center_type'].map({'TYPE_A':0, 'TYPE_B':1, 'TYPE_C':2})\n",
    "df.head()"
   ]
  },
  {
   "cell_type": "code",
   "execution_count": 35,
   "metadata": {},
   "outputs": [
    {
     "data": {
      "text/plain": [
       "array(['Thai', 'Indian', 'Italian', 'Continental'], dtype=object)"
      ]
     },
     "execution_count": 35,
     "metadata": {},
     "output_type": "execute_result"
    }
   ],
   "source": [
    "df.cuisine.unique()"
   ]
  },
  {
   "cell_type": "code",
   "execution_count": 36,
   "metadata": {},
   "outputs": [
    {
     "name": "stdout",
     "output_type": "stream",
     "text": [
      "cuisine\n",
      "Continental    110383\n",
      "Indian         120419\n",
      "Italian        131761\n",
      "Thai           126558\n",
      "dtype: int64\n"
     ]
    }
   ],
   "source": [
    "print(df.groupby('cuisine').size())"
   ]
  },
  {
   "cell_type": "code",
   "execution_count": 37,
   "metadata": {},
   "outputs": [
    {
     "data": {
      "image/png": "[encoded data removed]",
      "text/plain": [
       "<Figure size 432x288 with 1 Axes>"
      ]
     },
     "metadata": {
      "needs_background": "light"
     },
     "output_type": "display_data"
    }
   ],
   "source": [
    "import seaborn as sns\n",
    "import matplotlib.pyplot as plt\n",
    "sns.countplot(df['cuisine'],label=\"Count\")\n",
    "plt.show()"
   ]
  },
  {
   "cell_type": "code",
   "execution_count": 38,
   "metadata": {},
   "outputs": [
    {
     "data": {
      "text/html": [
       "<div>\n",
       "<style scoped>\n",
       "    .dataframe tbody tr th:only-of-type {\n",
       "        vertical-align: middle;\n",
       "    }\n",
       "\n",
       "    .dataframe tbody tr th {\n",
       "        vertical-align: top;\n",
       "    }\n",
       "\n",
       "    .dataframe thead th {\n",
       "        text-align: right;\n",
       "    }\n",
       "</style>\n",
       "<table border=\"1\" class=\"dataframe\">\n",
       "  <thead>\n",
       "    <tr style=\"text-align: right;\">\n",
       "      <th></th>\n",
       "      <th>base_price</th>\n",
       "      <th>category</th>\n",
       "      <th>center_id</th>\n",
       "      <th>center_type</th>\n",
       "      <th>checkout_price</th>\n",
       "      <th>city_code</th>\n",
       "      <th>cuisine</th>\n",
       "      <th>emailer_for_promotion</th>\n",
       "      <th>homepage_featured</th>\n",
       "      <th>id</th>\n",
       "      <th>meal_id</th>\n",
       "      <th>num_orders</th>\n",
       "      <th>op_area</th>\n",
       "      <th>region_code</th>\n",
       "      <th>week</th>\n",
       "    </tr>\n",
       "  </thead>\n",
       "  <tbody>\n",
       "    <tr>\n",
       "      <th>0</th>\n",
       "      <td>152.29</td>\n",
       "      <td>0</td>\n",
       "      <td>55</td>\n",
       "      <td>2</td>\n",
       "      <td>136.83</td>\n",
       "      <td>647</td>\n",
       "      <td>0</td>\n",
       "      <td>0</td>\n",
       "      <td>0</td>\n",
       "      <td>1379560</td>\n",
       "      <td>1885</td>\n",
       "      <td>177.0</td>\n",
       "      <td>2.0</td>\n",
       "      <td>56</td>\n",
       "      <td>1</td>\n",
       "    </tr>\n",
       "    <tr>\n",
       "      <th>1</th>\n",
       "      <td>152.29</td>\n",
       "      <td>0</td>\n",
       "      <td>55</td>\n",
       "      <td>2</td>\n",
       "      <td>135.83</td>\n",
       "      <td>647</td>\n",
       "      <td>0</td>\n",
       "      <td>0</td>\n",
       "      <td>0</td>\n",
       "      <td>1018704</td>\n",
       "      <td>1885</td>\n",
       "      <td>323.0</td>\n",
       "      <td>2.0</td>\n",
       "      <td>56</td>\n",
       "      <td>2</td>\n",
       "    </tr>\n",
       "    <tr>\n",
       "      <th>2</th>\n",
       "      <td>133.92</td>\n",
       "      <td>0</td>\n",
       "      <td>55</td>\n",
       "      <td>2</td>\n",
       "      <td>132.92</td>\n",
       "      <td>647</td>\n",
       "      <td>0</td>\n",
       "      <td>0</td>\n",
       "      <td>0</td>\n",
       "      <td>1196273</td>\n",
       "      <td>1885</td>\n",
       "      <td>96.0</td>\n",
       "      <td>2.0</td>\n",
       "      <td>56</td>\n",
       "      <td>3</td>\n",
       "    </tr>\n",
       "    <tr>\n",
       "      <th>3</th>\n",
       "      <td>134.86</td>\n",
       "      <td>0</td>\n",
       "      <td>55</td>\n",
       "      <td>2</td>\n",
       "      <td>135.86</td>\n",
       "      <td>647</td>\n",
       "      <td>0</td>\n",
       "      <td>0</td>\n",
       "      <td>0</td>\n",
       "      <td>1116527</td>\n",
       "      <td>1885</td>\n",
       "      <td>163.0</td>\n",
       "      <td>2.0</td>\n",
       "      <td>56</td>\n",
       "      <td>4</td>\n",
       "    </tr>\n",
       "    <tr>\n",
       "      <th>4</th>\n",
       "      <td>147.50</td>\n",
       "      <td>0</td>\n",
       "      <td>55</td>\n",
       "      <td>2</td>\n",
       "      <td>146.50</td>\n",
       "      <td>647</td>\n",
       "      <td>0</td>\n",
       "      <td>0</td>\n",
       "      <td>0</td>\n",
       "      <td>1343872</td>\n",
       "      <td>1885</td>\n",
       "      <td>215.0</td>\n",
       "      <td>2.0</td>\n",
       "      <td>56</td>\n",
       "      <td>5</td>\n",
       "    </tr>\n",
       "  </tbody>\n",
       "</table>\n",
       "</div>"
      ],
      "text/plain": [
       "   base_price  category  center_id  center_type  checkout_price  city_code  \\\n",
       "0      152.29         0         55            2          136.83        647   \n",
       "1      152.29         0         55            2          135.83        647   \n",
       "2      133.92         0         55            2          132.92        647   \n",
       "3      134.86         0         55            2          135.86        647   \n",
       "4      147.50         0         55            2          146.50        647   \n",
       "\n",
       "   cuisine  emailer_for_promotion  homepage_featured       id  meal_id  \\\n",
       "0        0                      0                  0  1379560     1885   \n",
       "1        0                      0                  0  1018704     1885   \n",
       "2        0                      0                  0  1196273     1885   \n",
       "3        0                      0                  0  1116527     1885   \n",
       "4        0                      0                  0  1343872     1885   \n",
       "\n",
       "   num_orders  op_area  region_code  week  \n",
       "0       177.0      2.0           56     1  \n",
       "1       323.0      2.0           56     2  \n",
       "2        96.0      2.0           56     3  \n",
       "3       163.0      2.0           56     4  \n",
       "4       215.0      2.0           56     5  "
      ]
     },
     "execution_count": 38,
     "metadata": {},
     "output_type": "execute_result"
    }
   ],
   "source": [
    "df['cuisine'] = df['cuisine'].map({'Thai':0, 'Indian':1, 'Italian':2, 'Continental':3})\n",
    "df.head()"
   ]
  },
  {
   "cell_type": "code",
   "execution_count": 39,
   "metadata": {},
   "outputs": [
    {
     "data": {
      "text/plain": [
       "0    449907\n",
       "1     39214\n",
       "Name: emailer_for_promotion, dtype: int64"
      ]
     },
     "execution_count": 39,
     "metadata": {},
     "output_type": "execute_result"
    }
   ],
   "source": [
    "df.emailer_for_promotion.value_counts()"
   ]
  },
  {
   "cell_type": "code",
   "execution_count": 40,
   "metadata": {},
   "outputs": [
    {
     "data": {
      "image/png": "[encoded data removed]",
      "text/plain": [
       "<Figure size 432x288 with 1 Axes>"
      ]
     },
     "metadata": {
      "needs_background": "light"
     },
     "output_type": "display_data"
    }
   ],
   "source": [
    "import seaborn as sns\n",
    "import matplotlib.pyplot as plt\n",
    "sns.countplot(df['emailer_for_promotion'],label=\"Count\")\n",
    "plt.show()"
   ]
  },
  {
   "cell_type": "code",
   "execution_count": 41,
   "metadata": {},
   "outputs": [
    {
     "data": {
      "text/plain": [
       "0    436616\n",
       "1     52505\n",
       "Name: homepage_featured, dtype: int64"
      ]
     },
     "execution_count": 41,
     "metadata": {},
     "output_type": "execute_result"
    }
   ],
   "source": [
    "df.homepage_featured.value_counts()"
   ]
  },
  {
   "cell_type": "code",
   "execution_count": 42,
   "metadata": {},
   "outputs": [
    {
     "data": {
      "image/png": "[encoded data removed]",
      "text/plain": [
       "<Figure size 432x288 with 1 Axes>"
      ]
     },
     "metadata": {
      "needs_background": "light"
     },
     "output_type": "display_data"
    }
   ],
   "source": [
    "import seaborn as sns\n",
    "import matplotlib.pyplot as plt\n",
    "sns.countplot(df['homepage_featured'],label=\"Count\")\n",
    "plt.show()"
   ]
  },
  {
   "cell_type": "code",
   "execution_count": 43,
   "metadata": {},
   "outputs": [
    {
     "data": {
      "text/html": [
       "<div>\n",
       "<style scoped>\n",
       "    .dataframe tbody tr th:only-of-type {\n",
       "        vertical-align: middle;\n",
       "    }\n",
       "\n",
       "    .dataframe tbody tr th {\n",
       "        vertical-align: top;\n",
       "    }\n",
       "\n",
       "    .dataframe thead th {\n",
       "        text-align: right;\n",
       "    }\n",
       "</style>\n",
       "<table border=\"1\" class=\"dataframe\">\n",
       "  <thead>\n",
       "    <tr style=\"text-align: right;\">\n",
       "      <th></th>\n",
       "      <th>base_price</th>\n",
       "      <th>category</th>\n",
       "      <th>center_id</th>\n",
       "      <th>center_type</th>\n",
       "      <th>checkout_price</th>\n",
       "      <th>city_code</th>\n",
       "      <th>cuisine</th>\n",
       "      <th>emailer_for_promotion</th>\n",
       "      <th>homepage_featured</th>\n",
       "      <th>id</th>\n",
       "      <th>meal_id</th>\n",
       "      <th>num_orders</th>\n",
       "      <th>op_area</th>\n",
       "      <th>region_code</th>\n",
       "      <th>week</th>\n",
       "    </tr>\n",
       "  </thead>\n",
       "  <tbody>\n",
       "    <tr>\n",
       "      <th>0</th>\n",
       "      <td>152.29</td>\n",
       "      <td>0</td>\n",
       "      <td>55</td>\n",
       "      <td>2</td>\n",
       "      <td>136.83</td>\n",
       "      <td>647</td>\n",
       "      <td>0</td>\n",
       "      <td>0</td>\n",
       "      <td>0</td>\n",
       "      <td>1379560</td>\n",
       "      <td>1885</td>\n",
       "      <td>177.0</td>\n",
       "      <td>2.0</td>\n",
       "      <td>56</td>\n",
       "      <td>1</td>\n",
       "    </tr>\n",
       "    <tr>\n",
       "      <th>1</th>\n",
       "      <td>152.29</td>\n",
       "      <td>0</td>\n",
       "      <td>55</td>\n",
       "      <td>2</td>\n",
       "      <td>135.83</td>\n",
       "      <td>647</td>\n",
       "      <td>0</td>\n",
       "      <td>0</td>\n",
       "      <td>0</td>\n",
       "      <td>1018704</td>\n",
       "      <td>1885</td>\n",
       "      <td>323.0</td>\n",
       "      <td>2.0</td>\n",
       "      <td>56</td>\n",
       "      <td>2</td>\n",
       "    </tr>\n",
       "    <tr>\n",
       "      <th>2</th>\n",
       "      <td>133.92</td>\n",
       "      <td>0</td>\n",
       "      <td>55</td>\n",
       "      <td>2</td>\n",
       "      <td>132.92</td>\n",
       "      <td>647</td>\n",
       "      <td>0</td>\n",
       "      <td>0</td>\n",
       "      <td>0</td>\n",
       "      <td>1196273</td>\n",
       "      <td>1885</td>\n",
       "      <td>96.0</td>\n",
       "      <td>2.0</td>\n",
       "      <td>56</td>\n",
       "      <td>3</td>\n",
       "    </tr>\n",
       "    <tr>\n",
       "      <th>3</th>\n",
       "      <td>134.86</td>\n",
       "      <td>0</td>\n",
       "      <td>55</td>\n",
       "      <td>2</td>\n",
       "      <td>135.86</td>\n",
       "      <td>647</td>\n",
       "      <td>0</td>\n",
       "      <td>0</td>\n",
       "      <td>0</td>\n",
       "      <td>1116527</td>\n",
       "      <td>1885</td>\n",
       "      <td>163.0</td>\n",
       "      <td>2.0</td>\n",
       "      <td>56</td>\n",
       "      <td>4</td>\n",
       "    </tr>\n",
       "    <tr>\n",
       "      <th>4</th>\n",
       "      <td>147.50</td>\n",
       "      <td>0</td>\n",
       "      <td>55</td>\n",
       "      <td>2</td>\n",
       "      <td>146.50</td>\n",
       "      <td>647</td>\n",
       "      <td>0</td>\n",
       "      <td>0</td>\n",
       "      <td>0</td>\n",
       "      <td>1343872</td>\n",
       "      <td>1885</td>\n",
       "      <td>215.0</td>\n",
       "      <td>2.0</td>\n",
       "      <td>56</td>\n",
       "      <td>5</td>\n",
       "    </tr>\n",
       "  </tbody>\n",
       "</table>\n",
       "</div>"
      ],
      "text/plain": [
       "   base_price  category  center_id  center_type  checkout_price  city_code  \\\n",
       "0      152.29         0         55            2          136.83        647   \n",
       "1      152.29         0         55            2          135.83        647   \n",
       "2      133.92         0         55            2          132.92        647   \n",
       "3      134.86         0         55            2          135.86        647   \n",
       "4      147.50         0         55            2          146.50        647   \n",
       "\n",
       "   cuisine  emailer_for_promotion  homepage_featured       id  meal_id  \\\n",
       "0        0                      0                  0  1379560     1885   \n",
       "1        0                      0                  0  1018704     1885   \n",
       "2        0                      0                  0  1196273     1885   \n",
       "3        0                      0                  0  1116527     1885   \n",
       "4        0                      0                  0  1343872     1885   \n",
       "\n",
       "   num_orders  op_area  region_code  week  \n",
       "0       177.0      2.0           56     1  \n",
       "1       323.0      2.0           56     2  \n",
       "2        96.0      2.0           56     3  \n",
       "3       163.0      2.0           56     4  \n",
       "4       215.0      2.0           56     5  "
      ]
     },
     "execution_count": 43,
     "metadata": {},
     "output_type": "execute_result"
    }
   ],
   "source": [
    "data = pd.get_dummies(df)\n",
    "data.head()"
   ]
  },
  {
   "cell_type": "code",
   "execution_count": 44,
   "metadata": {},
   "outputs": [
    {
     "data": {
      "text/plain": [
       "base_price               0\n",
       "category                 0\n",
       "center_id                0\n",
       "center_type              0\n",
       "checkout_price           0\n",
       "city_code                0\n",
       "cuisine                  0\n",
       "emailer_for_promotion    0\n",
       "homepage_featured        0\n",
       "id                       0\n",
       "meal_id                  0\n",
       "num_orders               0\n",
       "op_area                  0\n",
       "region_code              0\n",
       "week                     0\n",
       "dtype: int64"
      ]
     },
     "execution_count": 44,
     "metadata": {},
     "output_type": "execute_result"
    }
   ],
   "source": [
    "data.dropna(inplace = True)\n",
    "data.isnull().sum()"
   ]
  },
  {
   "cell_type": "code",
   "execution_count": 45,
   "metadata": {},
   "outputs": [
    {
     "name": "stdout",
     "output_type": "stream",
     "text": [
      "<class 'pandas.core.frame.DataFrame'>\n",
      "Int64Index: 456548 entries, 0 to 456547\n",
      "Data columns (total 15 columns):\n",
      "base_price               456548 non-null float64\n",
      "category                 456548 non-null int64\n",
      "center_id                456548 non-null int64\n",
      "center_type              456548 non-null int64\n",
      "checkout_price           456548 non-null float64\n",
      "city_code                456548 non-null int64\n",
      "cuisine                  456548 non-null int64\n",
      "emailer_for_promotion    456548 non-null int64\n",
      "homepage_featured        456548 non-null int64\n",
      "id                       456548 non-null int64\n",
      "meal_id                  456548 non-null int64\n",
      "num_orders               456548 non-null float64\n",
      "op_area                  456548 non-null float64\n",
      "region_code              456548 non-null int64\n",
      "week                     456548 non-null int64\n",
      "dtypes: float64(4), int64(11)\n",
      "memory usage: 55.7 MB\n"
     ]
    }
   ],
   "source": [
    "data.info()"
   ]
  },
  {
   "cell_type": "code",
   "execution_count": 46,
   "metadata": {},
   "outputs": [
    {
     "data": {
      "text/plain": [
       "base_price               float64\n",
       "category                   int64\n",
       "center_id                  int64\n",
       "center_type                int64\n",
       "checkout_price           float64\n",
       "city_code                  int64\n",
       "cuisine                    int64\n",
       "emailer_for_promotion      int64\n",
       "homepage_featured          int64\n",
       "id                         int64\n",
       "meal_id                    int64\n",
       "num_orders               float64\n",
       "op_area                  float64\n",
       "region_code                int64\n",
       "week                       int64\n",
       "dtype: object"
      ]
     },
     "execution_count": 46,
     "metadata": {},
     "output_type": "execute_result"
    }
   ],
   "source": [
    "data.dtypes"
   ]
  },
  {
   "cell_type": "code",
   "execution_count": 47,
   "metadata": {},
   "outputs": [
    {
     "data": {
      "text/plain": [
       "{dtype('int64'): Index(['category', 'center_id', 'center_type', 'city_code', 'cuisine',\n",
       "        'emailer_for_promotion', 'homepage_featured', 'id', 'meal_id',\n",
       "        'region_code', 'week'],\n",
       "       dtype='object'),\n",
       " dtype('float64'): Index(['base_price', 'checkout_price', 'num_orders', 'op_area'], dtype='object')}"
      ]
     },
     "execution_count": 47,
     "metadata": {},
     "output_type": "execute_result"
    }
   ],
   "source": [
    "data.columns.to_series().groupby(data.dtypes).groups"
   ]
  },
  {
   "cell_type": "code",
   "execution_count": 48,
   "metadata": {
    "scrolled": true
   },
   "outputs": [
    {
     "data": {
      "text/html": [
       "<div>\n",
       "<style scoped>\n",
       "    .dataframe tbody tr th:only-of-type {\n",
       "        vertical-align: middle;\n",
       "    }\n",
       "\n",
       "    .dataframe tbody tr th {\n",
       "        vertical-align: top;\n",
       "    }\n",
       "\n",
       "    .dataframe thead th {\n",
       "        text-align: right;\n",
       "    }\n",
       "</style>\n",
       "<table border=\"1\" class=\"dataframe\">\n",
       "  <thead>\n",
       "    <tr style=\"text-align: right;\">\n",
       "      <th></th>\n",
       "      <th>base_price</th>\n",
       "      <th>category</th>\n",
       "      <th>center_id</th>\n",
       "      <th>center_type</th>\n",
       "      <th>checkout_price</th>\n",
       "      <th>city_code</th>\n",
       "      <th>cuisine</th>\n",
       "      <th>emailer_for_promotion</th>\n",
       "      <th>homepage_featured</th>\n",
       "      <th>id</th>\n",
       "      <th>meal_id</th>\n",
       "      <th>num_orders</th>\n",
       "      <th>op_area</th>\n",
       "      <th>region_code</th>\n",
       "      <th>week</th>\n",
       "    </tr>\n",
       "  </thead>\n",
       "  <tbody>\n",
       "    <tr>\n",
       "      <th>0</th>\n",
       "      <td>152.29</td>\n",
       "      <td>0</td>\n",
       "      <td>55</td>\n",
       "      <td>2</td>\n",
       "      <td>136.83</td>\n",
       "      <td>647</td>\n",
       "      <td>0</td>\n",
       "      <td>0</td>\n",
       "      <td>0</td>\n",
       "      <td>1379560</td>\n",
       "      <td>1885</td>\n",
       "      <td>177.0</td>\n",
       "      <td>2.0</td>\n",
       "      <td>56</td>\n",
       "      <td>1</td>\n",
       "    </tr>\n",
       "    <tr>\n",
       "      <th>1</th>\n",
       "      <td>152.29</td>\n",
       "      <td>0</td>\n",
       "      <td>55</td>\n",
       "      <td>2</td>\n",
       "      <td>135.83</td>\n",
       "      <td>647</td>\n",
       "      <td>0</td>\n",
       "      <td>0</td>\n",
       "      <td>0</td>\n",
       "      <td>1018704</td>\n",
       "      <td>1885</td>\n",
       "      <td>323.0</td>\n",
       "      <td>2.0</td>\n",
       "      <td>56</td>\n",
       "      <td>2</td>\n",
       "    </tr>\n",
       "    <tr>\n",
       "      <th>2</th>\n",
       "      <td>133.92</td>\n",
       "      <td>0</td>\n",
       "      <td>55</td>\n",
       "      <td>2</td>\n",
       "      <td>132.92</td>\n",
       "      <td>647</td>\n",
       "      <td>0</td>\n",
       "      <td>0</td>\n",
       "      <td>0</td>\n",
       "      <td>1196273</td>\n",
       "      <td>1885</td>\n",
       "      <td>96.0</td>\n",
       "      <td>2.0</td>\n",
       "      <td>56</td>\n",
       "      <td>3</td>\n",
       "    </tr>\n",
       "    <tr>\n",
       "      <th>3</th>\n",
       "      <td>134.86</td>\n",
       "      <td>0</td>\n",
       "      <td>55</td>\n",
       "      <td>2</td>\n",
       "      <td>135.86</td>\n",
       "      <td>647</td>\n",
       "      <td>0</td>\n",
       "      <td>0</td>\n",
       "      <td>0</td>\n",
       "      <td>1116527</td>\n",
       "      <td>1885</td>\n",
       "      <td>163.0</td>\n",
       "      <td>2.0</td>\n",
       "      <td>56</td>\n",
       "      <td>4</td>\n",
       "    </tr>\n",
       "    <tr>\n",
       "      <th>4</th>\n",
       "      <td>147.50</td>\n",
       "      <td>0</td>\n",
       "      <td>55</td>\n",
       "      <td>2</td>\n",
       "      <td>146.50</td>\n",
       "      <td>647</td>\n",
       "      <td>0</td>\n",
       "      <td>0</td>\n",
       "      <td>0</td>\n",
       "      <td>1343872</td>\n",
       "      <td>1885</td>\n",
       "      <td>215.0</td>\n",
       "      <td>2.0</td>\n",
       "      <td>56</td>\n",
       "      <td>5</td>\n",
       "    </tr>\n",
       "  </tbody>\n",
       "</table>\n",
       "</div>"
      ],
      "text/plain": [
       "   base_price  category  center_id  center_type  checkout_price  city_code  \\\n",
       "0      152.29         0         55            2          136.83        647   \n",
       "1      152.29         0         55            2          135.83        647   \n",
       "2      133.92         0         55            2          132.92        647   \n",
       "3      134.86         0         55            2          135.86        647   \n",
       "4      147.50         0         55            2          146.50        647   \n",
       "\n",
       "   cuisine  emailer_for_promotion  homepage_featured       id  meal_id  \\\n",
       "0        0                      0                  0  1379560     1885   \n",
       "1        0                      0                  0  1018704     1885   \n",
       "2        0                      0                  0  1196273     1885   \n",
       "3        0                      0                  0  1116527     1885   \n",
       "4        0                      0                  0  1343872     1885   \n",
       "\n",
       "   num_orders  op_area  region_code  week  \n",
       "0       177.0      2.0           56     1  \n",
       "1       323.0      2.0           56     2  \n",
       "2        96.0      2.0           56     3  \n",
       "3       163.0      2.0           56     4  \n",
       "4       215.0      2.0           56     5  "
      ]
     },
     "execution_count": 48,
     "metadata": {},
     "output_type": "execute_result"
    }
   ],
   "source": [
    "data.head()"
   ]
  },
  {
   "cell_type": "code",
   "execution_count": 49,
   "metadata": {},
   "outputs": [
    {
     "data": {
      "text/html": [
       "<div>\n",
       "<style scoped>\n",
       "    .dataframe tbody tr th:only-of-type {\n",
       "        vertical-align: middle;\n",
       "    }\n",
       "\n",
       "    .dataframe tbody tr th {\n",
       "        vertical-align: top;\n",
       "    }\n",
       "\n",
       "    .dataframe thead th {\n",
       "        text-align: right;\n",
       "    }\n",
       "</style>\n",
       "<table border=\"1\" class=\"dataframe\">\n",
       "  <thead>\n",
       "    <tr style=\"text-align: right;\">\n",
       "      <th></th>\n",
       "      <th>percent_missing</th>\n",
       "    </tr>\n",
       "  </thead>\n",
       "  <tbody>\n",
       "    <tr>\n",
       "      <th>base_price</th>\n",
       "      <td>0.0</td>\n",
       "    </tr>\n",
       "    <tr>\n",
       "      <th>category</th>\n",
       "      <td>0.0</td>\n",
       "    </tr>\n",
       "    <tr>\n",
       "      <th>center_id</th>\n",
       "      <td>0.0</td>\n",
       "    </tr>\n",
       "    <tr>\n",
       "      <th>center_type</th>\n",
       "      <td>0.0</td>\n",
       "    </tr>\n",
       "    <tr>\n",
       "      <th>checkout_price</th>\n",
       "      <td>0.0</td>\n",
       "    </tr>\n",
       "    <tr>\n",
       "      <th>city_code</th>\n",
       "      <td>0.0</td>\n",
       "    </tr>\n",
       "    <tr>\n",
       "      <th>cuisine</th>\n",
       "      <td>0.0</td>\n",
       "    </tr>\n",
       "    <tr>\n",
       "      <th>emailer_for_promotion</th>\n",
       "      <td>0.0</td>\n",
       "    </tr>\n",
       "    <tr>\n",
       "      <th>homepage_featured</th>\n",
       "      <td>0.0</td>\n",
       "    </tr>\n",
       "    <tr>\n",
       "      <th>id</th>\n",
       "      <td>0.0</td>\n",
       "    </tr>\n",
       "    <tr>\n",
       "      <th>meal_id</th>\n",
       "      <td>0.0</td>\n",
       "    </tr>\n",
       "    <tr>\n",
       "      <th>num_orders</th>\n",
       "      <td>0.0</td>\n",
       "    </tr>\n",
       "    <tr>\n",
       "      <th>op_area</th>\n",
       "      <td>0.0</td>\n",
       "    </tr>\n",
       "    <tr>\n",
       "      <th>region_code</th>\n",
       "      <td>0.0</td>\n",
       "    </tr>\n",
       "    <tr>\n",
       "      <th>week</th>\n",
       "      <td>0.0</td>\n",
       "    </tr>\n",
       "  </tbody>\n",
       "</table>\n",
       "</div>"
      ],
      "text/plain": [
       "                       percent_missing\n",
       "base_price                         0.0\n",
       "category                           0.0\n",
       "center_id                          0.0\n",
       "center_type                        0.0\n",
       "checkout_price                     0.0\n",
       "city_code                          0.0\n",
       "cuisine                            0.0\n",
       "emailer_for_promotion              0.0\n",
       "homepage_featured                  0.0\n",
       "id                                 0.0\n",
       "meal_id                            0.0\n",
       "num_orders                         0.0\n",
       "op_area                            0.0\n",
       "region_code                        0.0\n",
       "week                               0.0"
      ]
     },
     "execution_count": 49,
     "metadata": {},
     "output_type": "execute_result"
    }
   ],
   "source": [
    "percent_missing = data.isnull().sum() * 100 / len(data)\n",
    "missing_value_df = pd.DataFrame({'percent_missing': percent_missing})\n",
    "missing_value_df"
   ]
  },
  {
   "cell_type": "code",
   "execution_count": 50,
   "metadata": {},
   "outputs": [
    {
     "data": {
      "text/html": [
       "<div>\n",
       "<style scoped>\n",
       "    .dataframe tbody tr th:only-of-type {\n",
       "        vertical-align: middle;\n",
       "    }\n",
       "\n",
       "    .dataframe tbody tr th {\n",
       "        vertical-align: top;\n",
       "    }\n",
       "\n",
       "    .dataframe thead th {\n",
       "        text-align: right;\n",
       "    }\n",
       "</style>\n",
       "<table border=\"1\" class=\"dataframe\">\n",
       "  <thead>\n",
       "    <tr style=\"text-align: right;\">\n",
       "      <th></th>\n",
       "      <th>base_price</th>\n",
       "      <th>category</th>\n",
       "      <th>center_id</th>\n",
       "      <th>center_type</th>\n",
       "      <th>checkout_price</th>\n",
       "      <th>city_code</th>\n",
       "      <th>cuisine</th>\n",
       "      <th>emailer_for_promotion</th>\n",
       "      <th>homepage_featured</th>\n",
       "      <th>id</th>\n",
       "      <th>meal_id</th>\n",
       "      <th>num_orders</th>\n",
       "      <th>op_area</th>\n",
       "      <th>region_code</th>\n",
       "      <th>week</th>\n",
       "    </tr>\n",
       "  </thead>\n",
       "  <tbody>\n",
       "    <tr>\n",
       "      <th>count</th>\n",
       "      <td>456548.000000</td>\n",
       "      <td>456548.000000</td>\n",
       "      <td>456548.000000</td>\n",
       "      <td>456548.000000</td>\n",
       "      <td>456548.000000</td>\n",
       "      <td>456548.000000</td>\n",
       "      <td>456548.000000</td>\n",
       "      <td>456548.000000</td>\n",
       "      <td>456548.00000</td>\n",
       "      <td>4.565480e+05</td>\n",
       "      <td>456548.000000</td>\n",
       "      <td>456548.000000</td>\n",
       "      <td>456548.000000</td>\n",
       "      <td>456548.000000</td>\n",
       "      <td>456548.000000</td>\n",
       "    </tr>\n",
       "    <tr>\n",
       "      <th>mean</th>\n",
       "      <td>354.156627</td>\n",
       "      <td>4.599278</td>\n",
       "      <td>82.105796</td>\n",
       "      <td>0.642342</td>\n",
       "      <td>332.238933</td>\n",
       "      <td>601.553399</td>\n",
       "      <td>1.460628</td>\n",
       "      <td>0.081152</td>\n",
       "      <td>0.10920</td>\n",
       "      <td>1.250096e+06</td>\n",
       "      <td>2024.337458</td>\n",
       "      <td>261.872760</td>\n",
       "      <td>4.083590</td>\n",
       "      <td>56.614566</td>\n",
       "      <td>74.768771</td>\n",
       "    </tr>\n",
       "    <tr>\n",
       "      <th>std</th>\n",
       "      <td>160.715914</td>\n",
       "      <td>4.186359</td>\n",
       "      <td>45.975046</td>\n",
       "      <td>0.816105</td>\n",
       "      <td>152.939723</td>\n",
       "      <td>66.195914</td>\n",
       "      <td>1.103012</td>\n",
       "      <td>0.273069</td>\n",
       "      <td>0.31189</td>\n",
       "      <td>1.443548e+05</td>\n",
       "      <td>547.420920</td>\n",
       "      <td>395.922798</td>\n",
       "      <td>1.091686</td>\n",
       "      <td>17.641306</td>\n",
       "      <td>41.524956</td>\n",
       "    </tr>\n",
       "    <tr>\n",
       "      <th>min</th>\n",
       "      <td>55.350000</td>\n",
       "      <td>0.000000</td>\n",
       "      <td>10.000000</td>\n",
       "      <td>0.000000</td>\n",
       "      <td>2.970000</td>\n",
       "      <td>456.000000</td>\n",
       "      <td>0.000000</td>\n",
       "      <td>0.000000</td>\n",
       "      <td>0.00000</td>\n",
       "      <td>1.000000e+06</td>\n",
       "      <td>1062.000000</td>\n",
       "      <td>13.000000</td>\n",
       "      <td>0.900000</td>\n",
       "      <td>23.000000</td>\n",
       "      <td>1.000000</td>\n",
       "    </tr>\n",
       "    <tr>\n",
       "      <th>25%</th>\n",
       "      <td>243.500000</td>\n",
       "      <td>0.000000</td>\n",
       "      <td>43.000000</td>\n",
       "      <td>0.000000</td>\n",
       "      <td>228.950000</td>\n",
       "      <td>553.000000</td>\n",
       "      <td>0.000000</td>\n",
       "      <td>0.000000</td>\n",
       "      <td>0.00000</td>\n",
       "      <td>1.124999e+06</td>\n",
       "      <td>1558.000000</td>\n",
       "      <td>54.000000</td>\n",
       "      <td>3.600000</td>\n",
       "      <td>34.000000</td>\n",
       "      <td>39.000000</td>\n",
       "    </tr>\n",
       "    <tr>\n",
       "      <th>50%</th>\n",
       "      <td>310.460000</td>\n",
       "      <td>4.000000</td>\n",
       "      <td>76.000000</td>\n",
       "      <td>0.000000</td>\n",
       "      <td>296.820000</td>\n",
       "      <td>596.000000</td>\n",
       "      <td>1.000000</td>\n",
       "      <td>0.000000</td>\n",
       "      <td>0.00000</td>\n",
       "      <td>1.250184e+06</td>\n",
       "      <td>1993.000000</td>\n",
       "      <td>136.000000</td>\n",
       "      <td>4.000000</td>\n",
       "      <td>56.000000</td>\n",
       "      <td>76.000000</td>\n",
       "    </tr>\n",
       "    <tr>\n",
       "      <th>75%</th>\n",
       "      <td>458.870000</td>\n",
       "      <td>8.000000</td>\n",
       "      <td>110.000000</td>\n",
       "      <td>1.000000</td>\n",
       "      <td>445.230000</td>\n",
       "      <td>651.000000</td>\n",
       "      <td>2.000000</td>\n",
       "      <td>0.000000</td>\n",
       "      <td>0.00000</td>\n",
       "      <td>1.375140e+06</td>\n",
       "      <td>2539.000000</td>\n",
       "      <td>324.000000</td>\n",
       "      <td>4.500000</td>\n",
       "      <td>77.000000</td>\n",
       "      <td>111.000000</td>\n",
       "    </tr>\n",
       "    <tr>\n",
       "      <th>max</th>\n",
       "      <td>866.270000</td>\n",
       "      <td>13.000000</td>\n",
       "      <td>186.000000</td>\n",
       "      <td>2.000000</td>\n",
       "      <td>866.270000</td>\n",
       "      <td>713.000000</td>\n",
       "      <td>3.000000</td>\n",
       "      <td>1.000000</td>\n",
       "      <td>1.00000</td>\n",
       "      <td>1.499999e+06</td>\n",
       "      <td>2956.000000</td>\n",
       "      <td>24299.000000</td>\n",
       "      <td>7.000000</td>\n",
       "      <td>93.000000</td>\n",
       "      <td>145.000000</td>\n",
       "    </tr>\n",
       "  </tbody>\n",
       "</table>\n",
       "</div>"
      ],
      "text/plain": [
       "          base_price       category      center_id    center_type  \\\n",
       "count  456548.000000  456548.000000  456548.000000  456548.000000   \n",
       "mean      354.156627       4.599278      82.105796       0.642342   \n",
       "std       160.715914       4.186359      45.975046       0.816105   \n",
       "min        55.350000       0.000000      10.000000       0.000000   \n",
       "25%       243.500000       0.000000      43.000000       0.000000   \n",
       "50%       310.460000       4.000000      76.000000       0.000000   \n",
       "75%       458.870000       8.000000     110.000000       1.000000   \n",
       "max       866.270000      13.000000     186.000000       2.000000   \n",
       "\n",
       "       checkout_price      city_code        cuisine  emailer_for_promotion  \\\n",
       "count   456548.000000  456548.000000  456548.000000          456548.000000   \n",
       "mean       332.238933     601.553399       1.460628               0.081152   \n",
       "std        152.939723      66.195914       1.103012               0.273069   \n",
       "min          2.970000     456.000000       0.000000               0.000000   \n",
       "25%        228.950000     553.000000       0.000000               0.000000   \n",
       "50%        296.820000     596.000000       1.000000               0.000000   \n",
       "75%        445.230000     651.000000       2.000000               0.000000   \n",
       "max        866.270000     713.000000       3.000000               1.000000   \n",
       "\n",
       "       homepage_featured            id        meal_id     num_orders  \\\n",
       "count       456548.00000  4.565480e+05  456548.000000  456548.000000   \n",
       "mean             0.10920  1.250096e+06    2024.337458     261.872760   \n",
       "std              0.31189  1.443548e+05     547.420920     395.922798   \n",
       "min              0.00000  1.000000e+06    1062.000000      13.000000   \n",
       "25%              0.00000  1.124999e+06    1558.000000      54.000000   \n",
       "50%              0.00000  1.250184e+06    1993.000000     136.000000   \n",
       "75%              0.00000  1.375140e+06    2539.000000     324.000000   \n",
       "max              1.00000  1.499999e+06    2956.000000   24299.000000   \n",
       "\n",
       "             op_area    region_code           week  \n",
       "count  456548.000000  456548.000000  456548.000000  \n",
       "mean        4.083590      56.614566      74.768771  \n",
       "std         1.091686      17.641306      41.524956  \n",
       "min         0.900000      23.000000       1.000000  \n",
       "25%         3.600000      34.000000      39.000000  \n",
       "50%         4.000000      56.000000      76.000000  \n",
       "75%         4.500000      77.000000     111.000000  \n",
       "max         7.000000      93.000000     145.000000  "
      ]
     },
     "execution_count": 50,
     "metadata": {},
     "output_type": "execute_result"
    }
   ],
   "source": [
    "data.describe()"
   ]
  },
  {
   "cell_type": "code",
   "execution_count": 51,
   "metadata": {},
   "outputs": [
    {
     "data": {
      "text/plain": [
       "(456548, 15)"
      ]
     },
     "execution_count": 51,
     "metadata": {},
     "output_type": "execute_result"
    }
   ],
   "source": [
    "data.shape"
   ]
  },
  {
   "cell_type": "code",
   "execution_count": 52,
   "metadata": {},
   "outputs": [
    {
     "data": {
      "text/plain": [
       "Index(['base_price', 'category', 'center_id', 'center_type', 'checkout_price',\n",
       "       'city_code', 'cuisine', 'emailer_for_promotion', 'homepage_featured',\n",
       "       'id', 'meal_id', 'num_orders', 'op_area', 'region_code', 'week'],\n",
       "      dtype='object')"
      ]
     },
     "execution_count": 52,
     "metadata": {},
     "output_type": "execute_result"
    }
   ],
   "source": [
    "data.columns"
   ]
  },
  {
   "cell_type": "code",
   "execution_count": 53,
   "metadata": {},
   "outputs": [
    {
     "data": {
      "text/plain": [
       "array([     0,      1,      2, ..., 456545, 456546, 456547], dtype=int64)"
      ]
     },
     "execution_count": 53,
     "metadata": {},
     "output_type": "execute_result"
    }
   ],
   "source": [
    "data.index.values"
   ]
  },
  {
   "cell_type": "code",
   "execution_count": 54,
   "metadata": {},
   "outputs": [
    {
     "data": {
      "text/plain": [
       "array([  38,   69,   20, ..., 1193, 1113,  731], dtype=int64)"
      ]
     },
     "execution_count": 54,
     "metadata": {},
     "output_type": "execute_result"
    }
   ],
   "source": [
    "# Import label encoder \n",
    "from sklearn import preprocessing \n",
    "  \n",
    "# label_encoder object knows how to understand word labels. \n",
    "label_encoder = preprocessing.LabelEncoder() \n",
    "  \n",
    "# Encode labels in column 'species'. \n",
    "data['num_orders']= label_encoder.fit_transform(data['num_orders']) \n",
    "  \n",
    "data['num_orders'].unique() "
   ]
  },
  {
   "cell_type": "markdown",
   "metadata": {},
   "source": [
    "# Measures of Variability"
   ]
  },
  {
   "cell_type": "code",
   "execution_count": 55,
   "metadata": {},
   "outputs": [
    {
     "name": "stdout",
     "output_type": "stream",
     "text": [
      "base_price                  215.37\n",
      "category                      8.00\n",
      "center_id                    67.00\n",
      "center_type                   1.00\n",
      "checkout_price              216.28\n",
      "city_code                    98.00\n",
      "cuisine                       2.00\n",
      "emailer_for_promotion         0.00\n",
      "homepage_featured             0.00\n",
      "id                       250141.50\n",
      "meal_id                     981.00\n",
      "num_orders                   60.00\n",
      "op_area                       0.90\n",
      "region_code                  43.00\n",
      "week                         72.00\n",
      "dtype: float64\n"
     ]
    }
   ],
   "source": [
    "Q1 = data.quantile(0.25)\n",
    "Q3 = data.quantile(0.75)\n",
    "IQR = Q3 - Q1\n",
    "print(IQR)"
   ]
  },
  {
   "cell_type": "markdown",
   "metadata": {},
   "source": [
    "# Z-Score"
   ]
  },
  {
   "cell_type": "code",
   "execution_count": 56,
   "metadata": {},
   "outputs": [
    {
     "name": "stdout",
     "output_type": "stream",
     "text": [
      "[[1.25604767 1.09863549 0.58957691 ... 1.90859952 0.03483682 1.77649439]\n",
      " [1.25604767 1.09863549 0.58957691 ... 1.90859952 0.03483682 1.75241246]\n",
      " [1.37034885 1.09863549 0.58957691 ... 1.90859952 0.03483682 1.72833053]\n",
      " ...\n",
      " [1.41164378 1.76782027 0.45907119 ... 0.38143789 1.15555258 1.64313968]\n",
      " [1.41164378 1.76782027 0.45907119 ... 0.38143789 1.15555258 1.66722161]\n",
      " [1.41786595 1.76782027 0.45907119 ... 0.38143789 1.15555258 1.69130354]]\n"
     ]
    }
   ],
   "source": [
    "from scipy import stats\n",
    "z = np.abs(stats.zscore(data))\n",
    "print(z)"
   ]
  },
  {
   "cell_type": "code",
   "execution_count": 57,
   "metadata": {},
   "outputs": [
    {
     "name": "stdout",
     "output_type": "stream",
     "text": [
      "(array([    51,     52,    145, ..., 456160, 456449, 456450], dtype=int64), array([ 7,  7, 11, ...,  7,  7,  7], dtype=int64))\n"
     ]
    }
   ],
   "source": [
    "threshold = 3\n",
    "print(np.where(z > 3))"
   ]
  },
  {
   "cell_type": "code",
   "execution_count": 58,
   "metadata": {},
   "outputs": [
    {
     "name": "stdout",
     "output_type": "stream",
     "text": [
      "1.0986354854730171\n"
     ]
    }
   ],
   "source": [
    "print(z[51][1])"
   ]
  },
  {
   "cell_type": "markdown",
   "metadata": {},
   "source": [
    "# Standard Deviation"
   ]
  },
  {
   "cell_type": "code",
   "execution_count": 59,
   "metadata": {},
   "outputs": [
    {
     "name": "stdout",
     "output_type": "stream",
     "text": [
      "base_price                  160.715914\n",
      "category                      4.186359\n",
      "center_id                    45.975046\n",
      "center_type                   0.816105\n",
      "checkout_price              152.939723\n",
      "city_code                    66.195914\n",
      "cuisine                       1.103012\n",
      "emailer_for_promotion         0.273069\n",
      "homepage_featured             0.311890\n",
      "id                       144354.822378\n",
      "meal_id                     547.420920\n",
      "num_orders                   83.419591\n",
      "op_area                       1.091686\n",
      "region_code                  17.641306\n",
      "week                         41.524956\n",
      "dtype: float64\n"
     ]
    }
   ],
   "source": [
    "print(data.std())"
   ]
  },
  {
   "cell_type": "code",
   "execution_count": 60,
   "metadata": {},
   "outputs": [],
   "source": [
    "data_idx = data.set_index('week')\n",
    "sumbyweek = data_idx['num_orders'].groupby(level=0).sum()\n",
    "maxbyweek = data_idx['num_orders'].groupby(level=0).max()"
   ]
  },
  {
   "cell_type": "code",
   "execution_count": 61,
   "metadata": {},
   "outputs": [
    {
     "data": {
      "text/html": [
       "<div>\n",
       "<style scoped>\n",
       "    .dataframe tbody tr th:only-of-type {\n",
       "        vertical-align: middle;\n",
       "    }\n",
       "\n",
       "    .dataframe tbody tr th {\n",
       "        vertical-align: top;\n",
       "    }\n",
       "\n",
       "    .dataframe thead th {\n",
       "        text-align: right;\n",
       "    }\n",
       "</style>\n",
       "<table border=\"1\" class=\"dataframe\">\n",
       "  <thead>\n",
       "    <tr style=\"text-align: right;\">\n",
       "      <th></th>\n",
       "      <th>base_price</th>\n",
       "      <th>category</th>\n",
       "      <th>center_id</th>\n",
       "      <th>center_type</th>\n",
       "      <th>checkout_price</th>\n",
       "      <th>city_code</th>\n",
       "      <th>cuisine</th>\n",
       "      <th>emailer_for_promotion</th>\n",
       "      <th>homepage_featured</th>\n",
       "      <th>id</th>\n",
       "      <th>meal_id</th>\n",
       "      <th>num_orders</th>\n",
       "      <th>op_area</th>\n",
       "      <th>region_code</th>\n",
       "    </tr>\n",
       "    <tr>\n",
       "      <th>week</th>\n",
       "      <th></th>\n",
       "      <th></th>\n",
       "      <th></th>\n",
       "      <th></th>\n",
       "      <th></th>\n",
       "      <th></th>\n",
       "      <th></th>\n",
       "      <th></th>\n",
       "      <th></th>\n",
       "      <th></th>\n",
       "      <th></th>\n",
       "      <th></th>\n",
       "      <th></th>\n",
       "      <th></th>\n",
       "    </tr>\n",
       "  </thead>\n",
       "  <tbody>\n",
       "    <tr>\n",
       "      <th>1</th>\n",
       "      <td>152.29</td>\n",
       "      <td>0</td>\n",
       "      <td>55</td>\n",
       "      <td>2</td>\n",
       "      <td>136.83</td>\n",
       "      <td>647</td>\n",
       "      <td>0</td>\n",
       "      <td>0</td>\n",
       "      <td>0</td>\n",
       "      <td>1379560</td>\n",
       "      <td>1885</td>\n",
       "      <td>38</td>\n",
       "      <td>2.0</td>\n",
       "      <td>56</td>\n",
       "    </tr>\n",
       "    <tr>\n",
       "      <th>2</th>\n",
       "      <td>152.29</td>\n",
       "      <td>0</td>\n",
       "      <td>55</td>\n",
       "      <td>2</td>\n",
       "      <td>135.83</td>\n",
       "      <td>647</td>\n",
       "      <td>0</td>\n",
       "      <td>0</td>\n",
       "      <td>0</td>\n",
       "      <td>1018704</td>\n",
       "      <td>1885</td>\n",
       "      <td>69</td>\n",
       "      <td>2.0</td>\n",
       "      <td>56</td>\n",
       "    </tr>\n",
       "    <tr>\n",
       "      <th>3</th>\n",
       "      <td>133.92</td>\n",
       "      <td>0</td>\n",
       "      <td>55</td>\n",
       "      <td>2</td>\n",
       "      <td>132.92</td>\n",
       "      <td>647</td>\n",
       "      <td>0</td>\n",
       "      <td>0</td>\n",
       "      <td>0</td>\n",
       "      <td>1196273</td>\n",
       "      <td>1885</td>\n",
       "      <td>20</td>\n",
       "      <td>2.0</td>\n",
       "      <td>56</td>\n",
       "    </tr>\n",
       "    <tr>\n",
       "      <th>4</th>\n",
       "      <td>134.86</td>\n",
       "      <td>0</td>\n",
       "      <td>55</td>\n",
       "      <td>2</td>\n",
       "      <td>135.86</td>\n",
       "      <td>647</td>\n",
       "      <td>0</td>\n",
       "      <td>0</td>\n",
       "      <td>0</td>\n",
       "      <td>1116527</td>\n",
       "      <td>1885</td>\n",
       "      <td>35</td>\n",
       "      <td>2.0</td>\n",
       "      <td>56</td>\n",
       "    </tr>\n",
       "    <tr>\n",
       "      <th>5</th>\n",
       "      <td>147.50</td>\n",
       "      <td>0</td>\n",
       "      <td>55</td>\n",
       "      <td>2</td>\n",
       "      <td>146.50</td>\n",
       "      <td>647</td>\n",
       "      <td>0</td>\n",
       "      <td>0</td>\n",
       "      <td>0</td>\n",
       "      <td>1343872</td>\n",
       "      <td>1885</td>\n",
       "      <td>45</td>\n",
       "      <td>2.0</td>\n",
       "      <td>56</td>\n",
       "    </tr>\n",
       "  </tbody>\n",
       "</table>\n",
       "</div>"
      ],
      "text/plain": [
       "      base_price  category  center_id  center_type  checkout_price  city_code  \\\n",
       "week                                                                            \n",
       "1         152.29         0         55            2          136.83        647   \n",
       "2         152.29         0         55            2          135.83        647   \n",
       "3         133.92         0         55            2          132.92        647   \n",
       "4         134.86         0         55            2          135.86        647   \n",
       "5         147.50         0         55            2          146.50        647   \n",
       "\n",
       "      cuisine  emailer_for_promotion  homepage_featured       id  meal_id  \\\n",
       "week                                                                        \n",
       "1           0                      0                  0  1379560     1885   \n",
       "2           0                      0                  0  1018704     1885   \n",
       "3           0                      0                  0  1196273     1885   \n",
       "4           0                      0                  0  1116527     1885   \n",
       "5           0                      0                  0  1343872     1885   \n",
       "\n",
       "      num_orders  op_area  region_code  \n",
       "week                                    \n",
       "1             38      2.0           56  \n",
       "2             69      2.0           56  \n",
       "3             20      2.0           56  \n",
       "4             35      2.0           56  \n",
       "5             45      2.0           56  "
      ]
     },
     "execution_count": 61,
     "metadata": {},
     "output_type": "execute_result"
    }
   ],
   "source": [
    "data_idx.head()"
   ]
  },
  {
   "cell_type": "code",
   "execution_count": 62,
   "metadata": {},
   "outputs": [
    {
     "data": {
      "text/plain": [
       "week\n",
       "1    170008\n",
       "2    169000\n",
       "3    148558\n",
       "4    159308\n",
       "5    229002\n",
       "Name: num_orders, dtype: int64"
      ]
     },
     "execution_count": 62,
     "metadata": {},
     "output_type": "execute_result"
    }
   ],
   "source": [
    "sumbyweek.head()"
   ]
  },
  {
   "cell_type": "code",
   "execution_count": 63,
   "metadata": {},
   "outputs": [
    {
     "data": {
      "text/plain": [
       "week\n",
       "1     777\n",
       "2     577\n",
       "3     560\n",
       "4     702\n",
       "5    1249\n",
       "Name: num_orders, dtype: int64"
      ]
     },
     "execution_count": 63,
     "metadata": {},
     "output_type": "execute_result"
    }
   ],
   "source": [
    "maxbyweek.head()"
   ]
  },
  {
   "cell_type": "code",
   "execution_count": 64,
   "metadata": {},
   "outputs": [
    {
     "data": {
      "text/html": [
       "<div>\n",
       "<style scoped>\n",
       "    .dataframe tbody tr th:only-of-type {\n",
       "        vertical-align: middle;\n",
       "    }\n",
       "\n",
       "    .dataframe tbody tr th {\n",
       "        vertical-align: top;\n",
       "    }\n",
       "\n",
       "    .dataframe thead th {\n",
       "        text-align: right;\n",
       "    }\n",
       "</style>\n",
       "<table border=\"1\" class=\"dataframe\">\n",
       "  <thead>\n",
       "    <tr style=\"text-align: right;\">\n",
       "      <th></th>\n",
       "      <th>Num_orders_Sum_by_Week</th>\n",
       "      <th>Num_orders_Max_by_Week</th>\n",
       "    </tr>\n",
       "    <tr>\n",
       "      <th>week</th>\n",
       "      <th></th>\n",
       "      <th></th>\n",
       "    </tr>\n",
       "  </thead>\n",
       "  <tbody>\n",
       "    <tr>\n",
       "      <th>1</th>\n",
       "      <td>170008</td>\n",
       "      <td>777</td>\n",
       "    </tr>\n",
       "    <tr>\n",
       "      <th>2</th>\n",
       "      <td>169000</td>\n",
       "      <td>577</td>\n",
       "    </tr>\n",
       "    <tr>\n",
       "      <th>3</th>\n",
       "      <td>148558</td>\n",
       "      <td>560</td>\n",
       "    </tr>\n",
       "    <tr>\n",
       "      <th>4</th>\n",
       "      <td>159308</td>\n",
       "      <td>702</td>\n",
       "    </tr>\n",
       "    <tr>\n",
       "      <th>5</th>\n",
       "      <td>229002</td>\n",
       "      <td>1249</td>\n",
       "    </tr>\n",
       "  </tbody>\n",
       "</table>\n",
       "</div>"
      ],
      "text/plain": [
       "      Num_orders_Sum_by_Week  Num_orders_Max_by_Week\n",
       "week                                                \n",
       "1                     170008                     777\n",
       "2                     169000                     577\n",
       "3                     148558                     560\n",
       "4                     159308                     702\n",
       "5                     229002                    1249"
      ]
     },
     "execution_count": 64,
     "metadata": {},
     "output_type": "execute_result"
    }
   ],
   "source": [
    "num_orders_week_agg = pd.DataFrame({'Num_orders_Sum_by_Week': sumbyweek, 'Num_orders_Max_by_Week': maxbyweek})\n",
    "num_orders_week_agg.head()"
   ]
  },
  {
   "cell_type": "code",
   "execution_count": 65,
   "metadata": {},
   "outputs": [
    {
     "data": {
      "text/html": [
       "<div>\n",
       "<style scoped>\n",
       "    .dataframe tbody tr th:only-of-type {\n",
       "        vertical-align: middle;\n",
       "    }\n",
       "\n",
       "    .dataframe tbody tr th {\n",
       "        vertical-align: top;\n",
       "    }\n",
       "\n",
       "    .dataframe thead th {\n",
       "        text-align: right;\n",
       "    }\n",
       "</style>\n",
       "<table border=\"1\" class=\"dataframe\">\n",
       "  <thead>\n",
       "    <tr style=\"text-align: right;\">\n",
       "      <th></th>\n",
       "      <th>Num_orders_Sum_by_Week</th>\n",
       "      <th>Num_orders_Max_by_Week</th>\n",
       "    </tr>\n",
       "    <tr>\n",
       "      <th>week</th>\n",
       "      <th></th>\n",
       "      <th></th>\n",
       "    </tr>\n",
       "  </thead>\n",
       "  <tbody>\n",
       "    <tr>\n",
       "      <th>5</th>\n",
       "      <td>229002</td>\n",
       "      <td>1249</td>\n",
       "    </tr>\n",
       "    <tr>\n",
       "      <th>7</th>\n",
       "      <td>190509</td>\n",
       "      <td>1248</td>\n",
       "    </tr>\n",
       "    <tr>\n",
       "      <th>6</th>\n",
       "      <td>196854</td>\n",
       "      <td>1247</td>\n",
       "    </tr>\n",
       "    <tr>\n",
       "      <th>132</th>\n",
       "      <td>196046</td>\n",
       "      <td>1245</td>\n",
       "    </tr>\n",
       "    <tr>\n",
       "      <th>32</th>\n",
       "      <td>220757</td>\n",
       "      <td>1243</td>\n",
       "    </tr>\n",
       "  </tbody>\n",
       "</table>\n",
       "</div>"
      ],
      "text/plain": [
       "      Num_orders_Sum_by_Week  Num_orders_Max_by_Week\n",
       "week                                                \n",
       "5                     229002                    1249\n",
       "7                     190509                    1248\n",
       "6                     196854                    1247\n",
       "132                   196046                    1245\n",
       "32                    220757                    1243"
      ]
     },
     "execution_count": 65,
     "metadata": {},
     "output_type": "execute_result"
    }
   ],
   "source": [
    "num_orders_week_agg.sort_values(by='Num_orders_Max_by_Week',ascending=False).head()"
   ]
  },
  {
   "cell_type": "markdown",
   "metadata": {},
   "source": [
    "# Box Plot"
   ]
  },
  {
   "cell_type": "code",
   "execution_count": 66,
   "metadata": {},
   "outputs": [
    {
     "data": {
      "text/plain": [
       "<matplotlib.axes._subplots.AxesSubplot at 0x21042a88fd0>"
      ]
     },
     "execution_count": 66,
     "metadata": {},
     "output_type": "execute_result"
    },
    {
     "data": {
      "image/png": "[encoded data removed]",
      "text/plain": [
       "<Figure size 432x288 with 1 Axes>"
      ]
     },
     "metadata": {
      "needs_background": "light"
     },
     "output_type": "display_data"
    }
   ],
   "source": [
    "import seaborn as sns\n",
    "sns.boxplot(x=data['region_code'])"
   ]
  },
  {
   "cell_type": "code",
   "execution_count": 67,
   "metadata": {},
   "outputs": [
    {
     "data": {
      "text/plain": [
       "<matplotlib.axes._subplots.AxesSubplot at 0x21042a611d0>"
      ]
     },
     "execution_count": 67,
     "metadata": {},
     "output_type": "execute_result"
    },
    {
     "data": {
      "image/png": "[encoded data removed]",
      "text/plain": [
       "<Figure size 432x288 with 1 Axes>"
      ]
     },
     "metadata": {
      "needs_background": "light"
     },
     "output_type": "display_data"
    }
   ],
   "source": [
    "import seaborn as sns\n",
    "sns.boxplot(x=data['op_area'])"
   ]
  },
  {
   "cell_type": "code",
   "execution_count": 68,
   "metadata": {},
   "outputs": [
    {
     "data": {
      "text/plain": [
       "<matplotlib.axes._subplots.AxesSubplot at 0x210429b81d0>"
      ]
     },
     "execution_count": 68,
     "metadata": {},
     "output_type": "execute_result"
    },
    {
     "data": {
      "image/png": "[encoded data removed]",
      "text/plain": [
       "<Figure size 432x288 with 1 Axes>"
      ]
     },
     "metadata": {
      "needs_background": "light"
     },
     "output_type": "display_data"
    }
   ],
   "source": [
    "import seaborn as sns\n",
    "sns.boxplot(x=data['num_orders'])"
   ]
  },
  {
   "cell_type": "markdown",
   "metadata": {},
   "source": [
    "# Histogram Plot"
   ]
  },
  {
   "cell_type": "code",
   "execution_count": 69,
   "metadata": {},
   "outputs": [
    {
     "data": {
      "image/png": "[encoded data removed]",
      "text/plain": [
       "<Figure size 1440x1440 with 16 Axes>"
      ]
     },
     "metadata": {
      "needs_background": "light"
     },
     "output_type": "display_data"
    }
   ],
   "source": [
    "data.hist(figsize=(20,20))\n",
    "plt.show()"
   ]
  },
  {
   "cell_type": "code",
   "execution_count": 70,
   "metadata": {},
   "outputs": [
    {
     "data": {
      "image/png": "[encoded data removed]",
      "text/plain": [
       "<Figure size 720x720 with 2 Axes>"
      ]
     },
     "metadata": {
      "needs_background": "light"
     },
     "output_type": "display_data"
    }
   ],
   "source": [
    "plt.figure(figsize = (10,10))\n",
    "sns.heatmap(data.corr())\n",
    "plt.show()"
   ]
  },
  {
   "cell_type": "markdown",
   "metadata": {},
   "source": [
    "# Bar Plot"
   ]
  },
  {
   "cell_type": "markdown",
   "metadata": {},
   "source": [
    "# Number of orders from different Centers"
   ]
  },
  {
   "cell_type": "code",
   "execution_count": 71,
   "metadata": {},
   "outputs": [
    {
     "data": {
      "text/plain": [
       "<matplotlib.axes._subplots.AxesSubplot at 0x210489220f0>"
      ]
     },
     "execution_count": 71,
     "metadata": {},
     "output_type": "execute_result"
    },
    {
     "data": {
      "image/png": "[encoded data removed]",
      "text/plain": [
       "<Figure size 1800x1080 with 1 Axes>"
      ]
     },
     "metadata": {
      "needs_background": "light"
     },
     "output_type": "display_data"
    }
   ],
   "source": [
    "plt.figure(figsize = (25,15))\n",
    "sns.barplot(data['center_id'],data['num_orders'])"
   ]
  },
  {
   "cell_type": "markdown",
   "metadata": {},
   "source": [
    "Here we see that more number of orders are placed from center ids 10,13,43,52 and less for 41,53,55,57,74,91,149"
   ]
  },
  {
   "cell_type": "markdown",
   "metadata": {},
   "source": [
    "Category has Beverages, Rice Bowl, Starters, Pasta, Sandwich, Biryani, Extras, Pizza, Seafood, Other Snacks, Desert,Salad, Fish, Soup"
   ]
  },
  {
   "cell_type": "markdown",
   "metadata": {},
   "source": [
    "# Numbers of orders from different Categories"
   ]
  },
  {
   "cell_type": "code",
   "execution_count": 72,
   "metadata": {},
   "outputs": [
    {
     "data": {
      "text/plain": [
       "<matplotlib.axes._subplots.AxesSubplot at 0x21048a222e8>"
      ]
     },
     "execution_count": 72,
     "metadata": {},
     "output_type": "execute_result"
    },
    {
     "data": {
      "image/png": "[encoded data removed]",
      "text/plain": [
       "<Figure size 432x288 with 1 Axes>"
      ]
     },
     "metadata": {
      "needs_background": "light"
     },
     "output_type": "display_data"
    }
   ],
   "source": [
    "sns.barplot(data['category'],data['num_orders'])"
   ]
  },
  {
   "cell_type": "markdown",
   "metadata": {},
   "source": [
    "Cuisine has Thai, Indian, Italian, Continental"
   ]
  },
  {
   "cell_type": "markdown",
   "metadata": {},
   "source": [
    "# Number of orders from different types of Cuisines"
   ]
  },
  {
   "cell_type": "code",
   "execution_count": 73,
   "metadata": {},
   "outputs": [
    {
     "data": {
      "text/plain": [
       "<matplotlib.axes._subplots.AxesSubplot at 0x2104deb56d8>"
      ]
     },
     "execution_count": 73,
     "metadata": {},
     "output_type": "execute_result"
    },
    {
     "data": {
      "image/png": "[encoded data removed]",
      "text/plain": [
       "<Figure size 432x288 with 1 Axes>"
      ]
     },
     "metadata": {
      "needs_background": "light"
     },
     "output_type": "display_data"
    }
   ],
   "source": [
    "sns.barplot(data['cuisine'],data['num_orders'])"
   ]
  },
  {
   "cell_type": "markdown",
   "metadata": {},
   "source": [
    "# Number of Orders from different regions"
   ]
  },
  {
   "cell_type": "code",
   "execution_count": 74,
   "metadata": {},
   "outputs": [
    {
     "data": {
      "text/plain": [
       "<matplotlib.axes._subplots.AxesSubplot at 0x2104df18e80>"
      ]
     },
     "execution_count": 74,
     "metadata": {},
     "output_type": "execute_result"
    },
    {
     "data": {
      "image/png": "[encoded data removed]",
      "text/plain": [
       "<Figure size 432x288 with 1 Axes>"
      ]
     },
     "metadata": {
      "needs_background": "light"
     },
     "output_type": "display_data"
    }
   ],
   "source": [
    "sns.barplot(data['region_code'],data['num_orders'])"
   ]
  },
  {
   "cell_type": "markdown",
   "metadata": {},
   "source": [
    "# Number of orders from different areas"
   ]
  },
  {
   "cell_type": "code",
   "execution_count": 75,
   "metadata": {},
   "outputs": [
    {
     "data": {
      "text/plain": [
       "<matplotlib.axes._subplots.AxesSubplot at 0x2104df2ab38>"
      ]
     },
     "execution_count": 75,
     "metadata": {},
     "output_type": "execute_result"
    },
    {
     "data": {
      "image/png": "[encoded data removed]",
      "text/plain": [
       "<Figure size 1440x720 with 1 Axes>"
      ]
     },
     "metadata": {
      "needs_background": "light"
     },
     "output_type": "display_data"
    }
   ],
   "source": [
    "plt.figure(figsize = (20,10))\n",
    "sns.barplot(data['op_area'],data['num_orders'])"
   ]
  },
  {
   "cell_type": "markdown",
   "metadata": {},
   "source": [
    "# Cat Plot"
   ]
  },
  {
   "cell_type": "code",
   "execution_count": 76,
   "metadata": {},
   "outputs": [
    {
     "data": {
      "text/plain": [
       "<seaborn.axisgrid.FacetGrid at 0x2104dea2c18>"
      ]
     },
     "execution_count": 76,
     "metadata": {},
     "output_type": "execute_result"
    },
    {
     "data": {
      "image/png": "[encoded data removed]",
      "text/plain": [
       "<Figure size 1440x360 with 1 Axes>"
      ]
     },
     "metadata": {
      "needs_background": "light"
     },
     "output_type": "display_data"
    }
   ],
   "source": [
    "sns.catplot(x=\"meal_id\", y=\"num_orders\", kind=\"bar\", data=data, aspect=4)"
   ]
  },
  {
   "cell_type": "markdown",
   "metadata": {},
   "source": [
    "More orders have been placed for meal id 2290, 1885,1754,1993,2707,2826...."
   ]
  },
  {
   "cell_type": "code",
   "execution_count": 77,
   "metadata": {},
   "outputs": [
    {
     "data": {
      "text/plain": [
       "<seaborn.axisgrid.FacetGrid at 0x2104fff5518>"
      ]
     },
     "execution_count": 77,
     "metadata": {},
     "output_type": "execute_result"
    },
    {
     "data": {
      "image/png": "[encoded data removed]",
      "text/plain": [
       "<Figure size 1440x360 with 1 Axes>"
      ]
     },
     "metadata": {
      "needs_background": "light"
     },
     "output_type": "display_data"
    }
   ],
   "source": [
    "sns.catplot(x=\"city_code\", y=\"num_orders\", kind=\"bar\", data=data, aspect =4)"
   ]
  },
  {
   "cell_type": "markdown",
   "metadata": {},
   "source": [
    "# Joint Plot"
   ]
  },
  {
   "cell_type": "code",
   "execution_count": 78,
   "metadata": {},
   "outputs": [
    {
     "data": {
      "text/plain": [
       "<seaborn.axisgrid.JointGrid at 0x210487ab160>"
      ]
     },
     "execution_count": 78,
     "metadata": {},
     "output_type": "execute_result"
    },
    {
     "data": {
      "image/png": "[encoded data removed]",
      "text/plain": [
       "<Figure size 432x432 with 3 Axes>"
      ]
     },
     "metadata": {
      "needs_background": "light"
     },
     "output_type": "display_data"
    }
   ],
   "source": [
    "sns.jointplot(x='checkout_price',y='num_orders',data = data)"
   ]
  },
  {
   "cell_type": "code",
   "execution_count": 79,
   "metadata": {},
   "outputs": [
    {
     "data": {
      "text/plain": [
       "<seaborn.axisgrid.JointGrid at 0x2104bcb53c8>"
      ]
     },
     "execution_count": 79,
     "metadata": {},
     "output_type": "execute_result"
    },
    {
     "data": {
      "image/png": "[encoded data removed]",
      "text/plain": [
       "<Figure size 432x432 with 3 Axes>"
      ]
     },
     "metadata": {
      "needs_background": "light"
     },
     "output_type": "display_data"
    }
   ],
   "source": [
    "sns.jointplot(x='op_area',y='num_orders',data = data)"
   ]
  },
  {
   "cell_type": "markdown",
   "metadata": {},
   "source": [
    "# Number of orders from different Regions"
   ]
  },
  {
   "cell_type": "code",
   "execution_count": 80,
   "metadata": {},
   "outputs": [
    {
     "data": {
      "text/plain": [
       "<seaborn.axisgrid.JointGrid at 0x21042af8278>"
      ]
     },
     "execution_count": 80,
     "metadata": {},
     "output_type": "execute_result"
    },
    {
     "data": {
      "image/png": "[encoded data removed]",
      "text/plain": [
       "<Figure size 432x432 with 3 Axes>"
      ]
     },
     "metadata": {
      "needs_background": "light"
     },
     "output_type": "display_data"
    }
   ],
   "source": [
    "sns.jointplot(x='region_code',y='num_orders',data = data)"
   ]
  },
  {
   "cell_type": "markdown",
   "metadata": {},
   "source": [
    "# Number of orders from different cities"
   ]
  },
  {
   "cell_type": "code",
   "execution_count": 81,
   "metadata": {},
   "outputs": [
    {
     "data": {
      "text/plain": [
       "<seaborn.axisgrid.JointGrid at 0x210484f8f60>"
      ]
     },
     "execution_count": 81,
     "metadata": {},
     "output_type": "execute_result"
    },
    {
     "data": {
      "image/png": "[encoded data removed]",
      "text/plain": [
       "<Figure size 432x432 with 3 Axes>"
      ]
     },
     "metadata": {
      "needs_background": "light"
     },
     "output_type": "display_data"
    }
   ],
   "source": [
    "sns.jointplot(x='city_code',y='num_orders',data = data)"
   ]
  },
  {
   "cell_type": "markdown",
   "metadata": {},
   "source": [
    "# Number of orders from Different Centers"
   ]
  },
  {
   "cell_type": "code",
   "execution_count": 82,
   "metadata": {},
   "outputs": [
    {
     "data": {
      "text/plain": [
       "<seaborn.axisgrid.JointGrid at 0x2104dd81f60>"
      ]
     },
     "execution_count": 82,
     "metadata": {},
     "output_type": "execute_result"
    },
    {
     "data": {
      "image/png": "[encoded data removed]",
      "text/plain": [
       "<Figure size 432x432 with 3 Axes>"
      ]
     },
     "metadata": {
      "needs_background": "light"
     },
     "output_type": "display_data"
    }
   ],
   "source": [
    "sns.jointplot(x='center_id',y='num_orders',data = data)"
   ]
  },
  {
   "cell_type": "markdown",
   "metadata": {},
   "source": [
    "\n",
    "# Line Plot"
   ]
  },
  {
   "cell_type": "markdown",
   "metadata": {},
   "source": [
    "# Number of orders in a week"
   ]
  },
  {
   "cell_type": "code",
   "execution_count": 83,
   "metadata": {},
   "outputs": [
    {
     "data": {
      "text/plain": [
       "<matplotlib.axes._subplots.AxesSubplot at 0x2105005f320>"
      ]
     },
     "execution_count": 83,
     "metadata": {},
     "output_type": "execute_result"
    },
    {
     "data": {
      "image/png": "[encoded data removed]",
      "text/plain": [
       "<Figure size 1080x360 with 1 Axes>"
      ]
     },
     "metadata": {
      "needs_background": "light"
     },
     "output_type": "display_data"
    }
   ],
   "source": [
    "plt.figure(figsize = (15,5))\n",
    "sns.lineplot(data['week'],data['num_orders'])"
   ]
  },
  {
   "cell_type": "markdown",
   "metadata": {},
   "source": [
    "# Number of orders from different cities."
   ]
  },
  {
   "cell_type": "code",
   "execution_count": 84,
   "metadata": {},
   "outputs": [
    {
     "data": {
      "text/plain": [
       "<matplotlib.axes._subplots.AxesSubplot at 0x21053b75550>"
      ]
     },
     "execution_count": 84,
     "metadata": {},
     "output_type": "execute_result"
    },
    {
     "data": {
      "image/png": "[encoded data removed]",
      "text/plain": [
       "<Figure size 1080x360 with 1 Axes>"
      ]
     },
     "metadata": {
      "needs_background": "light"
     },
     "output_type": "display_data"
    }
   ],
   "source": [
    "plt.figure(figsize = (15,5))\n",
    "sns.lineplot(data['city_code'],data['num_orders'])"
   ]
  },
  {
   "cell_type": "code",
   "execution_count": 85,
   "metadata": {},
   "outputs": [
    {
     "name": "stdout",
     "output_type": "stream",
     "text": [
      "Total number of centers :  77\n"
     ]
    }
   ],
   "source": [
    "print(\"Total number of centers : \",data['center_id'].nunique())"
   ]
  },
  {
   "cell_type": "code",
   "execution_count": 86,
   "metadata": {},
   "outputs": [
    {
     "name": "stdout",
     "output_type": "stream",
     "text": [
      "Total Number of cities:  51\n"
     ]
    }
   ],
   "source": [
    "print(\"Total Number of cities: \",data['city_code'].nunique())"
   ]
  },
  {
   "cell_type": "code",
   "execution_count": 87,
   "metadata": {},
   "outputs": [
    {
     "name": "stdout",
     "output_type": "stream",
     "text": [
      "Total Number of areas:  30\n"
     ]
    }
   ],
   "source": [
    "print(\"Total Number of areas: \",data['op_area'].nunique())"
   ]
  },
  {
   "cell_type": "code",
   "execution_count": 88,
   "metadata": {},
   "outputs": [
    {
     "name": "stdout",
     "output_type": "stream",
     "text": [
      "Total Number of regions:  8\n"
     ]
    }
   ],
   "source": [
    "print(\"Total Number of regions: \",data['region_code'].nunique())"
   ]
  },
  {
   "cell_type": "markdown",
   "metadata": {},
   "source": [
    "    77 Centers in 51 Cities, so some city have more than 1 center.\n",
    "    30 areas and 8regions in the 77 centers.\n",
    "    Category has Beverages, Rice Bowl, Starters, Pasta, Sandwich, Biryani, Extras, Pizza, Seafood, Other Snacks, Desert,Salad, Fish, Soup.\n",
    "    Cuisine has Thai, Indian, Italian, Continental."
   ]
  },
  {
   "cell_type": "code",
   "execution_count": 89,
   "metadata": {},
   "outputs": [
    {
     "data": {
      "image/png": "[encoded data removed]",
      "text/plain": [
       "<Figure size 576x576 with 1 Axes>"
      ]
     },
     "metadata": {
      "needs_background": "light"
     },
     "output_type": "display_data"
    }
   ],
   "source": [
    "fig, ax = plt.subplots(figsize=(8,8))\n",
    "sns.countplot(y = data['category'], hue=data['cuisine'], ax=ax)\n",
    "plt.show()"
   ]
  },
  {
   "cell_type": "code",
   "execution_count": 90,
   "metadata": {},
   "outputs": [
    {
     "data": {
      "text/html": [
       "<div>\n",
       "<style scoped>\n",
       "    .dataframe tbody tr th:only-of-type {\n",
       "        vertical-align: middle;\n",
       "    }\n",
       "\n",
       "    .dataframe tbody tr th {\n",
       "        vertical-align: top;\n",
       "    }\n",
       "\n",
       "    .dataframe thead th {\n",
       "        text-align: right;\n",
       "    }\n",
       "</style>\n",
       "<table border=\"1\" class=\"dataframe\">\n",
       "  <thead>\n",
       "    <tr style=\"text-align: right;\">\n",
       "      <th></th>\n",
       "      <th></th>\n",
       "      <th></th>\n",
       "      <th>base_price</th>\n",
       "    </tr>\n",
       "    <tr>\n",
       "      <th>meal_id</th>\n",
       "      <th>center_id</th>\n",
       "      <th>week</th>\n",
       "      <th></th>\n",
       "    </tr>\n",
       "  </thead>\n",
       "  <tbody>\n",
       "    <tr>\n",
       "      <th rowspan=\"5\" valign=\"top\">1062</th>\n",
       "      <th rowspan=\"5\" valign=\"top\">10</th>\n",
       "      <th>1</th>\n",
       "      <td>181.39</td>\n",
       "    </tr>\n",
       "    <tr>\n",
       "      <th>2</th>\n",
       "      <td>182.36</td>\n",
       "    </tr>\n",
       "    <tr>\n",
       "      <th>3</th>\n",
       "      <td>182.36</td>\n",
       "    </tr>\n",
       "    <tr>\n",
       "      <th>4</th>\n",
       "      <td>183.36</td>\n",
       "    </tr>\n",
       "    <tr>\n",
       "      <th>5</th>\n",
       "      <td>181.39</td>\n",
       "    </tr>\n",
       "  </tbody>\n",
       "</table>\n",
       "</div>"
      ],
      "text/plain": [
       "                        base_price\n",
       "meal_id center_id week            \n",
       "1062    10        1         181.39\n",
       "                  2         182.36\n",
       "                  3         182.36\n",
       "                  4         183.36\n",
       "                  5         181.39"
      ]
     },
     "execution_count": 90,
     "metadata": {},
     "output_type": "execute_result"
    }
   ],
   "source": [
    "meal_base_price = data[['week', 'center_id', 'meal_id', 'base_price']]\n",
    "meal_base_price = meal_base_price.set_index(['meal_id', 'center_id', 'week'])\n",
    "meal_base_price = meal_base_price.sort_index()\n",
    "meal_base_price.head()"
   ]
  },
  {
   "cell_type": "code",
   "execution_count": 91,
   "metadata": {},
   "outputs": [
    {
     "data": {
      "text/html": [
       "<div>\n",
       "<style scoped>\n",
       "    .dataframe tbody tr th:only-of-type {\n",
       "        vertical-align: middle;\n",
       "    }\n",
       "\n",
       "    .dataframe tbody tr th {\n",
       "        vertical-align: top;\n",
       "    }\n",
       "\n",
       "    .dataframe thead th {\n",
       "        text-align: right;\n",
       "    }\n",
       "</style>\n",
       "<table border=\"1\" class=\"dataframe\">\n",
       "  <thead>\n",
       "    <tr style=\"text-align: right;\">\n",
       "      <th></th>\n",
       "      <th></th>\n",
       "      <th></th>\n",
       "      <th>num_orders</th>\n",
       "    </tr>\n",
       "    <tr>\n",
       "      <th>meal_id</th>\n",
       "      <th>center_id</th>\n",
       "      <th>week</th>\n",
       "      <th></th>\n",
       "    </tr>\n",
       "  </thead>\n",
       "  <tbody>\n",
       "    <tr>\n",
       "      <th rowspan=\"5\" valign=\"top\">1062</th>\n",
       "      <th rowspan=\"5\" valign=\"top\">10</th>\n",
       "      <th>1</th>\n",
       "      <td>191</td>\n",
       "    </tr>\n",
       "    <tr>\n",
       "      <th>2</th>\n",
       "      <td>171</td>\n",
       "    </tr>\n",
       "    <tr>\n",
       "      <th>3</th>\n",
       "      <td>187</td>\n",
       "    </tr>\n",
       "    <tr>\n",
       "      <th>4</th>\n",
       "      <td>265</td>\n",
       "    </tr>\n",
       "    <tr>\n",
       "      <th>5</th>\n",
       "      <td>210</td>\n",
       "    </tr>\n",
       "  </tbody>\n",
       "</table>\n",
       "</div>"
      ],
      "text/plain": [
       "                        num_orders\n",
       "meal_id center_id week            \n",
       "1062    10        1            191\n",
       "                  2            171\n",
       "                  3            187\n",
       "                  4            265\n",
       "                  5            210"
      ]
     },
     "execution_count": 91,
     "metadata": {},
     "output_type": "execute_result"
    }
   ],
   "source": [
    "meal_per_center = data[['week', 'center_id', 'meal_id', 'num_orders']]\n",
    "meal_per_center = meal_per_center.set_index(['meal_id', 'center_id', 'week'])\n",
    "meal_per_center = meal_per_center.sort_index()\n",
    "meal_per_center.head()"
   ]
  },
  {
   "cell_type": "code",
   "execution_count": 92,
   "metadata": {},
   "outputs": [
    {
     "data": {
      "text/html": [
       "<div>\n",
       "<style scoped>\n",
       "    .dataframe tbody tr th:only-of-type {\n",
       "        vertical-align: middle;\n",
       "    }\n",
       "\n",
       "    .dataframe tbody tr th {\n",
       "        vertical-align: top;\n",
       "    }\n",
       "\n",
       "    .dataframe thead th {\n",
       "        text-align: right;\n",
       "    }\n",
       "</style>\n",
       "<table border=\"1\" class=\"dataframe\">\n",
       "  <thead>\n",
       "    <tr style=\"text-align: right;\">\n",
       "      <th></th>\n",
       "      <th></th>\n",
       "      <th>num_orders</th>\n",
       "    </tr>\n",
       "    <tr>\n",
       "      <th>meal_id</th>\n",
       "      <th>week</th>\n",
       "      <th></th>\n",
       "    </tr>\n",
       "  </thead>\n",
       "  <tbody>\n",
       "    <tr>\n",
       "      <th rowspan=\"5\" valign=\"top\">1062</th>\n",
       "      <th>1</th>\n",
       "      <td>84</td>\n",
       "    </tr>\n",
       "    <tr>\n",
       "      <th>1</th>\n",
       "      <td>113</td>\n",
       "    </tr>\n",
       "    <tr>\n",
       "      <th>1</th>\n",
       "      <td>176</td>\n",
       "    </tr>\n",
       "    <tr>\n",
       "      <th>1</th>\n",
       "      <td>61</td>\n",
       "    </tr>\n",
       "    <tr>\n",
       "      <th>1</th>\n",
       "      <td>54</td>\n",
       "    </tr>\n",
       "  </tbody>\n",
       "</table>\n",
       "</div>"
      ],
      "text/plain": [
       "              num_orders\n",
       "meal_id week            \n",
       "1062    1             84\n",
       "        1            113\n",
       "        1            176\n",
       "        1             61\n",
       "        1             54"
      ]
     },
     "execution_count": 92,
     "metadata": {},
     "output_type": "execute_result"
    }
   ],
   "source": [
    "meal_across_center = data[['week', 'meal_id', 'num_orders']]\n",
    "meal_across_center = meal_across_center.set_index(['meal_id', 'week'])\n",
    "meal_across_center = meal_across_center.sort_index()\n",
    "meal_across_center.head()"
   ]
  },
  {
   "cell_type": "markdown",
   "metadata": {},
   "source": [
    "# Training and Testing the Data"
   ]
  },
  {
   "cell_type": "code",
   "execution_count": 93,
   "metadata": {},
   "outputs": [
    {
     "data": {
      "text/html": [
       "<div>\n",
       "<style scoped>\n",
       "    .dataframe tbody tr th:only-of-type {\n",
       "        vertical-align: middle;\n",
       "    }\n",
       "\n",
       "    .dataframe tbody tr th {\n",
       "        vertical-align: top;\n",
       "    }\n",
       "\n",
       "    .dataframe thead th {\n",
       "        text-align: right;\n",
       "    }\n",
       "</style>\n",
       "<table border=\"1\" class=\"dataframe\">\n",
       "  <thead>\n",
       "    <tr style=\"text-align: right;\">\n",
       "      <th></th>\n",
       "      <th>base_price</th>\n",
       "      <th>center_id</th>\n",
       "      <th>checkout_price</th>\n",
       "      <th>city_code</th>\n",
       "      <th>emailer_for_promotion</th>\n",
       "      <th>homepage_featured</th>\n",
       "      <th>id</th>\n",
       "      <th>meal_id</th>\n",
       "      <th>op_area</th>\n",
       "      <th>region_code</th>\n",
       "      <th>week</th>\n",
       "      <th>category</th>\n",
       "      <th>center_type</th>\n",
       "      <th>cuisine</th>\n",
       "    </tr>\n",
       "  </thead>\n",
       "  <tbody>\n",
       "    <tr>\n",
       "      <th>0</th>\n",
       "      <td>152.29</td>\n",
       "      <td>55</td>\n",
       "      <td>136.83</td>\n",
       "      <td>647</td>\n",
       "      <td>0</td>\n",
       "      <td>0</td>\n",
       "      <td>1379560</td>\n",
       "      <td>1885</td>\n",
       "      <td>2.0</td>\n",
       "      <td>56</td>\n",
       "      <td>1</td>\n",
       "      <td>0</td>\n",
       "      <td>2</td>\n",
       "      <td>0</td>\n",
       "    </tr>\n",
       "    <tr>\n",
       "      <th>1</th>\n",
       "      <td>152.29</td>\n",
       "      <td>55</td>\n",
       "      <td>135.83</td>\n",
       "      <td>647</td>\n",
       "      <td>0</td>\n",
       "      <td>0</td>\n",
       "      <td>1018704</td>\n",
       "      <td>1885</td>\n",
       "      <td>2.0</td>\n",
       "      <td>56</td>\n",
       "      <td>2</td>\n",
       "      <td>0</td>\n",
       "      <td>2</td>\n",
       "      <td>0</td>\n",
       "    </tr>\n",
       "    <tr>\n",
       "      <th>2</th>\n",
       "      <td>133.92</td>\n",
       "      <td>55</td>\n",
       "      <td>132.92</td>\n",
       "      <td>647</td>\n",
       "      <td>0</td>\n",
       "      <td>0</td>\n",
       "      <td>1196273</td>\n",
       "      <td>1885</td>\n",
       "      <td>2.0</td>\n",
       "      <td>56</td>\n",
       "      <td>3</td>\n",
       "      <td>0</td>\n",
       "      <td>2</td>\n",
       "      <td>0</td>\n",
       "    </tr>\n",
       "    <tr>\n",
       "      <th>3</th>\n",
       "      <td>134.86</td>\n",
       "      <td>55</td>\n",
       "      <td>135.86</td>\n",
       "      <td>647</td>\n",
       "      <td>0</td>\n",
       "      <td>0</td>\n",
       "      <td>1116527</td>\n",
       "      <td>1885</td>\n",
       "      <td>2.0</td>\n",
       "      <td>56</td>\n",
       "      <td>4</td>\n",
       "      <td>0</td>\n",
       "      <td>2</td>\n",
       "      <td>0</td>\n",
       "    </tr>\n",
       "    <tr>\n",
       "      <th>4</th>\n",
       "      <td>147.50</td>\n",
       "      <td>55</td>\n",
       "      <td>146.50</td>\n",
       "      <td>647</td>\n",
       "      <td>0</td>\n",
       "      <td>0</td>\n",
       "      <td>1343872</td>\n",
       "      <td>1885</td>\n",
       "      <td>2.0</td>\n",
       "      <td>56</td>\n",
       "      <td>5</td>\n",
       "      <td>0</td>\n",
       "      <td>2</td>\n",
       "      <td>0</td>\n",
       "    </tr>\n",
       "  </tbody>\n",
       "</table>\n",
       "</div>"
      ],
      "text/plain": [
       "   base_price  center_id  checkout_price  city_code  emailer_for_promotion  \\\n",
       "0      152.29         55          136.83        647                      0   \n",
       "1      152.29         55          135.83        647                      0   \n",
       "2      133.92         55          132.92        647                      0   \n",
       "3      134.86         55          135.86        647                      0   \n",
       "4      147.50         55          146.50        647                      0   \n",
       "\n",
       "   homepage_featured       id  meal_id  op_area  region_code  week  category  \\\n",
       "0                  0  1379560     1885      2.0           56     1         0   \n",
       "1                  0  1018704     1885      2.0           56     2         0   \n",
       "2                  0  1196273     1885      2.0           56     3         0   \n",
       "3                  0  1116527     1885      2.0           56     4         0   \n",
       "4                  0  1343872     1885      2.0           56     5         0   \n",
       "\n",
       "   center_type  cuisine  \n",
       "0            2        0  \n",
       "1            2        0  \n",
       "2            2        0  \n",
       "3            2        0  \n",
       "4            2        0  "
      ]
     },
     "execution_count": 93,
     "metadata": {},
     "output_type": "execute_result"
    }
   ],
   "source": [
    "X = data.loc[:, ['base_price','center_id','checkout_price','city_code','emailer_for_promotion',\n",
    "               'homepage_featured','id','meal_id','op_area','region_code','week','category','center_type','cuisine']]\n",
    "X.head()"
   ]
  },
  {
   "cell_type": "code",
   "execution_count": 94,
   "metadata": {},
   "outputs": [
    {
     "data": {
      "text/html": [
       "<div>\n",
       "<style scoped>\n",
       "    .dataframe tbody tr th:only-of-type {\n",
       "        vertical-align: middle;\n",
       "    }\n",
       "\n",
       "    .dataframe tbody tr th {\n",
       "        vertical-align: top;\n",
       "    }\n",
       "\n",
       "    .dataframe thead th {\n",
       "        text-align: right;\n",
       "    }\n",
       "</style>\n",
       "<table border=\"1\" class=\"dataframe\">\n",
       "  <thead>\n",
       "    <tr style=\"text-align: right;\">\n",
       "      <th></th>\n",
       "      <th>num_orders</th>\n",
       "    </tr>\n",
       "  </thead>\n",
       "  <tbody>\n",
       "    <tr>\n",
       "      <th>0</th>\n",
       "      <td>38</td>\n",
       "    </tr>\n",
       "    <tr>\n",
       "      <th>1</th>\n",
       "      <td>69</td>\n",
       "    </tr>\n",
       "    <tr>\n",
       "      <th>2</th>\n",
       "      <td>20</td>\n",
       "    </tr>\n",
       "    <tr>\n",
       "      <th>3</th>\n",
       "      <td>35</td>\n",
       "    </tr>\n",
       "    <tr>\n",
       "      <th>4</th>\n",
       "      <td>45</td>\n",
       "    </tr>\n",
       "  </tbody>\n",
       "</table>\n",
       "</div>"
      ],
      "text/plain": [
       "   num_orders\n",
       "0          38\n",
       "1          69\n",
       "2          20\n",
       "3          35\n",
       "4          45"
      ]
     },
     "execution_count": 94,
     "metadata": {},
     "output_type": "execute_result"
    }
   ],
   "source": [
    "Y = data.loc[:, ['num_orders']]\n",
    "Y.head()"
   ]
  },
  {
   "cell_type": "code",
   "execution_count": 95,
   "metadata": {},
   "outputs": [
    {
     "name": "stdout",
     "output_type": "stream",
     "text": [
      "410893\n"
     ]
    }
   ],
   "source": [
    "X_train, X_test, y_train, y_test = train_test_split(X, Y, test_size=0.10,random_state=42,shuffle=True)\n",
    "print(len(X_train))"
   ]
  },
  {
   "cell_type": "markdown",
   "metadata": {},
   "source": [
    "# Linear Regression"
   ]
  },
  {
   "cell_type": "code",
   "execution_count": 96,
   "metadata": {},
   "outputs": [
    {
     "data": {
      "text/plain": [
       "LinearRegression(copy_X=True, fit_intercept=True, n_jobs=None,\n",
       "         normalize=False)"
      ]
     },
     "execution_count": 96,
     "metadata": {},
     "output_type": "execute_result"
    }
   ],
   "source": [
    "from sklearn.linear_model import LinearRegression\n",
    "regressor = LinearRegression()  \n",
    "regressor.fit(X_train, y_train)"
   ]
  },
  {
   "cell_type": "code",
   "execution_count": 97,
   "metadata": {},
   "outputs": [
    {
     "data": {
      "text/plain": [
       "array([[61.43188499],\n",
       "       [41.4263929 ],\n",
       "       [-1.82120178],\n",
       "       ...,\n",
       "       [38.6626902 ],\n",
       "       [59.44729757],\n",
       "       [64.99145375]])"
      ]
     },
     "execution_count": 97,
     "metadata": {},
     "output_type": "execute_result"
    }
   ],
   "source": [
    "y_pred = regressor.predict(X_test)\n",
    "y_pred"
   ]
  },
  {
   "cell_type": "code",
   "execution_count": 98,
   "metadata": {},
   "outputs": [
    {
     "data": {
      "text/plain": [
       "45655"
      ]
     },
     "execution_count": 98,
     "metadata": {},
     "output_type": "execute_result"
    }
   ],
   "source": [
    "len(y_pred)"
   ]
  },
  {
   "cell_type": "code",
   "execution_count": 99,
   "metadata": {},
   "outputs": [],
   "source": [
    "lm = LinearRegression()\n",
    "model = lm.fit(X_train,y_train)"
   ]
  },
  {
   "cell_type": "code",
   "execution_count": 100,
   "metadata": {},
   "outputs": [
    {
     "name": "stdout",
     "output_type": "stream",
     "text": [
      "a0 =  [13.79683453]\n",
      "Coeff =  [[-9.95492409e-02 -7.99749863e-02 -8.31603622e-02  2.93280494e-02\n",
      "   6.71144172e+01  5.60122498e+01  4.85218683e-07  5.16831016e-03\n",
      "   1.40740770e+01  1.33252201e-01 -9.44942757e-03 -1.49567847e+00\n",
      "  -9.44599025e-01  9.93522177e+00]]\n"
     ]
    }
   ],
   "source": [
    "print(\"a0 = \",lm.intercept_)\n",
    "print(\"Coeff = \",lm.coef_)"
   ]
  },
  {
   "cell_type": "code",
   "execution_count": 101,
   "metadata": {},
   "outputs": [
    {
     "data": {
      "text/plain": [
       "69.35828277106378"
      ]
     },
     "execution_count": 101,
     "metadata": {},
     "output_type": "execute_result"
    }
   ],
   "source": [
    "from sklearn.metrics import r2_score, mean_squared_error\n",
    "rmse = np.sqrt(mean_squared_error(y_test, y_pred))\n",
    "rmse"
   ]
  },
  {
   "cell_type": "code",
   "execution_count": 102,
   "metadata": {},
   "outputs": [
    {
     "data": {
      "text/plain": [
       "0.260619065400138"
      ]
     },
     "execution_count": 102,
     "metadata": {},
     "output_type": "execute_result"
    }
   ],
   "source": [
    "r2 = r2_score(y_test, y_pred)\n",
    "r2"
   ]
  },
  {
   "cell_type": "code",
   "execution_count": 103,
   "metadata": {},
   "outputs": [
    {
     "name": "stdout",
     "output_type": "stream",
     "text": [
      "Mean Absolute Error: 42.41584633445701\n",
      "Mean Squared Error: 4810.571388950842\n",
      "Root Mean Squared Error: 69.35828277106378\n"
     ]
    }
   ],
   "source": [
    "from sklearn import metrics\n",
    "print('Mean Absolute Error:', metrics.mean_absolute_error(y_test, y_pred))  \n",
    "print('Mean Squared Error:', metrics.mean_squared_error(y_test, y_pred))  \n",
    "print('Root Mean Squared Error:', np.sqrt(metrics.mean_squared_error(y_test, y_pred)))"
   ]
  },
  {
   "cell_type": "markdown",
   "metadata": {},
   "source": [
    "# Ridge Regression"
   ]
  },
  {
   "cell_type": "code",
   "execution_count": 104,
   "metadata": {},
   "outputs": [],
   "source": [
    "from sklearn.linear_model import Ridge\n",
    "\n",
    "## training the model\n",
    "\n",
    "ridgeReg = Ridge(alpha=0.05, normalize=True)\n",
    "ridgeReg.fit(X_train,y_train)\n",
    "pred = ridgeReg.predict(X_test)\n",
    "\n",
    "## calculating mse\n",
    "\n",
    "mse = np.mean((pred - y_test)**2)"
   ]
  },
  {
   "cell_type": "code",
   "execution_count": 105,
   "metadata": {},
   "outputs": [
    {
     "data": {
      "text/plain": [
       "num_orders    4809.047404\n",
       "dtype: float64"
      ]
     },
     "execution_count": 105,
     "metadata": {},
     "output_type": "execute_result"
    }
   ],
   "source": [
    "mse"
   ]
  },
  {
   "cell_type": "code",
   "execution_count": 106,
   "metadata": {},
   "outputs": [
    {
     "data": {
      "text/plain": [
       "0.26085330062963896"
      ]
     },
     "execution_count": 106,
     "metadata": {},
     "output_type": "execute_result"
    }
   ],
   "source": [
    "## calculating score \n",
    "ridgeReg.score(X_test,y_test)"
   ]
  },
  {
   "cell_type": "markdown",
   "metadata": {},
   "source": [
    "# KNN"
   ]
  },
  {
   "cell_type": "code",
   "execution_count": 107,
   "metadata": {},
   "outputs": [],
   "source": [
    "from sklearn.tree import DecisionTreeRegressor\n",
    "from sklearn.neighbors import KNeighborsRegressor\n",
    "from sklearn.ensemble import GradientBoostingRegressor"
   ]
  },
  {
   "cell_type": "code",
   "execution_count": 108,
   "metadata": {},
   "outputs": [
    {
     "name": "stdout",
     "output_type": "stream",
     "text": [
      "RMSLE: 125.62747136579159\n"
     ]
    }
   ],
   "source": [
    "KNN = KNeighborsRegressor()\n",
    "KNN.fit(X_train, y_train)\n",
    "y_pred = KNN.predict(X_test)\n",
    "y_pred[y_pred<0] = 0\n",
    "from sklearn import metrics\n",
    "print('RMSLE:', 100*np.sqrt(metrics.mean_squared_log_error(y_test, y_pred)))"
   ]
  },
  {
   "cell_type": "code",
   "execution_count": 109,
   "metadata": {},
   "outputs": [
    {
     "data": {
      "text/plain": [
       "array([[74.8],\n",
       "       [26. ],\n",
       "       [17.4],\n",
       "       ...,\n",
       "       [ 4.2],\n",
       "       [75.8],\n",
       "       [40. ]])"
      ]
     },
     "execution_count": 109,
     "metadata": {},
     "output_type": "execute_result"
    }
   ],
   "source": [
    "y_pred"
   ]
  },
  {
   "cell_type": "code",
   "execution_count": 110,
   "metadata": {},
   "outputs": [
    {
     "data": {
      "text/plain": [
       "45655"
      ]
     },
     "execution_count": 110,
     "metadata": {},
     "output_type": "execute_result"
    }
   ],
   "source": [
    "len(y_pred)"
   ]
  },
  {
   "cell_type": "code",
   "execution_count": 111,
   "metadata": {},
   "outputs": [
    {
     "name": "stdout",
     "output_type": "stream",
     "text": [
      "0.0952277757410519\n"
     ]
    }
   ],
   "source": [
    "r2 = r2_score(y_test,y_pred)\n",
    "print(r2)"
   ]
  },
  {
   "cell_type": "code",
   "execution_count": 112,
   "metadata": {},
   "outputs": [
    {
     "name": "stdout",
     "output_type": "stream",
     "text": [
      "Root Mean Squared Error: 76.72445954431132\n"
     ]
    }
   ],
   "source": [
    "print('Root Mean Squared Error:', np.sqrt(metrics.mean_squared_error(y_test, y_pred)))"
   ]
  },
  {
   "cell_type": "markdown",
   "metadata": {},
   "source": [
    "# Multiple Linear Regression"
   ]
  },
  {
   "cell_type": "code",
   "execution_count": 113,
   "metadata": {},
   "outputs": [
    {
     "data": {
      "text/plain": [
       "LinearRegression(copy_X=True, fit_intercept=True, n_jobs=None,\n",
       "         normalize=False)"
      ]
     },
     "execution_count": 113,
     "metadata": {},
     "output_type": "execute_result"
    }
   ],
   "source": [
    "from sklearn import linear_model\n",
    "\n",
    "model = linear_model.LinearRegression()\n",
    "model.fit(X_train,y_train)"
   ]
  },
  {
   "cell_type": "code",
   "execution_count": 114,
   "metadata": {},
   "outputs": [
    {
     "name": "stdout",
     "output_type": "stream",
     "text": [
      "coefficient of determination R^2 of the prediction.:  0.26117716843388894\n",
      "Mean squared error: 4810.57\n",
      "Test Variance score: 0.26\n"
     ]
    }
   ],
   "source": [
    "from sklearn.metrics import mean_squared_error, r2_score\n",
    "model_score = model.score(X_train,y_train)\n",
    "\n",
    "print('coefficient of determination R^2 of the prediction.: ',model_score)\n",
    "y_predicted = model.predict(X_test)\n",
    "\n",
    "print(\"Mean squared error: %.2f\"% mean_squared_error(y_test, y_predicted))\n",
    "print('Test Variance score: %.2f' % r2_score(y_test, y_predicted))"
   ]
  },
  {
   "cell_type": "markdown",
   "metadata": {},
   "source": [
    "# Naive Bayes"
   ]
  },
  {
   "cell_type": "code",
   "execution_count": 116,
   "metadata": {},
   "outputs": [
    {
     "name": "stdout",
     "output_type": "stream",
     "text": [
      "Gaussian Naive Bayes model accuracy(in %): 2.711641660278173\n"
     ]
    }
   ],
   "source": [
    "from sklearn.naive_bayes import GaussianNB \n",
    "gnb = GaussianNB() \n",
    "gnb.fit(X_train, y_train) \n",
    "\n",
    "# making predictions on the testing set \n",
    "y_pred = gnb.predict(X_test) \n",
    "  \n",
    "# comparing actual response values (y_test) with predicted response values (y_pred) \n",
    "from sklearn import metrics \n",
    "print(\"Gaussian Naive Bayes model accuracy(in %):\", metrics.accuracy_score(y_test, y_pred)*100)"
   ]
  },
  {
   "cell_type": "code",
   "execution_count": 117,
   "metadata": {},
   "outputs": [
    {
     "name": "stdout",
     "output_type": "stream",
     "text": [
      "-4.52817401984493\n"
     ]
    }
   ],
   "source": [
    "r2 = r2_score(y_test,y_pred)\n",
    "print(r2)"
   ]
  },
  {
   "cell_type": "code",
   "execution_count": 119,
   "metadata": {},
   "outputs": [
    {
     "name": "stdout",
     "output_type": "stream",
     "text": [
      "RMSE: 189.650967\n"
     ]
    }
   ],
   "source": [
    "rmse = np.sqrt(mean_squared_error(y_test, y_pred))\n",
    "print(\"RMSE: %f\" % (rmse))"
   ]
  },
  {
   "cell_type": "markdown",
   "metadata": {},
   "source": [
    "# K-Means Clustering"
   ]
  },
  {
   "cell_type": "code",
   "execution_count": 120,
   "metadata": {},
   "outputs": [
    {
     "data": {
      "text/html": [
       "<div>\n",
       "<style scoped>\n",
       "    .dataframe tbody tr th:only-of-type {\n",
       "        vertical-align: middle;\n",
       "    }\n",
       "\n",
       "    .dataframe tbody tr th {\n",
       "        vertical-align: top;\n",
       "    }\n",
       "\n",
       "    .dataframe thead th {\n",
       "        text-align: right;\n",
       "    }\n",
       "</style>\n",
       "<table border=\"1\" class=\"dataframe\">\n",
       "  <thead>\n",
       "    <tr style=\"text-align: right;\">\n",
       "      <th></th>\n",
       "      <th>0</th>\n",
       "      <th>1</th>\n",
       "      <th>2</th>\n",
       "      <th>3</th>\n",
       "      <th>4</th>\n",
       "      <th>5</th>\n",
       "      <th>6</th>\n",
       "      <th>7</th>\n",
       "      <th>8</th>\n",
       "      <th>9</th>\n",
       "      <th>10</th>\n",
       "      <th>11</th>\n",
       "      <th>12</th>\n",
       "      <th>13</th>\n",
       "      <th>14</th>\n",
       "    </tr>\n",
       "  </thead>\n",
       "  <tbody>\n",
       "    <tr>\n",
       "      <th>count</th>\n",
       "      <td>4.565480e+05</td>\n",
       "      <td>4.565480e+05</td>\n",
       "      <td>4.565480e+05</td>\n",
       "      <td>4.565480e+05</td>\n",
       "      <td>4.565480e+05</td>\n",
       "      <td>4.565480e+05</td>\n",
       "      <td>4.565480e+05</td>\n",
       "      <td>4.565480e+05</td>\n",
       "      <td>4.565480e+05</td>\n",
       "      <td>4.565480e+05</td>\n",
       "      <td>4.565480e+05</td>\n",
       "      <td>4.565480e+05</td>\n",
       "      <td>4.565480e+05</td>\n",
       "      <td>4.565480e+05</td>\n",
       "      <td>4.565480e+05</td>\n",
       "    </tr>\n",
       "    <tr>\n",
       "      <th>mean</th>\n",
       "      <td>-2.300081e-14</td>\n",
       "      <td>2.744437e-13</td>\n",
       "      <td>-5.447953e-15</td>\n",
       "      <td>-2.221354e-13</td>\n",
       "      <td>1.327316e-13</td>\n",
       "      <td>-8.807071e-15</td>\n",
       "      <td>-3.770684e-13</td>\n",
       "      <td>2.098471e-13</td>\n",
       "      <td>-9.106340e-14</td>\n",
       "      <td>-5.292870e-16</td>\n",
       "      <td>4.207691e-14</td>\n",
       "      <td>8.404634e-14</td>\n",
       "      <td>1.730598e-14</td>\n",
       "      <td>-7.084341e-15</td>\n",
       "      <td>-2.336196e-15</td>\n",
       "    </tr>\n",
       "    <tr>\n",
       "      <th>std</th>\n",
       "      <td>1.000001e+00</td>\n",
       "      <td>1.000001e+00</td>\n",
       "      <td>1.000001e+00</td>\n",
       "      <td>1.000001e+00</td>\n",
       "      <td>1.000001e+00</td>\n",
       "      <td>1.000001e+00</td>\n",
       "      <td>1.000001e+00</td>\n",
       "      <td>1.000001e+00</td>\n",
       "      <td>1.000001e+00</td>\n",
       "      <td>1.000001e+00</td>\n",
       "      <td>1.000001e+00</td>\n",
       "      <td>1.000001e+00</td>\n",
       "      <td>1.000001e+00</td>\n",
       "      <td>1.000001e+00</td>\n",
       "      <td>1.000001e+00</td>\n",
       "    </tr>\n",
       "    <tr>\n",
       "      <th>min</th>\n",
       "      <td>-1.859224e+00</td>\n",
       "      <td>-1.098635e+00</td>\n",
       "      <td>-1.568370e+00</td>\n",
       "      <td>-7.870836e-01</td>\n",
       "      <td>-2.152935e+00</td>\n",
       "      <td>-2.198830e+00</td>\n",
       "      <td>-1.324220e+00</td>\n",
       "      <td>-2.971866e-01</td>\n",
       "      <td>-3.501233e-01</td>\n",
       "      <td>-1.732513e+00</td>\n",
       "      <td>-1.757950e+00</td>\n",
       "      <td>-6.697820e-01</td>\n",
       "      <td>-2.916216e+00</td>\n",
       "      <td>-1.905449e+00</td>\n",
       "      <td>-1.776494e+00</td>\n",
       "    </tr>\n",
       "    <tr>\n",
       "      <th>25%</th>\n",
       "      <td>-6.885239e-01</td>\n",
       "      <td>-1.098635e+00</td>\n",
       "      <td>-8.505884e-01</td>\n",
       "      <td>-7.870836e-01</td>\n",
       "      <td>-6.753579e-01</td>\n",
       "      <td>-7.334811e-01</td>\n",
       "      <td>-1.324220e+00</td>\n",
       "      <td>-2.971866e-01</td>\n",
       "      <td>-3.501233e-01</td>\n",
       "      <td>-8.665986e-01</td>\n",
       "      <td>-8.518819e-01</td>\n",
       "      <td>-5.499059e-01</td>\n",
       "      <td>-4.429756e-01</td>\n",
       "      <td>-1.281911e+00</td>\n",
       "      <td>-8.613810e-01</td>\n",
       "    </tr>\n",
       "    <tr>\n",
       "      <th>50%</th>\n",
       "      <td>-2.718877e-01</td>\n",
       "      <td>-1.431502e-01</td>\n",
       "      <td>-1.328069e-01</td>\n",
       "      <td>-7.870836e-01</td>\n",
       "      <td>-2.315878e-01</td>\n",
       "      <td>-8.389346e-02</td>\n",
       "      <td>-4.176101e-01</td>\n",
       "      <td>-2.971866e-01</td>\n",
       "      <td>-3.501233e-01</td>\n",
       "      <td>6.040287e-04</td>\n",
       "      <td>-5.724570e-02</td>\n",
       "      <td>-3.221414e-01</td>\n",
       "      <td>-7.656960e-02</td>\n",
       "      <td>-3.483682e-02</td>\n",
       "      <td>2.965036e-02</td>\n",
       "    </tr>\n",
       "    <tr>\n",
       "      <th>75%</th>\n",
       "      <td>6.515440e-01</td>\n",
       "      <td>8.123350e-01</td>\n",
       "      <td>6.067255e-01</td>\n",
       "      <td>4.382504e-01</td>\n",
       "      <td>7.387956e-01</td>\n",
       "      <td>7.469744e-01</td>\n",
       "      <td>4.889993e-01</td>\n",
       "      <td>-2.971866e-01</td>\n",
       "      <td>-3.501233e-01</td>\n",
       "      <td>8.662273e-01</td>\n",
       "      <td>9.401597e-01</td>\n",
       "      <td>1.693504e-01</td>\n",
       "      <td>3.814379e-01</td>\n",
       "      <td>1.155553e+00</td>\n",
       "      <td>8.725179e-01</td>\n",
       "    </tr>\n",
       "    <tr>\n",
       "      <th>max</th>\n",
       "      <td>3.186454e+00</td>\n",
       "      <td>2.006692e+00</td>\n",
       "      <td>2.259798e+00</td>\n",
       "      <td>1.663584e+00</td>\n",
       "      <td>3.491779e+00</td>\n",
       "      <td>1.683589e+00</td>\n",
       "      <td>1.395609e+00</td>\n",
       "      <td>3.364890e+00</td>\n",
       "      <td>2.856137e+00</td>\n",
       "      <td>1.731172e+00</td>\n",
       "      <td>1.701914e+00</td>\n",
       "      <td>1.430274e+01</td>\n",
       "      <td>2.671475e+00</td>\n",
       "      <td>2.062516e+00</td>\n",
       "      <td>1.691304e+00</td>\n",
       "    </tr>\n",
       "  </tbody>\n",
       "</table>\n",
       "</div>"
      ],
      "text/plain": [
       "                 0             1             2             3             4   \\\n",
       "count  4.565480e+05  4.565480e+05  4.565480e+05  4.565480e+05  4.565480e+05   \n",
       "mean  -2.300081e-14  2.744437e-13 -5.447953e-15 -2.221354e-13  1.327316e-13   \n",
       "std    1.000001e+00  1.000001e+00  1.000001e+00  1.000001e+00  1.000001e+00   \n",
       "min   -1.859224e+00 -1.098635e+00 -1.568370e+00 -7.870836e-01 -2.152935e+00   \n",
       "25%   -6.885239e-01 -1.098635e+00 -8.505884e-01 -7.870836e-01 -6.753579e-01   \n",
       "50%   -2.718877e-01 -1.431502e-01 -1.328069e-01 -7.870836e-01 -2.315878e-01   \n",
       "75%    6.515440e-01  8.123350e-01  6.067255e-01  4.382504e-01  7.387956e-01   \n",
       "max    3.186454e+00  2.006692e+00  2.259798e+00  1.663584e+00  3.491779e+00   \n",
       "\n",
       "                 5             6             7             8             9   \\\n",
       "count  4.565480e+05  4.565480e+05  4.565480e+05  4.565480e+05  4.565480e+05   \n",
       "mean  -8.807071e-15 -3.770684e-13  2.098471e-13 -9.106340e-14 -5.292870e-16   \n",
       "std    1.000001e+00  1.000001e+00  1.000001e+00  1.000001e+00  1.000001e+00   \n",
       "min   -2.198830e+00 -1.324220e+00 -2.971866e-01 -3.501233e-01 -1.732513e+00   \n",
       "25%   -7.334811e-01 -1.324220e+00 -2.971866e-01 -3.501233e-01 -8.665986e-01   \n",
       "50%   -8.389346e-02 -4.176101e-01 -2.971866e-01 -3.501233e-01  6.040287e-04   \n",
       "75%    7.469744e-01  4.889993e-01 -2.971866e-01 -3.501233e-01  8.662273e-01   \n",
       "max    1.683589e+00  1.395609e+00  3.364890e+00  2.856137e+00  1.731172e+00   \n",
       "\n",
       "                 10            11            12            13            14  \n",
       "count  4.565480e+05  4.565480e+05  4.565480e+05  4.565480e+05  4.565480e+05  \n",
       "mean   4.207691e-14  8.404634e-14  1.730598e-14 -7.084341e-15 -2.336196e-15  \n",
       "std    1.000001e+00  1.000001e+00  1.000001e+00  1.000001e+00  1.000001e+00  \n",
       "min   -1.757950e+00 -6.697820e-01 -2.916216e+00 -1.905449e+00 -1.776494e+00  \n",
       "25%   -8.518819e-01 -5.499059e-01 -4.429756e-01 -1.281911e+00 -8.613810e-01  \n",
       "50%   -5.724570e-02 -3.221414e-01 -7.656960e-02 -3.483682e-02  2.965036e-02  \n",
       "75%    9.401597e-01  1.693504e-01  3.814379e-01  1.155553e+00  8.725179e-01  \n",
       "max    1.701914e+00  1.430274e+01  2.671475e+00  2.062516e+00  1.691304e+00  "
      ]
     },
     "execution_count": 120,
     "metadata": {},
     "output_type": "execute_result"
    }
   ],
   "source": [
    "# standardizing the data\n",
    "from sklearn.preprocessing import StandardScaler\n",
    "scaler = StandardScaler()\n",
    "data_scaled = scaler.fit_transform(data)\n",
    "\n",
    "# statistics of scaled data\n",
    "pd.DataFrame(data_scaled).describe()"
   ]
  },
  {
   "cell_type": "code",
   "execution_count": 121,
   "metadata": {},
   "outputs": [
    {
     "data": {
      "text/plain": [
       "KMeans(algorithm='auto', copy_x=True, init='k-means++', max_iter=300,\n",
       "    n_clusters=2, n_init=10, n_jobs=None, precompute_distances='auto',\n",
       "    random_state=None, tol=0.0001, verbose=0)"
      ]
     },
     "execution_count": 121,
     "metadata": {},
     "output_type": "execute_result"
    }
   ],
   "source": [
    "from sklearn.preprocessing import LabelEncoder\n",
    "from sklearn.preprocessing import MinMaxScaler\n",
    "from sklearn.cluster import KMeans\n",
    "# defining the kmeans function with initialization as k-means++\n",
    "kmeans = KMeans(n_clusters=2, init='k-means++')\n",
    "\n",
    "# fitting the k means algorithm on scaled data\n",
    "kmeans.fit(data_scaled)"
   ]
  },
  {
   "cell_type": "code",
   "execution_count": 122,
   "metadata": {},
   "outputs": [
    {
     "data": {
      "text/plain": [
       "array([[0.11954323, 0.25568182, 0.15505618, ..., 0.        , 1.        ,\n",
       "        0.        ],\n",
       "       [0.11954323, 0.25568182, 0.15389783, ..., 0.        , 1.        ,\n",
       "        0.        ],\n",
       "       [0.09688995, 0.25568182, 0.15052705, ..., 0.        , 1.        ,\n",
       "        0.        ],\n",
       "       ...,\n",
       "       [0.64825137, 0.28977273, 0.67191011, ..., 0.92307692, 0.        ,\n",
       "        1.        ],\n",
       "       [0.64825137, 0.28977273, 0.67075177, ..., 0.92307692, 0.        ,\n",
       "        1.        ],\n",
       "       [0.64948454, 0.28977273, 0.66959342, ..., 0.92307692, 0.        ,\n",
       "        1.        ]])"
      ]
     },
     "execution_count": 122,
     "metadata": {},
     "output_type": "execute_result"
    }
   ],
   "source": [
    "scaler = MinMaxScaler()\n",
    "X_scaled = scaler.fit_transform(X)\n",
    "X_scaled"
   ]
  },
  {
   "cell_type": "code",
   "execution_count": 123,
   "metadata": {},
   "outputs": [
    {
     "data": {
      "text/plain": [
       "KMeans(algorithm='auto', copy_x=True, init='k-means++', max_iter=300,\n",
       "    n_clusters=2, n_init=10, n_jobs=None, precompute_distances='auto',\n",
       "    random_state=None, tol=0.0001, verbose=0)"
      ]
     },
     "execution_count": 123,
     "metadata": {},
     "output_type": "execute_result"
    }
   ],
   "source": [
    "kmeans.fit(X_scaled)"
   ]
  },
  {
   "cell_type": "code",
   "execution_count": 124,
   "metadata": {},
   "outputs": [
    {
     "name": "stdout",
     "output_type": "stream",
     "text": [
      "-4.52817401984493\n"
     ]
    }
   ],
   "source": [
    "r2 = r2_score(y_test,y_pred)\n",
    "print(r2)"
   ]
  },
  {
   "cell_type": "markdown",
   "metadata": {},
   "source": [
    "# Decision Tree"
   ]
  },
  {
   "cell_type": "code",
   "execution_count": 125,
   "metadata": {},
   "outputs": [
    {
     "name": "stdout",
     "output_type": "stream",
     "text": [
      "RMSLE: 80.30455110984605\n"
     ]
    }
   ],
   "source": [
    "DT = DecisionTreeRegressor()\n",
    "DT.fit(X_train, y_train)\n",
    "y_pred = DT.predict(X_test)\n",
    "y_pred[y_pred<0] = 0\n",
    "from sklearn import metrics\n",
    "print('RMSLE:', 100*np.sqrt(metrics.mean_squared_log_error(y_test, y_pred)))"
   ]
  },
  {
   "cell_type": "code",
   "execution_count": 126,
   "metadata": {},
   "outputs": [
    {
     "data": {
      "text/plain": [
       "array([92., 41., 15., ...,  4., 29., 43.])"
      ]
     },
     "execution_count": 126,
     "metadata": {},
     "output_type": "execute_result"
    }
   ],
   "source": [
    "y_pred"
   ]
  },
  {
   "cell_type": "code",
   "execution_count": 128,
   "metadata": {},
   "outputs": [
    {
     "name": "stdout",
     "output_type": "stream",
     "text": [
      "RMSE: 40.255367\n"
     ]
    }
   ],
   "source": [
    "rmse = np.sqrt(mean_squared_error(y_test, y_pred))\n",
    "print(\"RMSE: %f\" % (rmse))"
   ]
  },
  {
   "cell_type": "code",
   "execution_count": 129,
   "metadata": {},
   "outputs": [
    {
     "name": "stdout",
     "output_type": "stream",
     "text": [
      "0.7509312962648635\n"
     ]
    }
   ],
   "source": [
    "r2 = r2_score(y_test,y_pred)\n",
    "print(r2)"
   ]
  },
  {
   "cell_type": "markdown",
   "metadata": {},
   "source": [
    "# XGBoost Classifier"
   ]
  },
  {
   "cell_type": "code",
   "execution_count": 130,
   "metadata": {},
   "outputs": [
    {
     "name": "stdout",
     "output_type": "stream",
     "text": [
      "Requirement already satisfied: xgboost in c:\\programdata\\anaconda3\\lib\\site-packages (0.90)\n",
      "Requirement already satisfied: scipy in c:\\programdata\\anaconda3\\lib\\site-packages (from xgboost) (1.1.0)\n",
      "Requirement already satisfied: numpy in c:\\programdata\\anaconda3\\lib\\site-packages (from xgboost) (1.15.4)\n"
     ]
    }
   ],
   "source": [
    "!pip install xgboost"
   ]
  },
  {
   "cell_type": "code",
   "execution_count": 131,
   "metadata": {},
   "outputs": [],
   "source": [
    "import xgboost as xgb"
   ]
  },
  {
   "cell_type": "code",
   "execution_count": 132,
   "metadata": {},
   "outputs": [
    {
     "name": "stdout",
     "output_type": "stream",
     "text": [
      "[09:50:58] WARNING: C:/Jenkins/workspace/xgboost-win64_release_0.90/src/objective/regression_obj.cu:152: reg:linear is now deprecated in favor of reg:squarederror.\n"
     ]
    },
    {
     "data": {
      "text/plain": [
       "XGBRegressor(alpha=10, base_score=0.5, booster='gbtree', colsample_bylevel=1,\n",
       "       colsample_bynode=1, colsample_bytree=0.3, gamma=0,\n",
       "       importance_type='gain', learning_rate=0.1, max_delta_step=0,\n",
       "       max_depth=5, min_child_weight=1, missing=None, n_estimators=10,\n",
       "       n_jobs=1, nthread=None, objective='reg:linear', random_state=0,\n",
       "       reg_alpha=0, reg_lambda=1, scale_pos_weight=1, seed=None,\n",
       "       silent=None, subsample=1, verbosity=1)"
      ]
     },
     "execution_count": 132,
     "metadata": {},
     "output_type": "execute_result"
    }
   ],
   "source": [
    "xg_reg = xgb.XGBRegressor(objective ='reg:linear', colsample_bytree = 0.3, learning_rate = 0.1,\n",
    "                max_depth = 5, alpha = 10, n_estimators = 10)\n",
    "xg_reg.fit(X_train,y_train)\n",
    "xg_reg"
   ]
  },
  {
   "cell_type": "code",
   "execution_count": 133,
   "metadata": {},
   "outputs": [],
   "source": [
    "preds = xg_reg.predict(X_test)"
   ]
  },
  {
   "cell_type": "code",
   "execution_count": 134,
   "metadata": {},
   "outputs": [
    {
     "name": "stdout",
     "output_type": "stream",
     "text": [
      "[54.65122  33.50719  27.004702 ... 16.078442 43.832    21.47238 ]\n"
     ]
    }
   ],
   "source": [
    "print(preds)"
   ]
  },
  {
   "cell_type": "code",
   "execution_count": 135,
   "metadata": {},
   "outputs": [
    {
     "name": "stdout",
     "output_type": "stream",
     "text": [
      "RMSE: 69.113985\n"
     ]
    }
   ],
   "source": [
    "rmse = np.sqrt(mean_squared_error(y_test, preds))\n",
    "print(\"RMSE: %f\" % (rmse))"
   ]
  },
  {
   "cell_type": "code",
   "execution_count": 136,
   "metadata": {},
   "outputs": [
    {
     "name": "stdout",
     "output_type": "stream",
     "text": [
      "0.7509312962648635\n"
     ]
    }
   ],
   "source": [
    "r2 = r2_score(y_test,y_pred)\n",
    "print(r2)"
   ]
  },
  {
   "cell_type": "markdown",
   "metadata": {},
   "source": [
    "# Time Series"
   ]
  },
  {
   "cell_type": "code",
   "execution_count": 137,
   "metadata": {},
   "outputs": [],
   "source": [
    "from statsmodels.tsa.stattools import adfuller\n",
    "def test_stationarity(timeseries):\n",
    "    rolmean = timeseries.rolling(12).mean()\n",
    "    rolstd = timeseries.rolling(12).std()\n",
    "\n",
    "    #Plot rolling statistics:\n",
    "    orig = plt.plot(timeseries, color='blue',label='Original')\n",
    "    mean = plt.plot(rolmean, color='red', label='Rolling Mean')\n",
    "    std = plt.plot(rolstd, color='black', label = 'Rolling Std')\n",
    "    plt.legend(loc='best')\n",
    "    plt.title('Rolling Mean & Standard Deviation')\n",
    "    plt.show(block=False)\n",
    "    \n",
    "     #Perform Dickey-Fuller test:\n",
    "    print('Results of Dickey-Fuller Test:')\n",
    "    dftest = adfuller(timeseries, autolag='AIC')\n",
    "    dfoutput = pd.Series(dftest[0:4], index=['Test Statistic','p-value','#Lags Used','Number of Observations Used'])\n",
    "    for key,value in dftest[4].items():\n",
    "        dfoutput['Critical Value (%s)'%key] = value\n",
    "    print(dfoutput)"
   ]
  }
 ],
 "metadata": {
  "kernelspec": {
   "display_name": "Python 3",
   "language": "python",
   "name": "python3"
  },
  "language_info": {
   "codemirror_mode": {
    "name": "ipython",
    "version": 3
   },
   "file_extension": ".py",
   "mimetype": "text/x-python",
   "name": "python",
   "nbconvert_exporter": "python",
   "pygments_lexer": "ipython3",
   "version": "3.7.1"
  }
 },
 "nbformat": 4,
 "nbformat_minor": 2
}
